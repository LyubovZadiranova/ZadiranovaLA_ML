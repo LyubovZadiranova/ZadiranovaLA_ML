{
  "nbformat": 4,
  "nbformat_minor": 0,
  "metadata": {
    "colab": {
      "name": "ResNet20.ipynb",
      "provenance": [],
      "collapsed_sections": [],
      "authorship_tag": "ABX9TyPL2BabSmi6bjgUPOKhDIcL",
      "include_colab_link": true
    },
    "kernelspec": {
      "name": "python3",
      "display_name": "Python 3"
    },
    "accelerator": "GPU",
    "widgets": {
      "application/vnd.jupyter.widget-state+json": {
        "75b4a63169b34b4eb1270a2abf3b1638": {
          "model_module": "@jupyter-widgets/controls",
          "model_name": "HBoxModel",
          "state": {
            "_view_name": "HBoxView",
            "_dom_classes": [],
            "_model_name": "HBoxModel",
            "_view_module": "@jupyter-widgets/controls",
            "_model_module_version": "1.5.0",
            "_view_count": null,
            "_view_module_version": "1.5.0",
            "box_style": "",
            "layout": "IPY_MODEL_dd66ae6f83894b00ae52d1c54b2715e9",
            "_model_module": "@jupyter-widgets/controls",
            "children": [
              "IPY_MODEL_3f9f5e6a157f4628bad6b555973dbdd4",
              "IPY_MODEL_80179f90f80b48519c759d604ce063e1"
            ]
          }
        },
        "dd66ae6f83894b00ae52d1c54b2715e9": {
          "model_module": "@jupyter-widgets/base",
          "model_name": "LayoutModel",
          "state": {
            "_view_name": "LayoutView",
            "grid_template_rows": null,
            "right": null,
            "justify_content": null,
            "_view_module": "@jupyter-widgets/base",
            "overflow": null,
            "_model_module_version": "1.2.0",
            "_view_count": null,
            "flex_flow": null,
            "width": null,
            "min_width": null,
            "border": null,
            "align_items": null,
            "bottom": null,
            "_model_module": "@jupyter-widgets/base",
            "top": null,
            "grid_column": null,
            "overflow_y": null,
            "overflow_x": null,
            "grid_auto_flow": null,
            "grid_area": null,
            "grid_template_columns": null,
            "flex": null,
            "_model_name": "LayoutModel",
            "justify_items": null,
            "grid_row": null,
            "max_height": null,
            "align_content": null,
            "visibility": null,
            "align_self": null,
            "height": null,
            "min_height": null,
            "padding": null,
            "grid_auto_rows": null,
            "grid_gap": null,
            "max_width": null,
            "order": null,
            "_view_module_version": "1.2.0",
            "grid_template_areas": null,
            "object_position": null,
            "object_fit": null,
            "grid_auto_columns": null,
            "margin": null,
            "display": null,
            "left": null
          }
        },
        "3f9f5e6a157f4628bad6b555973dbdd4": {
          "model_module": "@jupyter-widgets/controls",
          "model_name": "FloatProgressModel",
          "state": {
            "_view_name": "ProgressView",
            "style": "IPY_MODEL_204fa31cef7d4b3c9be16e1bf2aaa3e2",
            "_dom_classes": [],
            "description": "",
            "_model_name": "FloatProgressModel",
            "bar_style": "success",
            "max": 1,
            "_view_module": "@jupyter-widgets/controls",
            "_model_module_version": "1.5.0",
            "value": 1,
            "_view_count": null,
            "_view_module_version": "1.5.0",
            "orientation": "horizontal",
            "min": 0,
            "description_tooltip": null,
            "_model_module": "@jupyter-widgets/controls",
            "layout": "IPY_MODEL_ce7a8a6ee2e242018994ca7a7a709e3e"
          }
        },
        "80179f90f80b48519c759d604ce063e1": {
          "model_module": "@jupyter-widgets/controls",
          "model_name": "HTMLModel",
          "state": {
            "_view_name": "HTMLView",
            "style": "IPY_MODEL_e8ebe52807624b2fa9267ddebb75d94e",
            "_dom_classes": [],
            "description": "",
            "_model_name": "HTMLModel",
            "placeholder": "​",
            "_view_module": "@jupyter-widgets/controls",
            "_model_module_version": "1.5.0",
            "value": " 170500096/? [00:09&lt;00:00, 17871737.62it/s]",
            "_view_count": null,
            "_view_module_version": "1.5.0",
            "description_tooltip": null,
            "_model_module": "@jupyter-widgets/controls",
            "layout": "IPY_MODEL_85b9ecd193ed49e186a9b630083cc069"
          }
        },
        "204fa31cef7d4b3c9be16e1bf2aaa3e2": {
          "model_module": "@jupyter-widgets/controls",
          "model_name": "ProgressStyleModel",
          "state": {
            "_view_name": "StyleView",
            "_model_name": "ProgressStyleModel",
            "description_width": "initial",
            "_view_module": "@jupyter-widgets/base",
            "_model_module_version": "1.5.0",
            "_view_count": null,
            "_view_module_version": "1.2.0",
            "bar_color": null,
            "_model_module": "@jupyter-widgets/controls"
          }
        },
        "ce7a8a6ee2e242018994ca7a7a709e3e": {
          "model_module": "@jupyter-widgets/base",
          "model_name": "LayoutModel",
          "state": {
            "_view_name": "LayoutView",
            "grid_template_rows": null,
            "right": null,
            "justify_content": null,
            "_view_module": "@jupyter-widgets/base",
            "overflow": null,
            "_model_module_version": "1.2.0",
            "_view_count": null,
            "flex_flow": null,
            "width": null,
            "min_width": null,
            "border": null,
            "align_items": null,
            "bottom": null,
            "_model_module": "@jupyter-widgets/base",
            "top": null,
            "grid_column": null,
            "overflow_y": null,
            "overflow_x": null,
            "grid_auto_flow": null,
            "grid_area": null,
            "grid_template_columns": null,
            "flex": null,
            "_model_name": "LayoutModel",
            "justify_items": null,
            "grid_row": null,
            "max_height": null,
            "align_content": null,
            "visibility": null,
            "align_self": null,
            "height": null,
            "min_height": null,
            "padding": null,
            "grid_auto_rows": null,
            "grid_gap": null,
            "max_width": null,
            "order": null,
            "_view_module_version": "1.2.0",
            "grid_template_areas": null,
            "object_position": null,
            "object_fit": null,
            "grid_auto_columns": null,
            "margin": null,
            "display": null,
            "left": null
          }
        },
        "e8ebe52807624b2fa9267ddebb75d94e": {
          "model_module": "@jupyter-widgets/controls",
          "model_name": "DescriptionStyleModel",
          "state": {
            "_view_name": "StyleView",
            "_model_name": "DescriptionStyleModel",
            "description_width": "",
            "_view_module": "@jupyter-widgets/base",
            "_model_module_version": "1.5.0",
            "_view_count": null,
            "_view_module_version": "1.2.0",
            "_model_module": "@jupyter-widgets/controls"
          }
        },
        "85b9ecd193ed49e186a9b630083cc069": {
          "model_module": "@jupyter-widgets/base",
          "model_name": "LayoutModel",
          "state": {
            "_view_name": "LayoutView",
            "grid_template_rows": null,
            "right": null,
            "justify_content": null,
            "_view_module": "@jupyter-widgets/base",
            "overflow": null,
            "_model_module_version": "1.2.0",
            "_view_count": null,
            "flex_flow": null,
            "width": null,
            "min_width": null,
            "border": null,
            "align_items": null,
            "bottom": null,
            "_model_module": "@jupyter-widgets/base",
            "top": null,
            "grid_column": null,
            "overflow_y": null,
            "overflow_x": null,
            "grid_auto_flow": null,
            "grid_area": null,
            "grid_template_columns": null,
            "flex": null,
            "_model_name": "LayoutModel",
            "justify_items": null,
            "grid_row": null,
            "max_height": null,
            "align_content": null,
            "visibility": null,
            "align_self": null,
            "height": null,
            "min_height": null,
            "padding": null,
            "grid_auto_rows": null,
            "grid_gap": null,
            "max_width": null,
            "order": null,
            "_view_module_version": "1.2.0",
            "grid_template_areas": null,
            "object_position": null,
            "object_fit": null,
            "grid_auto_columns": null,
            "margin": null,
            "display": null,
            "left": null
          }
        }
      }
    }
  },
  "cells": [
    {
      "cell_type": "markdown",
      "metadata": {
        "id": "view-in-github",
        "colab_type": "text"
      },
      "source": [
        "<a href=\"https://colab.research.google.com/github/LyubovZadiranova/ZadiranovaLA_ML/blob/master/ResNet20.ipynb\" target=\"_parent\"><img src=\"https://colab.research.google.com/assets/colab-badge.svg\" alt=\"Open In Colab\"/></a>"
      ]
    },
    {
      "cell_type": "code",
      "metadata": {
        "id": "x0dMyeqdoqeR"
      },
      "source": [
        "import torch\n",
        "import random\n",
        "import numpy as np\n",
        "\n",
        "\n",
        "random.seed(0)\n",
        "np.random.seed(0)\n",
        "torch.manual_seed(0)\n",
        "torch.cuda.manual_seed(0)\n",
        "torch.backends.cudnn.deterministic = True"
      ],
      "execution_count": 1,
      "outputs": []
    },
    {
      "cell_type": "code",
      "metadata": {
        "id": "GnDRp8c1Jbsc"
      },
      "source": [
        "import torchvision.datasets"
      ],
      "execution_count": 2,
      "outputs": []
    },
    {
      "cell_type": "code",
      "metadata": {
        "id": "ek873e14JclM",
        "outputId": "d49bb789-9a60-400e-8142-bff103523467",
        "colab": {
          "base_uri": "https://localhost:8080/",
          "height": 100,
          "referenced_widgets": [
            "75b4a63169b34b4eb1270a2abf3b1638",
            "dd66ae6f83894b00ae52d1c54b2715e9",
            "3f9f5e6a157f4628bad6b555973dbdd4",
            "80179f90f80b48519c759d604ce063e1",
            "204fa31cef7d4b3c9be16e1bf2aaa3e2",
            "ce7a8a6ee2e242018994ca7a7a709e3e",
            "e8ebe52807624b2fa9267ddebb75d94e",
            "85b9ecd193ed49e186a9b630083cc069"
          ]
        }
      },
      "source": [
        "CIFAR_train = torchvision.datasets.CIFAR10('./', download=True, train=True)\n",
        "CIFAR_test = torchvision.datasets.CIFAR10('./', download=True, train=False)"
      ],
      "execution_count": 3,
      "outputs": [
        {
          "output_type": "stream",
          "text": [
            "Downloading https://www.cs.toronto.edu/~kriz/cifar-10-python.tar.gz to ./cifar-10-python.tar.gz\n"
          ],
          "name": "stdout"
        },
        {
          "output_type": "display_data",
          "data": {
            "application/vnd.jupyter.widget-view+json": {
              "model_id": "75b4a63169b34b4eb1270a2abf3b1638",
              "version_minor": 0,
              "version_major": 2
            },
            "text/plain": [
              "HBox(children=(FloatProgress(value=1.0, bar_style='info', max=1.0), HTML(value='')))"
            ]
          },
          "metadata": {
            "tags": []
          }
        },
        {
          "output_type": "stream",
          "text": [
            "Extracting ./cifar-10-python.tar.gz to ./\n",
            "Files already downloaded and verified\n"
          ],
          "name": "stdout"
        }
      ]
    },
    {
      "cell_type": "code",
      "metadata": {
        "id": "Ngf3b7pgJfqu"
      },
      "source": [
        "X_train = torch.FloatTensor(CIFAR_train.data)\n",
        "y_train = torch.LongTensor(CIFAR_train.targets)\n",
        "X_test = torch.FloatTensor(CIFAR_test.data)\n",
        "y_test = torch.LongTensor(CIFAR_test.targets)"
      ],
      "execution_count": 4,
      "outputs": []
    },
    {
      "cell_type": "code",
      "metadata": {
        "id": "NEmQAIH0JjmR",
        "outputId": "e4841161-7891-4a7b-d151-cda142d66f3b",
        "colab": {
          "base_uri": "https://localhost:8080/"
        }
      },
      "source": [
        "len(y_train), len(y_test)"
      ],
      "execution_count": 5,
      "outputs": [
        {
          "output_type": "execute_result",
          "data": {
            "text/plain": [
              "(50000, 10000)"
            ]
          },
          "metadata": {
            "tags": []
          },
          "execution_count": 5
        }
      ]
    },
    {
      "cell_type": "code",
      "metadata": {
        "id": "ehpdd5ROJmFh",
        "outputId": "5010059e-d639-40b5-d37c-1654ef74aebe",
        "colab": {
          "base_uri": "https://localhost:8080/"
        }
      },
      "source": [
        "X_train.min(), X_train.max()"
      ],
      "execution_count": 6,
      "outputs": [
        {
          "output_type": "execute_result",
          "data": {
            "text/plain": [
              "(tensor(0.), tensor(255.))"
            ]
          },
          "metadata": {
            "tags": []
          },
          "execution_count": 6
        }
      ]
    },
    {
      "cell_type": "code",
      "metadata": {
        "id": "LvC6CglQJoy4"
      },
      "source": [
        "X_train /= 255.\n",
        "X_test /= 255."
      ],
      "execution_count": 7,
      "outputs": []
    },
    {
      "cell_type": "code",
      "metadata": {
        "id": "5qTOtyLxJtXZ",
        "outputId": "656a9595-c7f1-4b87-c615-b4b45f0b7f6b",
        "colab": {
          "base_uri": "https://localhost:8080/"
        }
      },
      "source": [
        "X_train.shape, y_train.shape"
      ],
      "execution_count": 8,
      "outputs": [
        {
          "output_type": "execute_result",
          "data": {
            "text/plain": [
              "(torch.Size([50000, 32, 32, 3]), torch.Size([50000]))"
            ]
          },
          "metadata": {
            "tags": []
          },
          "execution_count": 8
        }
      ]
    },
    {
      "cell_type": "code",
      "metadata": {
        "id": "8y09S-2rJwdT"
      },
      "source": [
        "X_train = X_train.permute(0, 3, 1, 2)\n",
        "X_test = X_test.permute(0, 3, 1, 2)"
      ],
      "execution_count": 9,
      "outputs": []
    },
    {
      "cell_type": "code",
      "metadata": {
        "id": "KZPTUcBsJzLj",
        "outputId": "049c4f48-0f03-46e2-85b2-8eb6ef7e6a4f",
        "colab": {
          "base_uri": "https://localhost:8080/"
        }
      },
      "source": [
        "X_train.shape"
      ],
      "execution_count": 10,
      "outputs": [
        {
          "output_type": "execute_result",
          "data": {
            "text/plain": [
              "torch.Size([50000, 3, 32, 32])"
            ]
          },
          "metadata": {
            "tags": []
          },
          "execution_count": 10
        }
      ]
    },
    {
      "cell_type": "code",
      "metadata": {
        "id": "2shtL4iYbGhT",
        "outputId": "1fa31b3c-2735-42f6-f792-ab7e44c6d3b1",
        "colab": {
          "base_uri": "https://localhost:8080/"
        }
      },
      "source": [
        "import torch\n",
        "import torch.nn as nn\n",
        "#from .utils import load_state_dict_from_url\n",
        "\n",
        "__all__ = ['ResNet', 'resnet18', 'resnet34', 'resnet50', 'resnet101',\n",
        "           'resnet152', 'resnext50_32x4d', 'resnext101_32x8d',\n",
        "           'wide_resnet50_2', 'wide_resnet101_2']\n",
        "\n",
        "def conv3x3(in_planes, out_planes, stride=1, groups=1, dilation=1):\n",
        "    \"\"\"3x3 convolution with padding\"\"\"\n",
        "    return nn.Conv2d(in_planes, out_planes, kernel_size=3, stride=stride,\n",
        "                     padding=dilation, groups=groups, bias=False, dilation=dilation)\n",
        "\n",
        "\n",
        "def conv1x1(in_planes, out_planes, stride=1):\n",
        "    \"\"\"1x1 convolution\"\"\"\n",
        "    return nn.Conv2d(in_planes, out_planes, kernel_size=1, stride=stride, bias=False)\n",
        "\n",
        "\n",
        "class BasicBlock(nn.Module):\n",
        "    expansion = 1\n",
        "\n",
        "    def __init__(self, inplanes, planes, stride=1, downsample=None, groups=1,\n",
        "                 base_width=64, dilation=1, norm_layer=None, use_batch_norm=True, use_drop_out=False, d_out_p=0.5):\n",
        "        super(BasicBlock, self).__init__()\n",
        "        if norm_layer is None:\n",
        "            norm_layer = nn.BatchNorm2d\n",
        "        if groups != 1 or base_width != 64:\n",
        "            raise ValueError('BasicBlock only supports groups=1 and base_width=64')\n",
        "        if dilation > 1:\n",
        "            raise NotImplementedError(\"Dilation > 1 not supported in BasicBlock\")\n",
        "        # Both self.conv1 and self.downsample layers downsample the input when stride != 1\n",
        "        self.use_batch_norm = use_batch_norm\n",
        "        self.use_drop_out = use_drop_out\n",
        "        self.d_out_p = d_out_p\n",
        "        self.conv1 = conv3x3(inplanes, planes, stride)\n",
        "        self.bn1 = norm_layer(planes)\n",
        "        self.d_out1 = torch.nn.Dropout2d(d_out_p)\n",
        "        self.relu = nn.ReLU(inplace=True)\n",
        "        self.conv2 = conv3x3(planes, planes)\n",
        "        self.bn2 = norm_layer(planes)\n",
        "        self.d_out2 = torch.nn.Dropout2d(d_out_p)\n",
        "        self.downsample = downsample\n",
        "        self.stride = stride\n",
        "\n",
        "    def forward(self, x):\n",
        "        identity = x\n",
        "\n",
        "        out = self.conv1(x)\n",
        "        if self.use_batch_norm:\n",
        "          out = self.bn1(out)\n",
        "        if self.use_drop_out:\n",
        "          out = self.d_out1(out)\n",
        "        out = self.relu(out)\n",
        "\n",
        "        out = self.conv2(out)\n",
        "        if self.use_batch_norm:\n",
        "          out = self.bn2(out)\n",
        "        if self.use_drop_out:\n",
        "          out = self.d_out2(out)\n",
        "\n",
        "        if self.downsample is not None:\n",
        "            identity = self.downsample(x)\n",
        "\n",
        "        out += identity\n",
        "        out = self.relu(out)\n",
        "\n",
        "        return out\n",
        "\n",
        "\n",
        "class Bottleneck(nn.Module):\n",
        "    expansion = 4\n",
        "\n",
        "    def __init__(self, inplanes, planes, stride=1, downsample=None, groups=1,\n",
        "                 base_width=64, dilation=1, norm_layer=None, use_batch_norm=True, use_drop_out=False, d_out_p=0.5):\n",
        "        super(Bottleneck, self).__init__()\n",
        "        self.use_batch_norm = use_batch_norm\n",
        "        self.use_drop_out = use_drop_out\n",
        "        self.d_out_p = d_out_p\n",
        "        if norm_layer is None:\n",
        "            norm_layer = nn.BatchNorm2d\n",
        "        width = int(planes * (base_width / 64.)) * groups\n",
        "        # Both self.conv2 and self.downsample layers downsample the input when stride != 1\n",
        "        self.conv1 = conv1x1(inplanes, width)\n",
        "        self.bn1 = norm_layer(width)\n",
        "        self.d_out1 = torch.nn.Dropout2d(d_out_p)\n",
        "        self.conv2 = conv3x3(width, width, stride, groups, dilation)\n",
        "        self.bn2 = norm_layer(width)\n",
        "        self.d_out2 = torch.nn.Dropout2d(d_out_p)\n",
        "        self.conv3 = conv1x1(width, planes * self.expansion)\n",
        "        self.bn3 = norm_layer(planes * self.expansion)\n",
        "        self.relu = nn.ReLU(inplace=True)\n",
        "        self.downsample = downsample\n",
        "        self.stride = stride\n",
        "\n",
        "    def forward(self, x):\n",
        "        identity = x\n",
        "\n",
        "        out = self.conv1(x)\n",
        "        if self.use_batch_norm:\n",
        "          out = self.bn1(out)\n",
        "        if self.use_drop_out:\n",
        "          out = self.d_out1(out)\n",
        "        out = self.relu(out)\n",
        "\n",
        "        out = self.conv2(out)\n",
        "        if self.use_batch_norm:\n",
        "          out = self.bn2(out)\n",
        "        if self.use_drop_out:\n",
        "          out = self.d_out2(out)\n",
        "        out = self.relu(out)\n",
        "\n",
        "        out = self.conv3(out)\n",
        "        out = self.bn3(out)\n",
        "\n",
        "        if self.downsample is not None:\n",
        "            identity = self.downsample(x)\n",
        "\n",
        "        out += identity\n",
        "        out = self.relu(out)\n",
        "\n",
        "        return out\n",
        "\n",
        "class ResNet(nn.Module):\n",
        "\n",
        "    def __init__(self, block, layers, num_classes=1000, zero_init_residual=False,\n",
        "                 groups=1, width_per_group=64, replace_stride_with_dilation=None,\n",
        "                 norm_layer=None, use_batch_norm=True, use_drop_out=False, d_out_p=0.5):\n",
        "        super(ResNet, self).__init__()\n",
        "        self.use_batch_norm = use_batch_norm\n",
        "        self.use_drop_out = use_drop_out\n",
        "        self.d_out_p = d_out_p\n",
        "        if norm_layer is None:\n",
        "            norm_layer = nn.BatchNorm2d\n",
        "        self._norm_layer = norm_layer\n",
        "\n",
        "        self.inplanes = 64\n",
        "        self.dilation = 1\n",
        "        if replace_stride_with_dilation is None:\n",
        "            # each element in the tuple indicates if we should replace\n",
        "            # the 2x2 stride with a dilated convolution instead\n",
        "            replace_stride_with_dilation = [False, False, False]\n",
        "        if len(replace_stride_with_dilation) != 3:\n",
        "            raise ValueError(\"replace_stride_with_dilation should be None \"\n",
        "                             \"or a 3-element tuple, got {}\".format(replace_stride_with_dilation))\n",
        "        self.groups = groups\n",
        "        self.base_width = width_per_group\n",
        "        self.conv1 = nn.Conv2d(3, self.inplanes, kernel_size=7, stride=2, padding=1,\n",
        "                               bias=False)\n",
        "        self.bn1 = norm_layer(self.inplanes)\n",
        "        self.d_out1 = torch.nn.Dropout2d(d_out_p)\n",
        "        self.relu = nn.ReLU(inplace=True)\n",
        "        self.maxpool = nn.MaxPool2d(kernel_size=3, stride=2, padding=0)\n",
        "        self.layer1 = self._make_layer(block, 64, layers[0])\n",
        "        self.layer2 = self._make_layer(block, 128, layers[1], stride=2,\n",
        "                                       dilate=replace_stride_with_dilation[0])\n",
        "        self.layer3 = self._make_layer(block, 256, layers[2], stride=2,\n",
        "                                       dilate=replace_stride_with_dilation[1])\n",
        "        self.layer4 = self._make_layer(block, 512, layers[3], stride=2,\n",
        "                                       dilate=replace_stride_with_dilation[2])\n",
        "        self.avgpool = nn.AdaptiveAvgPool2d((1, 1))\n",
        "        self.fc = nn.Linear(512 * block.expansion, num_classes)\n",
        "\n",
        "        for m in self.modules():\n",
        "            if isinstance(m, nn.Conv2d):\n",
        "                nn.init.kaiming_normal_(m.weight, mode='fan_out', nonlinearity='relu')\n",
        "            elif isinstance(m, (nn.BatchNorm2d, nn.GroupNorm)):\n",
        "                nn.init.constant_(m.weight, 1)\n",
        "                nn.init.constant_(m.bias, 0)\n",
        "\n",
        "        # Zero-initialize the last BN in each residual branch,\n",
        "        # so that the residual branch starts with zeros, and each residual block behaves like an identity.\n",
        "        # This improves the model by 0.2~0.3% according to https://arxiv.org/abs/1706.02677\n",
        "        if zero_init_residual:\n",
        "            for m in self.modules():\n",
        "                if isinstance(m, Bottleneck):\n",
        "                    nn.init.constant_(m.bn3.weight, 0)\n",
        "                elif isinstance(m, BasicBlock):\n",
        "                    nn.init.constant_(m.bn2.weight, 0)\n",
        "\n",
        "    def _make_layer(self, block, planes, blocks, stride=1, dilate=False):\n",
        "        norm_layer = self._norm_layer\n",
        "        downsample = None\n",
        "        previous_dilation = self.dilation\n",
        "        if dilate:\n",
        "            self.dilation *= stride\n",
        "            stride = 1\n",
        "        if stride != 1 or self.inplanes != planes * block.expansion:\n",
        "            downsample = nn.Sequential(\n",
        "                conv1x1(self.inplanes, planes * block.expansion, stride),\n",
        "                norm_layer(planes * block.expansion),\n",
        "            )\n",
        "\n",
        "        layers = []\n",
        "        layers.append(block(self.inplanes, planes, stride, downsample, self.groups,\n",
        "                            self.base_width, previous_dilation, norm_layer, use_batch_norm=self.use_batch_norm,\n",
        "                               use_drop_out=self.use_drop_out, d_out_p=self.d_out_p))\n",
        "        self.inplanes = planes * block.expansion\n",
        "        for _ in range(1, blocks):\n",
        "            layers.append(block(self.inplanes, planes, groups=self.groups,\n",
        "                                base_width=self.base_width, dilation=self.dilation,\n",
        "                                norm_layer=norm_layer, use_batch_norm=self.use_batch_norm,\n",
        "                               use_drop_out=self.use_drop_out, d_out_p=self.d_out_p))\n",
        "\n",
        "        return nn.Sequential(*layers)\n",
        "\n",
        "    def _forward_impl(self, x):\n",
        "        # See note [TorchScript super()]\n",
        "        x = self.conv1(x)\n",
        "        if self.use_batch_norm:\n",
        "          x = self.bn1(x)\n",
        "        if self.use_drop_out:\n",
        "          x = self.d_out1(x)\n",
        "        x = self.relu(x)\n",
        "        x = self.maxpool(x)\n",
        "\n",
        "        x = self.layer1(x)\n",
        "        x = self.layer2(x)\n",
        "        x = self.layer3(x)\n",
        "        x = self.layer4(x)\n",
        "\n",
        "        x = self.avgpool(x)\n",
        "        x = torch.flatten(x, 1)\n",
        "        x = self.fc(x)\n",
        "\n",
        "        return x\n",
        "\n",
        "    def forward(self, x):\n",
        "        return self._forward_impl(x)\n",
        "\n",
        "\n",
        "def _resnet(arch, block, layers, pretrained, progress,  **kwargs):\n",
        "    model = ResNet(block, layers, **kwargs)\n",
        "    return model\n",
        "\n",
        "\n",
        "def resnet20(pretrained=False, progress=True, **kwargs):\n",
        "    return _resnet('resnet20', BasicBlock, [3, 3, 2, 2], pretrained, progress,\n",
        "                   **kwargs)\n",
        "\n",
        "def resnet20_d_out(pretrained=False, progress=True, **kwargs):\n",
        "    return _resnet('resnet20_d_out', BasicBlock, [3, 3, 2, 2], pretrained, progress, use_drop_out=True, **kwargs)\n",
        "    \n",
        "def resnet20_d_out03(pretrained=False, progress=True, **kwargs):\n",
        "    return _resnet('resnet20_d_out03', BasicBlock, [3, 3, 2, 2], pretrained, progress, use_drop_out=True, d_out_p=0.3,\n",
        "                   **kwargs)\n",
        "    \n",
        "def resnet20_d_out08(pretrained=False, progress=True, **kwargs):\n",
        "    return _resnet('resnet20_d_out08', BasicBlock, [3, 3, 2, 2], pretrained, progress, use_drop_out=True, d_out_p=0.8,\n",
        "                   **kwargs)\n",
        "    \n",
        "def resnet20_d_out015(pretrained=False, progress=True, **kwargs):\n",
        "    return _resnet('resnet20_d_out015', BasicBlock, [3, 3, 2, 2], pretrained, progress, use_drop_out=True, d_out_p=0.15,\n",
        "                   **kwargs)       \n",
        "    "
      ],
      "execution_count": 11,
      "outputs": [
        {
          "output_type": "stream",
          "text": [
            "\n"
          ],
          "name": "stdout"
        }
      ]
    },
    {
      "cell_type": "code",
      "metadata": {
        "id": "7GC8zrnjbUUm"
      },
      "source": [
        "def train(net, X_train, y_train, X_test, y_test, weight_decay=0):\n",
        "    device = torch.device('cuda:0' if torch.cuda.is_available() else 'cpu')\n",
        "    net = net.to(device)\n",
        "    loss = torch.nn.CrossEntropyLoss()\n",
        "    optimizer = torch.optim.Adam(net.parameters(), lr=1.0e-3, weight_decay = weight_decay)\n",
        "    \n",
        "    batch_size = 100\n",
        "\n",
        "    test_accuracy_history = []\n",
        "    test_loss_history = []\n",
        "\n",
        "    X_test = X_test.to(device)\n",
        "    y_test = y_test.to(device)\n",
        "\n",
        "    for epoch in range(30):\n",
        "        order = np.random.permutation(len(X_train))\n",
        "        for start_index in range(0, len(X_train), batch_size):\n",
        "            optimizer.zero_grad()\n",
        "            net.train()\n",
        "\n",
        "            batch_indexes = order[start_index:start_index+batch_size]\n",
        "\n",
        "            X_batch = X_train[batch_indexes].to(device)\n",
        "            y_batch = y_train[batch_indexes].to(device)\n",
        "\n",
        "            preds = net.forward(X_batch)\n",
        "\n",
        "            loss_value = loss(preds, y_batch)\n",
        "            loss_value.backward()\n",
        "\n",
        "            optimizer.step()\n",
        "            \n",
        "            X_batch\n",
        "\n",
        "        net.eval()\n",
        "        with torch.no_grad():\n",
        "          test_preds = net.forward(X_test)\n",
        "          test_loss_history.append(loss(test_preds, y_test).data.cpu())\n",
        "\n",
        "          accuracy = (test_preds.argmax(dim=1) == y_test).float().mean().data.cpu()\n",
        "          test_accuracy_history.append(accuracy)\n",
        "\n",
        "          print(accuracy)\n",
        "    del net\n",
        "    return test_accuracy_history, test_loss_history\n",
        "\n",
        "accuracies = {}\n",
        "losses = {}"
      ],
      "execution_count": 12,
      "outputs": []
    },
    {
      "cell_type": "code",
      "metadata": {
        "id": "HPotpTS7b0WQ",
        "outputId": "3b63b517-f227-4c9b-db36-d09d694846d2",
        "colab": {
          "base_uri": "https://localhost:8080/"
        }
      },
      "source": [
        "accuracies['resnet20'], losses['resnet20'] = \\\n",
        "    train(resnet20(), X_train, y_train, X_test, y_test)\n",
        "\n",
        "accuracies['resnet20_d_out'], losses['resnet20_d_out'] = \\\n",
        "    train(resnet20_d_out(), X_train, y_train, X_test, y_test)\n",
        "\n",
        "accuracies['resnet20_d_out03'], losses['resnet20_d_out03'] = \\\n",
        "    train(resnet20_d_out03(), X_train, y_train, X_test, y_test)\n",
        "\n",
        "accuracies['resnet20_d_out08'], losses['resnet20_d_out08'] = \\\n",
        "    train(resnet20_d_out08(), X_train, y_train, X_test, y_test)\n",
        "\n",
        "accuracies['resnet20_d_out015'], losses['resnet20_d_out015'] = \\\n",
        "    train(resnet20_d_out015(), X_train, y_train, X_test, y_test)"
      ],
      "execution_count": 13,
      "outputs": [
        {
          "output_type": "stream",
          "text": [
            "tensor(0.5172)\n",
            "tensor(0.5936)\n",
            "tensor(0.6461)\n",
            "tensor(0.6178)\n",
            "tensor(0.6583)\n",
            "tensor(0.7000)\n",
            "tensor(0.6298)\n",
            "tensor(0.7258)\n",
            "tensor(0.7036)\n",
            "tensor(0.6912)\n",
            "tensor(0.7319)\n",
            "tensor(0.7227)\n",
            "tensor(0.7212)\n",
            "tensor(0.7288)\n",
            "tensor(0.7126)\n",
            "tensor(0.7290)\n",
            "tensor(0.7140)\n",
            "tensor(0.7145)\n",
            "tensor(0.7001)\n",
            "tensor(0.7147)\n",
            "tensor(0.7211)\n",
            "tensor(0.7413)\n",
            "tensor(0.7362)\n",
            "tensor(0.6961)\n",
            "tensor(0.7266)\n",
            "tensor(0.7186)\n",
            "tensor(0.7301)\n",
            "tensor(0.7269)\n",
            "tensor(0.7251)\n",
            "tensor(0.7152)\n",
            "tensor(0.2065)\n",
            "tensor(0.3863)\n",
            "tensor(0.4079)\n",
            "tensor(0.4656)\n",
            "tensor(0.4992)\n",
            "tensor(0.5086)\n",
            "tensor(0.5513)\n",
            "tensor(0.5538)\n",
            "tensor(0.5897)\n",
            "tensor(0.5965)\n",
            "tensor(0.5914)\n",
            "tensor(0.6279)\n",
            "tensor(0.6251)\n",
            "tensor(0.6270)\n",
            "tensor(0.6480)\n",
            "tensor(0.6591)\n",
            "tensor(0.6487)\n",
            "tensor(0.6761)\n",
            "tensor(0.6707)\n",
            "tensor(0.6715)\n",
            "tensor(0.6792)\n",
            "tensor(0.6817)\n",
            "tensor(0.6936)\n",
            "tensor(0.6913)\n",
            "tensor(0.6918)\n",
            "tensor(0.7019)\n",
            "tensor(0.7053)\n",
            "tensor(0.6974)\n",
            "tensor(0.7065)\n",
            "tensor(0.7130)\n",
            "tensor(0.4103)\n",
            "tensor(0.4927)\n",
            "tensor(0.5550)\n",
            "tensor(0.5904)\n",
            "tensor(0.6090)\n",
            "tensor(0.6414)\n",
            "tensor(0.6666)\n",
            "tensor(0.6803)\n",
            "tensor(0.6608)\n",
            "tensor(0.6912)\n",
            "tensor(0.7064)\n",
            "tensor(0.7079)\n",
            "tensor(0.7102)\n",
            "tensor(0.7207)\n",
            "tensor(0.7291)\n",
            "tensor(0.7242)\n",
            "tensor(0.7345)\n",
            "tensor(0.7478)\n",
            "tensor(0.7409)\n",
            "tensor(0.7556)\n",
            "tensor(0.7406)\n",
            "tensor(0.7525)\n",
            "tensor(0.7479)\n",
            "tensor(0.7633)\n",
            "tensor(0.7686)\n",
            "tensor(0.7674)\n",
            "tensor(0.7680)\n",
            "tensor(0.7667)\n",
            "tensor(0.7701)\n",
            "tensor(0.7664)\n",
            "tensor(0.1000)\n",
            "tensor(0.1001)\n",
            "tensor(0.0988)\n",
            "tensor(0.0968)\n",
            "tensor(0.1064)\n",
            "tensor(0.1317)\n",
            "tensor(0.1421)\n",
            "tensor(0.1498)\n",
            "tensor(0.2074)\n",
            "tensor(0.2176)\n",
            "tensor(0.2558)\n",
            "tensor(0.2578)\n",
            "tensor(0.2482)\n",
            "tensor(0.2606)\n",
            "tensor(0.2608)\n",
            "tensor(0.2649)\n",
            "tensor(0.2835)\n",
            "tensor(0.2955)\n",
            "tensor(0.2872)\n",
            "tensor(0.2861)\n",
            "tensor(0.2758)\n",
            "tensor(0.2902)\n",
            "tensor(0.2892)\n",
            "tensor(0.3001)\n",
            "tensor(0.2934)\n",
            "tensor(0.2718)\n",
            "tensor(0.2946)\n",
            "tensor(0.3066)\n",
            "tensor(0.2915)\n",
            "tensor(0.2949)\n",
            "tensor(0.5050)\n",
            "tensor(0.5813)\n",
            "tensor(0.5936)\n",
            "tensor(0.6498)\n",
            "tensor(0.6727)\n",
            "tensor(0.6935)\n",
            "tensor(0.7054)\n",
            "tensor(0.7067)\n",
            "tensor(0.7051)\n",
            "tensor(0.7329)\n",
            "tensor(0.7358)\n",
            "tensor(0.7459)\n",
            "tensor(0.7564)\n",
            "tensor(0.7435)\n",
            "tensor(0.7604)\n",
            "tensor(0.7667)\n",
            "tensor(0.7654)\n",
            "tensor(0.7575)\n",
            "tensor(0.7563)\n",
            "tensor(0.7573)\n",
            "tensor(0.7412)\n",
            "tensor(0.7647)\n",
            "tensor(0.7578)\n",
            "tensor(0.7688)\n",
            "tensor(0.7683)\n",
            "tensor(0.7727)\n",
            "tensor(0.7709)\n",
            "tensor(0.7698)\n",
            "tensor(0.7621)\n",
            "tensor(0.7709)\n"
          ],
          "name": "stdout"
        }
      ]
    },
    {
      "cell_type": "code",
      "metadata": {
        "id": "gKtteUJQ2_2V",
        "outputId": "a0fb0677-a8fc-4cd0-b242-875374846fc7",
        "colab": {
          "base_uri": "https://localhost:8080/"
        }
      },
      "source": [
        "from torchvision.models import resnet18\n",
        "\n",
        "accuracies['resnet18'], losses['resnet18'] = \\\n",
        "    train(resnet18(), X_train, y_train, X_test, y_test)"
      ],
      "execution_count": 14,
      "outputs": [
        {
          "output_type": "stream",
          "text": [
            "tensor(0.4762)\n",
            "tensor(0.6409)\n",
            "tensor(0.6363)\n",
            "tensor(0.7110)\n",
            "tensor(0.7210)\n",
            "tensor(0.6681)\n",
            "tensor(0.7451)\n",
            "tensor(0.7415)\n",
            "tensor(0.7189)\n",
            "tensor(0.7114)\n",
            "tensor(0.7475)\n",
            "tensor(0.7446)\n",
            "tensor(0.7413)\n",
            "tensor(0.7275)\n",
            "tensor(0.7269)\n",
            "tensor(0.7370)\n",
            "tensor(0.7454)\n",
            "tensor(0.7306)\n",
            "tensor(0.7262)\n",
            "tensor(0.7422)\n",
            "tensor(0.7487)\n",
            "tensor(0.7387)\n",
            "tensor(0.7454)\n",
            "tensor(0.7332)\n",
            "tensor(0.7528)\n",
            "tensor(0.7519)\n",
            "tensor(0.7410)\n",
            "tensor(0.7471)\n",
            "tensor(0.7600)\n",
            "tensor(0.7499)\n"
          ],
          "name": "stdout"
        }
      ]
    },
    {
      "cell_type": "code",
      "metadata": {
        "id": "a8rcO_M93EGv",
        "outputId": "0d56f17b-a827-4cfa-d0d8-72149cc4e08b",
        "colab": {
          "base_uri": "https://localhost:8080/",
          "height": 281
        }
      },
      "source": [
        "import matplotlib.pyplot as plt\n",
        "\n",
        "for experiment_id in accuracies.keys():\n",
        "    plt.plot(accuracies[experiment_id], label=experiment_id)\n",
        "plt.legend()\n",
        "plt.title('Validation Accuracy');"
      ],
      "execution_count": 15,
      "outputs": [
        {
          "output_type": "display_data",
          "data": {
            "image/png": "[encoded data removed]",
            "text/plain": [
              "<Figure size 432x288 with 1 Axes>"
            ]
          },
          "metadata": {
            "tags": [],
            "needs_background": "light"
          }
        }
      ]
    },
    {
      "cell_type": "code",
      "metadata": {
        "id": "NzRPixk73GsZ",
        "outputId": "c9632015-b294-4f14-adc4-9ace38a2387c",
        "colab": {
          "base_uri": "https://localhost:8080/",
          "height": 281
        }
      },
      "source": [
        "for experiment_id in losses.keys():\n",
        "    plt.plot(losses[experiment_id], label=experiment_id)\n",
        "plt.legend()\n",
        "plt.title('Validation Loss');"
      ],
      "execution_count": 16,
      "outputs": [
        {
          "output_type": "display_data",
          "data": {
            "image/png": "[encoded data removed]",
            "text/plain": [
              "<Figure size 432x288 with 1 Axes>"
            ]
          },
          "metadata": {
            "tags": [],
            "needs_background": "light"
          }
        }
      ]
    },
    {
      "cell_type": "code",
      "metadata": {
        "id": "DG66RlpvKOOK",
        "outputId": "423fc3af-3dbc-4007-c9fe-c91df20f635b",
        "colab": {
          "base_uri": "https://localhost:8080/"
        }
      },
      "source": [
        "accuracies['resnet20 wd=1e-4'], losses['resnet20 wd=1e-4'] = \\\n",
        "    train(resnet20(), X_train, y_train, X_test, y_test, weight_decay = 1e-4)\n",
        "\n",
        "accuracies['resnet20_d_out03 wd=1e-4'], losses['resnet20_d_out03 wd=1e-4'] = \\\n",
        "    train(resnet20_d_out03(), X_train, y_train, X_test, y_test, weight_decay = 1e-4)\n",
        "\n",
        "accuracies['resnet20_d_out015 wd=1e-4'], losses['resnet20_d_out015 wd=1e-4'] = \\\n",
        "    train(resnet20_d_out015(), X_train, y_train, X_test, y_test, weight_decay = 1e-4)"
      ],
      "execution_count": 17,
      "outputs": [
        {
          "output_type": "stream",
          "text": [
            "tensor(0.4935)\n",
            "tensor(0.5919)\n",
            "tensor(0.6408)\n",
            "tensor(0.6818)\n",
            "tensor(0.7006)\n",
            "tensor(0.6912)\n",
            "tensor(0.7239)\n",
            "tensor(0.7117)\n",
            "tensor(0.7069)\n",
            "tensor(0.7034)\n",
            "tensor(0.6953)\n",
            "tensor(0.7261)\n",
            "tensor(0.7231)\n",
            "tensor(0.7169)\n",
            "tensor(0.7327)\n",
            "tensor(0.7180)\n",
            "tensor(0.7325)\n",
            "tensor(0.7144)\n",
            "tensor(0.7315)\n",
            "tensor(0.7115)\n",
            "tensor(0.7171)\n",
            "tensor(0.7243)\n",
            "tensor(0.7402)\n",
            "tensor(0.7340)\n",
            "tensor(0.7410)\n",
            "tensor(0.7293)\n",
            "tensor(0.7284)\n",
            "tensor(0.7245)\n",
            "tensor(0.7280)\n",
            "tensor(0.7357)\n",
            "tensor(0.4351)\n",
            "tensor(0.5004)\n",
            "tensor(0.5588)\n",
            "tensor(0.5905)\n",
            "tensor(0.6284)\n",
            "tensor(0.6285)\n",
            "tensor(0.6627)\n",
            "tensor(0.6671)\n",
            "tensor(0.6896)\n",
            "tensor(0.6704)\n",
            "tensor(0.7058)\n",
            "tensor(0.7143)\n",
            "tensor(0.7219)\n",
            "tensor(0.7233)\n",
            "tensor(0.7330)\n",
            "tensor(0.7317)\n",
            "tensor(0.7335)\n",
            "tensor(0.7477)\n",
            "tensor(0.7447)\n",
            "tensor(0.7441)\n",
            "tensor(0.7519)\n",
            "tensor(0.7519)\n",
            "tensor(0.7594)\n",
            "tensor(0.7494)\n",
            "tensor(0.7612)\n",
            "tensor(0.7510)\n",
            "tensor(0.7583)\n",
            "tensor(0.7651)\n",
            "tensor(0.7541)\n",
            "tensor(0.7612)\n",
            "tensor(0.4796)\n",
            "tensor(0.5421)\n",
            "tensor(0.5533)\n",
            "tensor(0.6065)\n",
            "tensor(0.6834)\n",
            "tensor(0.6952)\n",
            "tensor(0.6970)\n",
            "tensor(0.7276)\n",
            "tensor(0.7213)\n",
            "tensor(0.7219)\n",
            "tensor(0.7396)\n",
            "tensor(0.7346)\n",
            "tensor(0.7342)\n",
            "tensor(0.7453)\n",
            "tensor(0.7474)\n",
            "tensor(0.7103)\n",
            "tensor(0.7592)\n",
            "tensor(0.7315)\n",
            "tensor(0.7628)\n",
            "tensor(0.7572)\n",
            "tensor(0.7494)\n",
            "tensor(0.7571)\n",
            "tensor(0.7677)\n",
            "tensor(0.7622)\n",
            "tensor(0.7505)\n",
            "tensor(0.7677)\n",
            "tensor(0.7699)\n",
            "tensor(0.7698)\n",
            "tensor(0.7655)\n",
            "tensor(0.7680)\n"
          ],
          "name": "stdout"
        }
      ]
    },
    {
      "cell_type": "code",
      "metadata": {
        "id": "oC4CNVlHwlYq",
        "outputId": "530f18bb-b385-4887-8b8b-db9b2ecb1049",
        "colab": {
          "base_uri": "https://localhost:8080/",
          "height": 281
        }
      },
      "source": [
        "import matplotlib.pyplot as plt\n",
        "\n",
        "for experiment_id in accuracies.keys():\n",
        "    plt.plot(accuracies[experiment_id], label=experiment_id)\n",
        "plt.legend()\n",
        "plt.title('Validation Accuracy');"
      ],
      "execution_count": 18,
      "outputs": [
        {
          "output_type": "display_data",
          "data": {
            "image/png": "[encoded data removed]",
            "text/plain": [
              "<Figure size 432x288 with 1 Axes>"
            ]
          },
          "metadata": {
            "tags": [],
            "needs_background": "light"
          }
        }
      ]
    },
    {
      "cell_type": "code",
      "metadata": {
        "id": "5rI8AmNnwuY3",
        "outputId": "e52a2780-6ac5-47fb-a5cb-5ff8f268dba4",
        "colab": {
          "base_uri": "https://localhost:8080/",
          "height": 281
        }
      },
      "source": [
        "for experiment_id in losses.keys():\n",
        "    plt.plot(losses[experiment_id], label=experiment_id)\n",
        "plt.legend()\n",
        "plt.title('Validation Loss');"
      ],
      "execution_count": 19,
      "outputs": [
        {
          "output_type": "display_data",
          "data": {
            "image/png": "[encoded data removed]",
            "text/plain": [
              "<Figure size 432x288 with 1 Axes>"
            ]
          },
          "metadata": {
            "tags": [],
            "needs_background": "light"
          }
        }
      ]
    }
  ]
}