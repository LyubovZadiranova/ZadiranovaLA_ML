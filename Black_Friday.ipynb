{
 "cells": [
  {
   "cell_type": "code",
   "execution_count": 1,
   "metadata": {},
   "outputs": [],
   "source": [
    "# To support both python 2 and python 3\n",
    "from __future__ import division, print_function, unicode_literals\n",
    "\n",
    "# Common imports\n",
    "import numpy as np\n",
    "import os\n",
    "\n",
    "# to make this notebook's output stable across runs\n",
    "np.random.seed(42)\n",
    "\n",
    "# To plot pretty figures\n",
    "%matplotlib inline\n",
    "import matplotlib\n",
    "import matplotlib.pyplot as plt\n",
    "plt.rcParams['axes.labelsize'] = 14\n",
    "plt.rcParams['xtick.labelsize'] = 12\n",
    "plt.rcParams['ytick.labelsize'] = 12\n",
    "\n",
    "# Ignore useless warnings (see SciPy issue #5998)\n",
    "import warnings\n",
    "warnings.filterwarnings(action=\"ignore\", message=\"^internal gelsd\")"
   ]
  },
  {
   "cell_type": "markdown",
   "metadata": {},
   "source": [
    "# Загрузка данных"
   ]
  },
  {
   "cell_type": "code",
   "execution_count": 2,
   "metadata": {},
   "outputs": [
    {
     "data": {
      "text/html": [
       "<div>\n",
       "<style scoped>\n",
       "    .dataframe tbody tr th:only-of-type {\n",
       "        vertical-align: middle;\n",
       "    }\n",
       "\n",
       "    .dataframe tbody tr th {\n",
       "        vertical-align: top;\n",
       "    }\n",
       "\n",
       "    .dataframe thead th {\n",
       "        text-align: right;\n",
       "    }\n",
       "</style>\n",
       "<table border=\"1\" class=\"dataframe\">\n",
       "  <thead>\n",
       "    <tr style=\"text-align: right;\">\n",
       "      <th></th>\n",
       "      <th>User_ID</th>\n",
       "      <th>Product_ID</th>\n",
       "      <th>Gender</th>\n",
       "      <th>Age</th>\n",
       "      <th>Occupation</th>\n",
       "      <th>City_Category</th>\n",
       "      <th>Stay_In_Current_City_Years</th>\n",
       "      <th>Marital_Status</th>\n",
       "      <th>Product_Category_1</th>\n",
       "      <th>Product_Category_2</th>\n",
       "      <th>Product_Category_3</th>\n",
       "      <th>Purchase</th>\n",
       "    </tr>\n",
       "  </thead>\n",
       "  <tbody>\n",
       "    <tr>\n",
       "      <th>0</th>\n",
       "      <td>1000001</td>\n",
       "      <td>P00069042</td>\n",
       "      <td>F</td>\n",
       "      <td>0-17</td>\n",
       "      <td>10</td>\n",
       "      <td>A</td>\n",
       "      <td>2</td>\n",
       "      <td>0</td>\n",
       "      <td>3</td>\n",
       "      <td>NaN</td>\n",
       "      <td>NaN</td>\n",
       "      <td>8370</td>\n",
       "    </tr>\n",
       "    <tr>\n",
       "      <th>1</th>\n",
       "      <td>1000001</td>\n",
       "      <td>P00248942</td>\n",
       "      <td>F</td>\n",
       "      <td>0-17</td>\n",
       "      <td>10</td>\n",
       "      <td>A</td>\n",
       "      <td>2</td>\n",
       "      <td>0</td>\n",
       "      <td>1</td>\n",
       "      <td>6.0</td>\n",
       "      <td>14.0</td>\n",
       "      <td>15200</td>\n",
       "    </tr>\n",
       "    <tr>\n",
       "      <th>2</th>\n",
       "      <td>1000001</td>\n",
       "      <td>P00087842</td>\n",
       "      <td>F</td>\n",
       "      <td>0-17</td>\n",
       "      <td>10</td>\n",
       "      <td>A</td>\n",
       "      <td>2</td>\n",
       "      <td>0</td>\n",
       "      <td>12</td>\n",
       "      <td>NaN</td>\n",
       "      <td>NaN</td>\n",
       "      <td>1422</td>\n",
       "    </tr>\n",
       "    <tr>\n",
       "      <th>3</th>\n",
       "      <td>1000001</td>\n",
       "      <td>P00085442</td>\n",
       "      <td>F</td>\n",
       "      <td>0-17</td>\n",
       "      <td>10</td>\n",
       "      <td>A</td>\n",
       "      <td>2</td>\n",
       "      <td>0</td>\n",
       "      <td>12</td>\n",
       "      <td>14.0</td>\n",
       "      <td>NaN</td>\n",
       "      <td>1057</td>\n",
       "    </tr>\n",
       "    <tr>\n",
       "      <th>4</th>\n",
       "      <td>1000002</td>\n",
       "      <td>P00285442</td>\n",
       "      <td>M</td>\n",
       "      <td>55+</td>\n",
       "      <td>16</td>\n",
       "      <td>C</td>\n",
       "      <td>4+</td>\n",
       "      <td>0</td>\n",
       "      <td>8</td>\n",
       "      <td>NaN</td>\n",
       "      <td>NaN</td>\n",
       "      <td>7969</td>\n",
       "    </tr>\n",
       "  </tbody>\n",
       "</table>\n",
       "</div>"
      ],
      "text/plain": [
       "   User_ID Product_ID Gender   Age  Occupation City_Category  \\\n",
       "0  1000001  P00069042      F  0-17          10             A   \n",
       "1  1000001  P00248942      F  0-17          10             A   \n",
       "2  1000001  P00087842      F  0-17          10             A   \n",
       "3  1000001  P00085442      F  0-17          10             A   \n",
       "4  1000002  P00285442      M   55+          16             C   \n",
       "\n",
       "  Stay_In_Current_City_Years  Marital_Status  Product_Category_1  \\\n",
       "0                          2               0                   3   \n",
       "1                          2               0                   1   \n",
       "2                          2               0                  12   \n",
       "3                          2               0                  12   \n",
       "4                         4+               0                   8   \n",
       "\n",
       "   Product_Category_2  Product_Category_3  Purchase  \n",
       "0                 NaN                 NaN      8370  \n",
       "1                 6.0                14.0     15200  \n",
       "2                 NaN                 NaN      1422  \n",
       "3                14.0                 NaN      1057  \n",
       "4                 NaN                 NaN      7969  "
      ]
     },
     "execution_count": 2,
     "metadata": {},
     "output_type": "execute_result"
    }
   ],
   "source": [
    "import pandas as pd\n",
    "\n",
    "data_BF = pd.read_csv('BlackFriday-Copy1.csv', sep=',', encoding='latin1')\n",
    "data_BF.head()"
   ]
  },
  {
   "cell_type": "code",
   "execution_count": 3,
   "metadata": {
    "scrolled": false
   },
   "outputs": [
    {
     "name": "stdout",
     "output_type": "stream",
     "text": [
      "<class 'pandas.core.frame.DataFrame'>\n",
      "RangeIndex: 537577 entries, 0 to 537576\n",
      "Data columns (total 12 columns):\n",
      "User_ID                       537577 non-null int64\n",
      "Product_ID                    537577 non-null object\n",
      "Gender                        537577 non-null object\n",
      "Age                           537577 non-null object\n",
      "Occupation                    537577 non-null int64\n",
      "City_Category                 537577 non-null object\n",
      "Stay_In_Current_City_Years    537577 non-null object\n",
      "Marital_Status                537577 non-null int64\n",
      "Product_Category_1            537577 non-null int64\n",
      "Product_Category_2            370591 non-null float64\n",
      "Product_Category_3            164278 non-null float64\n",
      "Purchase                      537577 non-null int64\n",
      "dtypes: float64(2), int64(5), object(5)\n",
      "memory usage: 49.2+ MB\n"
     ]
    }
   ],
   "source": [
    "data_BF.info()"
   ]
  },
  {
   "cell_type": "markdown",
   "metadata": {},
   "source": [
    "Заметим, что ряд атрибутов имеют тип object. Кроме того атрибуты Product_Catagory_1 и Product_Catagory_2 имеют нулевые значения. \n",
    "С помощью метода value_counts() какие категории существуют у категориальных атрибутов и сколько киентов  им принадлежат."
   ]
  },
  {
   "cell_type": "code",
   "execution_count": 4,
   "metadata": {},
   "outputs": [
    {
     "data": {
      "text/plain": [
       "M    405380\n",
       "F    132197\n",
       "Name: Gender, dtype: int64"
      ]
     },
     "execution_count": 4,
     "metadata": {},
     "output_type": "execute_result"
    }
   ],
   "source": [
    "data_BF[\"Gender\"].value_counts()"
   ]
  },
  {
   "cell_type": "code",
   "execution_count": 5,
   "metadata": {},
   "outputs": [
    {
     "data": {
      "text/plain": [
       "26-35    214690\n",
       "36-45    107499\n",
       "18-25     97634\n",
       "46-50     44526\n",
       "51-55     37618\n",
       "55+       20903\n",
       "0-17      14707\n",
       "Name: Age, dtype: int64"
      ]
     },
     "execution_count": 5,
     "metadata": {},
     "output_type": "execute_result"
    }
   ],
   "source": [
    "data_BF[\"Age\"].value_counts()"
   ]
  },
  {
   "cell_type": "code",
   "execution_count": 6,
   "metadata": {},
   "outputs": [
    {
     "data": {
      "text/plain": [
       "4     70862\n",
       "0     68120\n",
       "7     57806\n",
       "1     45971\n",
       "17    39090\n",
       "20    32910\n",
       "12    30423\n",
       "14    26712\n",
       "2     25845\n",
       "16    24790\n",
       "6     19822\n",
       "3     17366\n",
       "10    12623\n",
       "5     11985\n",
       "15    11812\n",
       "11    11338\n",
       "19     8352\n",
       "13     7548\n",
       "18     6525\n",
       "9      6153\n",
       "8      1524\n",
       "Name: Occupation, dtype: int64"
      ]
     },
     "execution_count": 6,
     "metadata": {},
     "output_type": "execute_result"
    }
   ],
   "source": [
    "data_BF[\"Occupation\"].value_counts()"
   ]
  },
  {
   "cell_type": "code",
   "execution_count": 7,
   "metadata": {},
   "outputs": [
    {
     "data": {
      "text/plain": [
       "B    226493\n",
       "C    166446\n",
       "A    144638\n",
       "Name: City_Category, dtype: int64"
      ]
     },
     "execution_count": 7,
     "metadata": {},
     "output_type": "execute_result"
    }
   ],
   "source": [
    "data_BF[\"City_Category\"].value_counts()"
   ]
  },
  {
   "cell_type": "code",
   "execution_count": 8,
   "metadata": {},
   "outputs": [
    {
     "data": {
      "text/plain": [
       "1     189192\n",
       "2      99459\n",
       "3      93312\n",
       "4+     82889\n",
       "0      72725\n",
       "Name: Stay_In_Current_City_Years, dtype: int64"
      ]
     },
     "execution_count": 8,
     "metadata": {},
     "output_type": "execute_result"
    }
   ],
   "source": [
    "data_BF[\"Stay_In_Current_City_Years\"].value_counts()"
   ]
  },
  {
   "cell_type": "code",
   "execution_count": 9,
   "metadata": {},
   "outputs": [
    {
     "data": {
      "text/plain": [
       "0    317817\n",
       "1    219760\n",
       "Name: Marital_Status, dtype: int64"
      ]
     },
     "execution_count": 9,
     "metadata": {},
     "output_type": "execute_result"
    }
   ],
   "source": [
    "data_BF[\"Marital_Status\"].value_counts()"
   ]
  },
  {
   "cell_type": "markdown",
   "metadata": {},
   "source": [
    "Метод describe() отображает сводку по числовым  атрибутам."
   ]
  },
  {
   "cell_type": "code",
   "execution_count": 10,
   "metadata": {},
   "outputs": [],
   "source": [
    "data_BF_without_ID=data_BF.drop([\"User_ID\",  \"Marital_Status\"] , axis=1)\n"
   ]
  },
  {
   "cell_type": "code",
   "execution_count": 11,
   "metadata": {},
   "outputs": [
    {
     "data": {
      "text/html": [
       "<div>\n",
       "<style scoped>\n",
       "    .dataframe tbody tr th:only-of-type {\n",
       "        vertical-align: middle;\n",
       "    }\n",
       "\n",
       "    .dataframe tbody tr th {\n",
       "        vertical-align: top;\n",
       "    }\n",
       "\n",
       "    .dataframe thead th {\n",
       "        text-align: right;\n",
       "    }\n",
       "</style>\n",
       "<table border=\"1\" class=\"dataframe\">\n",
       "  <thead>\n",
       "    <tr style=\"text-align: right;\">\n",
       "      <th></th>\n",
       "      <th>Occupation</th>\n",
       "      <th>Product_Category_1</th>\n",
       "      <th>Product_Category_2</th>\n",
       "      <th>Product_Category_3</th>\n",
       "      <th>Purchase</th>\n",
       "    </tr>\n",
       "  </thead>\n",
       "  <tbody>\n",
       "    <tr>\n",
       "      <th>count</th>\n",
       "      <td>537577.00000</td>\n",
       "      <td>537577.000000</td>\n",
       "      <td>370591.000000</td>\n",
       "      <td>164278.000000</td>\n",
       "      <td>537577.000000</td>\n",
       "    </tr>\n",
       "    <tr>\n",
       "      <th>mean</th>\n",
       "      <td>8.08271</td>\n",
       "      <td>5.295546</td>\n",
       "      <td>9.842144</td>\n",
       "      <td>12.669840</td>\n",
       "      <td>9333.859853</td>\n",
       "    </tr>\n",
       "    <tr>\n",
       "      <th>std</th>\n",
       "      <td>6.52412</td>\n",
       "      <td>3.750701</td>\n",
       "      <td>5.087259</td>\n",
       "      <td>4.124341</td>\n",
       "      <td>4981.022133</td>\n",
       "    </tr>\n",
       "    <tr>\n",
       "      <th>min</th>\n",
       "      <td>0.00000</td>\n",
       "      <td>1.000000</td>\n",
       "      <td>2.000000</td>\n",
       "      <td>3.000000</td>\n",
       "      <td>185.000000</td>\n",
       "    </tr>\n",
       "    <tr>\n",
       "      <th>25%</th>\n",
       "      <td>2.00000</td>\n",
       "      <td>1.000000</td>\n",
       "      <td>5.000000</td>\n",
       "      <td>9.000000</td>\n",
       "      <td>5866.000000</td>\n",
       "    </tr>\n",
       "    <tr>\n",
       "      <th>50%</th>\n",
       "      <td>7.00000</td>\n",
       "      <td>5.000000</td>\n",
       "      <td>9.000000</td>\n",
       "      <td>14.000000</td>\n",
       "      <td>8062.000000</td>\n",
       "    </tr>\n",
       "    <tr>\n",
       "      <th>75%</th>\n",
       "      <td>14.00000</td>\n",
       "      <td>8.000000</td>\n",
       "      <td>15.000000</td>\n",
       "      <td>16.000000</td>\n",
       "      <td>12073.000000</td>\n",
       "    </tr>\n",
       "    <tr>\n",
       "      <th>max</th>\n",
       "      <td>20.00000</td>\n",
       "      <td>18.000000</td>\n",
       "      <td>18.000000</td>\n",
       "      <td>18.000000</td>\n",
       "      <td>23961.000000</td>\n",
       "    </tr>\n",
       "  </tbody>\n",
       "</table>\n",
       "</div>"
      ],
      "text/plain": [
       "         Occupation  Product_Category_1  Product_Category_2  \\\n",
       "count  537577.00000       537577.000000       370591.000000   \n",
       "mean        8.08271            5.295546            9.842144   \n",
       "std         6.52412            3.750701            5.087259   \n",
       "min         0.00000            1.000000            2.000000   \n",
       "25%         2.00000            1.000000            5.000000   \n",
       "50%         7.00000            5.000000            9.000000   \n",
       "75%        14.00000            8.000000           15.000000   \n",
       "max        20.00000           18.000000           18.000000   \n",
       "\n",
       "       Product_Category_3       Purchase  \n",
       "count       164278.000000  537577.000000  \n",
       "mean            12.669840    9333.859853  \n",
       "std              4.124341    4981.022133  \n",
       "min              3.000000     185.000000  \n",
       "25%              9.000000    5866.000000  \n",
       "50%             14.000000    8062.000000  \n",
       "75%             16.000000   12073.000000  \n",
       "max             18.000000   23961.000000  "
      ]
     },
     "execution_count": 11,
     "metadata": {},
     "output_type": "execute_result"
    }
   ],
   "source": [
    "data_BF_without_ID.describe()"
   ]
  },
  {
   "cell_type": "markdown",
   "metadata": {},
   "source": [
    "Постоим гистограммы числовых атрибутов."
   ]
  },
  {
   "cell_type": "code",
   "execution_count": 12,
   "metadata": {},
   "outputs": [
    {
     "data": {
      "image/png": "[encoded data removed]",
      "text/plain": [
       "<matplotlib.figure.Figure at 0x8042390>"
      ]
     },
     "metadata": {},
     "output_type": "display_data"
    }
   ],
   "source": [
    "%matplotlib inline\n",
    "import matplotlib.pyplot as plt\n",
    "data_BF_without_ID.hist(bins=50, figsize=(20,15))\n",
    "\n",
    "plt.show()"
   ]
  },
  {
   "cell_type": "markdown",
   "metadata": {},
   "source": [
    "# Создание испытательного набора"
   ]
  },
  {
   "cell_type": "code",
   "execution_count": 13,
   "metadata": {},
   "outputs": [],
   "source": [
    "from sklearn.model_selection import train_test_split\n",
    "\n",
    "train_set, test_set = train_test_split(data_BF, test_size=0.2, random_state=42)"
   ]
  },
  {
   "cell_type": "code",
   "execution_count": 14,
   "metadata": {},
   "outputs": [
    {
     "name": "stdout",
     "output_type": "stream",
     "text": [
      "430061 train + 107516 test\n"
     ]
    }
   ],
   "source": [
    "print(len(train_set), \"train +\", len(test_set), \"test\")"
   ]
  },
  {
   "cell_type": "code",
   "execution_count": 15,
   "metadata": {},
   "outputs": [
    {
     "data": {
      "text/html": [
       "<div>\n",
       "<style scoped>\n",
       "    .dataframe tbody tr th:only-of-type {\n",
       "        vertical-align: middle;\n",
       "    }\n",
       "\n",
       "    .dataframe tbody tr th {\n",
       "        vertical-align: top;\n",
       "    }\n",
       "\n",
       "    .dataframe thead th {\n",
       "        text-align: right;\n",
       "    }\n",
       "</style>\n",
       "<table border=\"1\" class=\"dataframe\">\n",
       "  <thead>\n",
       "    <tr style=\"text-align: right;\">\n",
       "      <th></th>\n",
       "      <th>User_ID</th>\n",
       "      <th>Product_ID</th>\n",
       "      <th>Gender</th>\n",
       "      <th>Age</th>\n",
       "      <th>Occupation</th>\n",
       "      <th>City_Category</th>\n",
       "      <th>Stay_In_Current_City_Years</th>\n",
       "      <th>Marital_Status</th>\n",
       "      <th>Product_Category_1</th>\n",
       "      <th>Product_Category_2</th>\n",
       "      <th>Product_Category_3</th>\n",
       "      <th>Purchase</th>\n",
       "    </tr>\n",
       "  </thead>\n",
       "  <tbody>\n",
       "    <tr>\n",
       "      <th>80541</th>\n",
       "      <td>1000411</td>\n",
       "      <td>P00117442</td>\n",
       "      <td>F</td>\n",
       "      <td>46-50</td>\n",
       "      <td>1</td>\n",
       "      <td>B</td>\n",
       "      <td>0</td>\n",
       "      <td>1</td>\n",
       "      <td>5</td>\n",
       "      <td>14.0</td>\n",
       "      <td>NaN</td>\n",
       "      <td>8757</td>\n",
       "    </tr>\n",
       "    <tr>\n",
       "      <th>469742</th>\n",
       "      <td>1000352</td>\n",
       "      <td>P00136142</td>\n",
       "      <td>M</td>\n",
       "      <td>18-25</td>\n",
       "      <td>4</td>\n",
       "      <td>A</td>\n",
       "      <td>0</td>\n",
       "      <td>0</td>\n",
       "      <td>6</td>\n",
       "      <td>16.0</td>\n",
       "      <td>NaN</td>\n",
       "      <td>8644</td>\n",
       "    </tr>\n",
       "    <tr>\n",
       "      <th>477144</th>\n",
       "      <td>1001474</td>\n",
       "      <td>P00029242</td>\n",
       "      <td>M</td>\n",
       "      <td>26-35</td>\n",
       "      <td>4</td>\n",
       "      <td>A</td>\n",
       "      <td>2</td>\n",
       "      <td>1</td>\n",
       "      <td>8</td>\n",
       "      <td>NaN</td>\n",
       "      <td>NaN</td>\n",
       "      <td>6129</td>\n",
       "    </tr>\n",
       "    <tr>\n",
       "      <th>139704</th>\n",
       "      <td>1003589</td>\n",
       "      <td>P00113142</td>\n",
       "      <td>F</td>\n",
       "      <td>46-50</td>\n",
       "      <td>0</td>\n",
       "      <td>B</td>\n",
       "      <td>1</td>\n",
       "      <td>1</td>\n",
       "      <td>1</td>\n",
       "      <td>5.0</td>\n",
       "      <td>12.0</td>\n",
       "      <td>11585</td>\n",
       "    </tr>\n",
       "    <tr>\n",
       "      <th>52739</th>\n",
       "      <td>1002025</td>\n",
       "      <td>P00145642</td>\n",
       "      <td>M</td>\n",
       "      <td>55+</td>\n",
       "      <td>13</td>\n",
       "      <td>C</td>\n",
       "      <td>3</td>\n",
       "      <td>0</td>\n",
       "      <td>1</td>\n",
       "      <td>8.0</td>\n",
       "      <td>17.0</td>\n",
       "      <td>15273</td>\n",
       "    </tr>\n",
       "  </tbody>\n",
       "</table>\n",
       "</div>"
      ],
      "text/plain": [
       "        User_ID Product_ID Gender    Age  Occupation City_Category  \\\n",
       "80541   1000411  P00117442      F  46-50           1             B   \n",
       "469742  1000352  P00136142      M  18-25           4             A   \n",
       "477144  1001474  P00029242      M  26-35           4             A   \n",
       "139704  1003589  P00113142      F  46-50           0             B   \n",
       "52739   1002025  P00145642      M    55+          13             C   \n",
       "\n",
       "       Stay_In_Current_City_Years  Marital_Status  Product_Category_1  \\\n",
       "80541                           0               1                   5   \n",
       "469742                          0               0                   6   \n",
       "477144                          2               1                   8   \n",
       "139704                          1               1                   1   \n",
       "52739                           3               0                   1   \n",
       "\n",
       "        Product_Category_2  Product_Category_3  Purchase  \n",
       "80541                 14.0                 NaN      8757  \n",
       "469742                16.0                 NaN      8644  \n",
       "477144                 NaN                 NaN      6129  \n",
       "139704                 5.0                12.0     11585  \n",
       "52739                  8.0                17.0     15273  "
      ]
     },
     "execution_count": 15,
     "metadata": {},
     "output_type": "execute_result"
    }
   ],
   "source": [
    "train_set.head()"
   ]
  },
  {
   "cell_type": "markdown",
   "metadata": {},
   "source": [
    "Предположим, что атрибут Age является важным атрибутом для прогнозирования Purchase. Постороим стратифицированную выборку на основе категории возраста "
   ]
  },
  {
   "cell_type": "code",
   "execution_count": 16,
   "metadata": {},
   "outputs": [],
   "source": [
    "from sklearn.model_selection import StratifiedShuffleSplit\n",
    "\n",
    "split = StratifiedShuffleSplit(n_splits=1, test_size=0.2, random_state=42)\n",
    "for train_index, test_index in split.split(data_BF, data_BF[\"Age\"]):\n",
    "    strat_train_set = data_BF.loc[train_index]\n",
    "    strat_test_set = data_BF.loc[test_index]"
   ]
  },
  {
   "cell_type": "code",
   "execution_count": 17,
   "metadata": {},
   "outputs": [
    {
     "data": {
      "text/plain": [
       "26-35    0.399364\n",
       "36-45    0.199970\n",
       "18-25    0.181619\n",
       "46-50    0.082825\n",
       "51-55    0.069980\n",
       "55+      0.038887\n",
       "0-17     0.027354\n",
       "Name: Age, dtype: float64"
      ]
     },
     "execution_count": 17,
     "metadata": {},
     "output_type": "execute_result"
    }
   ],
   "source": [
    "strat_test_set[\"Age\"].value_counts() / len(strat_test_set)"
   ]
  },
  {
   "cell_type": "code",
   "execution_count": 18,
   "metadata": {},
   "outputs": [
    {
     "data": {
      "text/plain": [
       "26-35    0.399366\n",
       "36-45    0.199969\n",
       "18-25    0.181619\n",
       "46-50    0.082827\n",
       "51-55    0.069977\n",
       "55+      0.038884\n",
       "0-17     0.027358\n",
       "Name: Age, dtype: float64"
      ]
     },
     "execution_count": 18,
     "metadata": {},
     "output_type": "execute_result"
    }
   ],
   "source": [
    "data_BF[\"Age\"].value_counts() / len(data_BF)"
   ]
  },
  {
   "cell_type": "code",
   "execution_count": 19,
   "metadata": {},
   "outputs": [],
   "source": [
    "def age_proportions(data):\n",
    "    return data[\"Age\"].value_counts() / len(data)\n",
    "\n",
    "train_set, test_set = train_test_split(data_BF, test_size=0.2, random_state=42)\n",
    "\n",
    "compare_props = pd.DataFrame({\n",
    "    \"Overall\": age_proportions(data_BF),\n",
    "    \"Stratified\": age_proportions(strat_test_set),\n",
    "    \"Random\": age_proportions(test_set),\n",
    "}).sort_index()\n",
    "compare_props[\"Rand. %error\"] = 100 * compare_props[\"Random\"] / compare_props[\"Overall\"] - 100\n",
    "compare_props[\"Strat. %error\"] = 100 * compare_props[\"Stratified\"] / compare_props[\"Overall\"] - 100"
   ]
  },
  {
   "cell_type": "code",
   "execution_count": 20,
   "metadata": {},
   "outputs": [
    {
     "data": {
      "text/html": [
       "<div>\n",
       "<style scoped>\n",
       "    .dataframe tbody tr th:only-of-type {\n",
       "        vertical-align: middle;\n",
       "    }\n",
       "\n",
       "    .dataframe tbody tr th {\n",
       "        vertical-align: top;\n",
       "    }\n",
       "\n",
       "    .dataframe thead th {\n",
       "        text-align: right;\n",
       "    }\n",
       "</style>\n",
       "<table border=\"1\" class=\"dataframe\">\n",
       "  <thead>\n",
       "    <tr style=\"text-align: right;\">\n",
       "      <th></th>\n",
       "      <th>Overall</th>\n",
       "      <th>Random</th>\n",
       "      <th>Stratified</th>\n",
       "      <th>Rand. %error</th>\n",
       "      <th>Strat. %error</th>\n",
       "    </tr>\n",
       "  </thead>\n",
       "  <tbody>\n",
       "    <tr>\n",
       "      <th>0-17</th>\n",
       "      <td>0.027358</td>\n",
       "      <td>0.027540</td>\n",
       "      <td>0.027354</td>\n",
       "      <td>0.665788</td>\n",
       "      <td>-0.014157</td>\n",
       "    </tr>\n",
       "    <tr>\n",
       "      <th>18-25</th>\n",
       "      <td>0.181619</td>\n",
       "      <td>0.183117</td>\n",
       "      <td>0.181619</td>\n",
       "      <td>0.824969</td>\n",
       "      <td>0.000466</td>\n",
       "    </tr>\n",
       "    <tr>\n",
       "      <th>26-35</th>\n",
       "      <td>0.399366</td>\n",
       "      <td>0.399847</td>\n",
       "      <td>0.399364</td>\n",
       "      <td>0.120546</td>\n",
       "      <td>-0.000558</td>\n",
       "    </tr>\n",
       "    <tr>\n",
       "      <th>36-45</th>\n",
       "      <td>0.199969</td>\n",
       "      <td>0.200212</td>\n",
       "      <td>0.199970</td>\n",
       "      <td>0.121303</td>\n",
       "      <td>0.000372</td>\n",
       "    </tr>\n",
       "    <tr>\n",
       "      <th>46-50</th>\n",
       "      <td>0.082827</td>\n",
       "      <td>0.081969</td>\n",
       "      <td>0.082825</td>\n",
       "      <td>-1.035902</td>\n",
       "      <td>-0.002804</td>\n",
       "    </tr>\n",
       "    <tr>\n",
       "      <th>51-55</th>\n",
       "      <td>0.069977</td>\n",
       "      <td>0.069255</td>\n",
       "      <td>0.069980</td>\n",
       "      <td>-1.031973</td>\n",
       "      <td>0.004759</td>\n",
       "    </tr>\n",
       "    <tr>\n",
       "      <th>55+</th>\n",
       "      <td>0.038884</td>\n",
       "      <td>0.038059</td>\n",
       "      <td>0.038887</td>\n",
       "      <td>-2.119859</td>\n",
       "      <td>0.009010</td>\n",
       "    </tr>\n",
       "  </tbody>\n",
       "</table>\n",
       "</div>"
      ],
      "text/plain": [
       "        Overall    Random  Stratified  Rand. %error  Strat. %error\n",
       "0-17   0.027358  0.027540    0.027354      0.665788      -0.014157\n",
       "18-25  0.181619  0.183117    0.181619      0.824969       0.000466\n",
       "26-35  0.399366  0.399847    0.399364      0.120546      -0.000558\n",
       "36-45  0.199969  0.200212    0.199970      0.121303       0.000372\n",
       "46-50  0.082827  0.081969    0.082825     -1.035902      -0.002804\n",
       "51-55  0.069977  0.069255    0.069980     -1.031973       0.004759\n",
       "55+    0.038884  0.038059    0.038887     -2.119859       0.009010"
      ]
     },
     "execution_count": 20,
     "metadata": {},
     "output_type": "execute_result"
    }
   ],
   "source": [
    "compare_props"
   ]
  },
  {
   "cell_type": "markdown",
   "metadata": {},
   "source": [
    "Сравнивая пропорции возраста в полном объеме данных, в испытательном наборе, который сгенерирован посредством стратифицированной выборки, и в испытательном наборе, полученном  с применением случайной выборки, имеем, что испытательный набор, полученный с помощью стратифицированной выборки имеет пропорции, идентичные проциям полного набора данных."
   ]
  },
  {
   "cell_type": "markdown",
   "metadata": {},
   "source": [
    "Создадим копию обучающего набора."
   ]
  },
  {
   "cell_type": "code",
   "execution_count": 21,
   "metadata": {},
   "outputs": [],
   "source": [
    "BF = strat_train_set.copy()"
   ]
  },
  {
   "cell_type": "markdown",
   "metadata": {},
   "source": [
    "# Очистка данных"
   ]
  },
  {
   "cell_type": "markdown",
   "metadata": {},
   "source": [
    "Создадим функцию для подготовки данных. Т.к. атрибуты \"Product_Category_2\", \"Product_Category_3\" имееют значения NaN, необхидимо провести очистку данных. Существует три варианта:\n",
    "1. Удалить строки, содержащие NaN;\n",
    "2. Удалить атрибуты, содержащие NaN;\n",
    "3. Заменить NaN мат. ожиданием этого атрибута (Imputer)"
   ]
  },
  {
   "cell_type": "code",
   "execution_count": 22,
   "metadata": {
    "scrolled": true
   },
   "outputs": [],
   "source": [
    "from sklearn.preprocessing import Imputer\n",
    "\n",
    "\n",
    "def prepare (X, drop_col = False, drop_row = False, imputer1 = True):\n",
    "    \n",
    "    if drop_col:\n",
    "        BF_col = X.dropna(subset=[\"Product_Category_2\", \"Product_Category_3\"])\n",
    "        return BF_col\n",
    "    elif drop_row:\n",
    "        BF_row = X.drop([\"Product_Category_2\", \"Product_Category_3\"], axis=1)\n",
    "        return BF_row\n",
    "    else:\n",
    "        imputer = Imputer (strategy = 'median')\n",
    "        imputer.fit(X)\n",
    "        Y = imputer.transform(X)\n",
    "        BF_imput = pd.DataFrame(Y, columns=X.columns, index = list(BF.index.values))\n",
    "        return BF_imput  \n",
    " "
   ]
  },
  {
   "cell_type": "markdown",
   "metadata": {},
   "source": [
    "Т.к. данных достаточно много, попробуем вариант с удалением соответвсующих строк."
   ]
  },
  {
   "cell_type": "code",
   "execution_count": 23,
   "metadata": {},
   "outputs": [
    {
     "data": {
      "text/html": [
       "<div>\n",
       "<style scoped>\n",
       "    .dataframe tbody tr th:only-of-type {\n",
       "        vertical-align: middle;\n",
       "    }\n",
       "\n",
       "    .dataframe tbody tr th {\n",
       "        vertical-align: top;\n",
       "    }\n",
       "\n",
       "    .dataframe thead th {\n",
       "        text-align: right;\n",
       "    }\n",
       "</style>\n",
       "<table border=\"1\" class=\"dataframe\">\n",
       "  <thead>\n",
       "    <tr style=\"text-align: right;\">\n",
       "      <th></th>\n",
       "      <th>User_ID</th>\n",
       "      <th>Product_ID</th>\n",
       "      <th>Gender</th>\n",
       "      <th>Age</th>\n",
       "      <th>Occupation</th>\n",
       "      <th>City_Category</th>\n",
       "      <th>Stay_In_Current_City_Years</th>\n",
       "      <th>Marital_Status</th>\n",
       "      <th>Product_Category_1</th>\n",
       "      <th>Product_Category_2</th>\n",
       "      <th>Product_Category_3</th>\n",
       "      <th>Purchase</th>\n",
       "    </tr>\n",
       "  </thead>\n",
       "  <tbody>\n",
       "    <tr>\n",
       "      <th>134097</th>\n",
       "      <td>1002701</td>\n",
       "      <td>P00037142</td>\n",
       "      <td>M</td>\n",
       "      <td>46-50</td>\n",
       "      <td>1</td>\n",
       "      <td>A</td>\n",
       "      <td>3</td>\n",
       "      <td>1</td>\n",
       "      <td>1</td>\n",
       "      <td>2.0</td>\n",
       "      <td>5.0</td>\n",
       "      <td>7585</td>\n",
       "    </tr>\n",
       "    <tr>\n",
       "      <th>114745</th>\n",
       "      <td>1005711</td>\n",
       "      <td>P00296042</td>\n",
       "      <td>M</td>\n",
       "      <td>26-35</td>\n",
       "      <td>7</td>\n",
       "      <td>C</td>\n",
       "      <td>4+</td>\n",
       "      <td>0</td>\n",
       "      <td>8</td>\n",
       "      <td>13.0</td>\n",
       "      <td>16.0</td>\n",
       "      <td>3998</td>\n",
       "    </tr>\n",
       "    <tr>\n",
       "      <th>172040</th>\n",
       "      <td>1002600</td>\n",
       "      <td>P00015642</td>\n",
       "      <td>M</td>\n",
       "      <td>26-35</td>\n",
       "      <td>14</td>\n",
       "      <td>C</td>\n",
       "      <td>1</td>\n",
       "      <td>1</td>\n",
       "      <td>8</td>\n",
       "      <td>16.0</td>\n",
       "      <td>17.0</td>\n",
       "      <td>7964</td>\n",
       "    </tr>\n",
       "    <tr>\n",
       "      <th>68335</th>\n",
       "      <td>1004449</td>\n",
       "      <td>P00046742</td>\n",
       "      <td>M</td>\n",
       "      <td>26-35</td>\n",
       "      <td>12</td>\n",
       "      <td>C</td>\n",
       "      <td>4+</td>\n",
       "      <td>1</td>\n",
       "      <td>1</td>\n",
       "      <td>2.0</td>\n",
       "      <td>15.0</td>\n",
       "      <td>15334</td>\n",
       "    </tr>\n",
       "    <tr>\n",
       "      <th>233837</th>\n",
       "      <td>1000025</td>\n",
       "      <td>P00066242</td>\n",
       "      <td>M</td>\n",
       "      <td>18-25</td>\n",
       "      <td>4</td>\n",
       "      <td>C</td>\n",
       "      <td>4+</td>\n",
       "      <td>0</td>\n",
       "      <td>1</td>\n",
       "      <td>2.0</td>\n",
       "      <td>5.0</td>\n",
       "      <td>15773</td>\n",
       "    </tr>\n",
       "  </tbody>\n",
       "</table>\n",
       "</div>"
      ],
      "text/plain": [
       "        User_ID Product_ID Gender    Age  Occupation City_Category  \\\n",
       "134097  1002701  P00037142      M  46-50           1             A   \n",
       "114745  1005711  P00296042      M  26-35           7             C   \n",
       "172040  1002600  P00015642      M  26-35          14             C   \n",
       "68335   1004449  P00046742      M  26-35          12             C   \n",
       "233837  1000025  P00066242      M  18-25           4             C   \n",
       "\n",
       "       Stay_In_Current_City_Years  Marital_Status  Product_Category_1  \\\n",
       "134097                          3               1                   1   \n",
       "114745                         4+               0                   8   \n",
       "172040                          1               1                   8   \n",
       "68335                          4+               1                   1   \n",
       "233837                         4+               0                   1   \n",
       "\n",
       "        Product_Category_2  Product_Category_3  Purchase  \n",
       "134097                 2.0                 5.0      7585  \n",
       "114745                13.0                16.0      3998  \n",
       "172040                16.0                17.0      7964  \n",
       "68335                  2.0                15.0     15334  \n",
       "233837                 2.0                 5.0     15773  "
      ]
     },
     "execution_count": 23,
     "metadata": {},
     "output_type": "execute_result"
    }
   ],
   "source": [
    "BF_prep = prepare(BF, drop_col = True, drop_row = False, imputer1 = False)\n",
    "BF_prep.head()"
   ]
  },
  {
   "cell_type": "code",
   "execution_count": 24,
   "metadata": {},
   "outputs": [],
   "source": [
    "BF_data = BF_prep.drop(\"Purchase\", axis=1)\n",
    "BF_labels = BF_prep[\"Purchase\"].copy()"
   ]
  },
  {
   "cell_type": "code",
   "execution_count": 25,
   "metadata": {},
   "outputs": [],
   "source": [
    "\n",
    "from sklearn.preprocessing import FunctionTransformer\n",
    "from future_encoders import OneHotEncoder\n",
    "\n",
    "def coder_cat (X,  one_hot_cat=True, share_cat = False):\n",
    "    BF_cat_Use = X[\"User_ID\"]\n",
    "    BF_cat_Prod = X[\"Product_ID\"]\n",
    "    BF_cat_Gen = X[\"Gender\"]\n",
    "    BF_cat_Age = X[\"Age\"]\n",
    "    BF_cat_CC = X[\"City_Category\"]\n",
    "    BF_cat_SCCY = X[\"Stay_In_Current_City_Years\"]\n",
    "    BF_cat_MS = X[\"Marital_Status\"]\n",
    "    BF_cat_Prod1 = X[\"Product_Category_1\"]\n",
    "    BF_cat_Prod2 = X[\"Product_Category_2\"]\n",
    "    BF_cat_Prod3 = X[\"Product_Category_3\"]\n",
    "    \n",
    "    encoder = OneHotEncoder(sparse=False)\n",
    "        \n",
    "    BF_cat_Use_encoded, BF_categories_Use = BF_cat_Use.factorize()\n",
    "    BF_cat_Prod_encoded, BF_categories_Prod = BF_cat_Prod.factorize()\n",
    "    BF_cat_Gen_encoded, BF_categories_Gen = BF_cat_Gen.factorize()\n",
    "    BF_cat_Age_encoded, BF_categories_Age = BF_cat_Age.factorize()\n",
    "    BF_cat_CC_encoded, BF_categories_CC = BF_cat_CC.factorize()\n",
    "    BF_cat_SCCY_encoded, BF_categories_SCCY = BF_cat_SCCY.factorize()\n",
    "    BF_cat_MS_encoded, BF_categories_MS = BF_cat_MS.factorize() \n",
    "    BF_cat_Prod1_encoded, BF_categories_Prod1 = BF_cat_Prod1.factorize()\n",
    "    BF_cat_Prod2_encoded, BF_categories_Prod2 = BF_cat_Prod2.factorize()\n",
    "    BF_cat_Prod3_encoded, BF_categories_Prod3 = BF_cat_Prod3.factorize()\n",
    "\n",
    "\n",
    "   \n",
    "    if one_hot_cat:\n",
    "        BF_cat_Use_1hot = encoder.fit_transform(BF_cat_Use_encoded.reshape(-1,1))\n",
    "        BF_cat_Prod_1hot = encoder.fit_transform(BF_cat_Prod_encoded.reshape(-1,1))\n",
    "        BF_cat_Gen_1hot = encoder.fit_transform(BF_cat_Gen_encoded.reshape(-1,1))\n",
    "        BF_cat_Gen_1hot = encoder.fit_transform(BF_cat_Gen_encoded.reshape(-1,1))\n",
    "        BF_cat_Age_1hot = encoder.fit_transform(BF_cat_Age_encoded.reshape(-1,1))\n",
    "        BF_cat_CC_1hot = encoder.fit_transform(BF_cat_CC_encoded.reshape(-1,1))\n",
    "        BF_cat_SCCY_1hot = encoder.fit_transform(BF_cat_SCCY_encoded.reshape(-1,1))\n",
    "        BF_cat_MS_1hot = encoder.fit_transform(BF_cat_MS_encoded.reshape(-1,1))\n",
    "        BF_cat_Prod1_1hot = encoder.fit_transform(BF_cat_Prod1_encoded.reshape(-1,1))\n",
    "        BF_cat_Prod2_1hot = encoder.fit_transform(BF_cat_Prod2_encoded.reshape(-1,1))\n",
    "        BF_cat_Prod3_1hot = encoder.fit_transform(BF_cat_Prod3_encoded.reshape(-1,1))\n",
    "        \n",
    "        return np.c_[BF_cat_Use_1hot, BF_cat_Prod_1hot, BF_cat_Gen_1hot, BF_cat_Age_1hot, BF_cat_CC_1hot, BF_cat_SCCY_1hot,\n",
    "                     BF_cat_MS_1hot, BF_cat_Prod1_1hot, BF_cat_Prod2_1hot, BF_cat_Prod3_1hot]\n",
    "    else:\n",
    "        X[\"BF_cat_Use_cod\"] = X[\"User_ID\"].map(X.groupby(\"User_ID\").size())\n",
    "        X[\"BF_cat_Prod_cod\"] = X[\"Product_ID\"].map(X.groupby(\"Product_ID\").size())\n",
    "        X[\"BF_cat_Gen_cod\"] = X[\"Gender\"].map(X.groupby(\"Gender\").size())\n",
    "        X[\"BF_cat_Age_cod\"] = X[\"Age\"].map(X.groupby(\"Age\").size())\n",
    "        X[\"BF_cat_CC_cod\"] = X[\"City_Category\"].map(X.groupby(X[\"City_Category\"]).size())\n",
    "        X[\"BF_cat_SCCY_cod\"] = X[\"Stay_In_Current_City_Years\"].map(X.groupby(X[\"Stay_In_Current_City_Years\"]).size())\n",
    "        X[\"BF_cat_MS_cod\"] = X[\"Marital_Status\"].map(X.groupby(X[\"Marital_Status\"]).size())\n",
    "        X[\"BF_cat_Prod1_cod\"] = X[\"Product_Category_1\"].map(X.groupby(X[\"Product_Category_1\"]).size())\n",
    "        X[\"BF_cat_Prod2_cod\"] = X[\"Product_Category_2\"].map(X.groupby(X[\"Product_Category_2\"]).size())\n",
    "        X[\"BF_cat_Prod3_cod\"] = X[\"Product_Category_3\"].map(X.groupby(X[\"Product_Category_3\"]).size())\n",
    "        \n",
    "        return np.c_[X[\"BF_cat_Use_cod\"], X[\"BF_cat_Prod_cod\"], X[\"BF_cat_Gen_cod\"], X[\"BF_cat_Age_cod\"], X[\"BF_cat_CC_cod\"],\n",
    "                     X[\"BF_cat_SCCY_cod\"], X[\"BF_cat_MS_cod\"], X[\"BF_cat_Prod1_cod\"], X[\"BF_cat_Prod2_cod\"], X[\"BF_cat_Prod3_cod\"] ]\n",
    "\n",
    "#attr_coder = FunctionTransformer(coder_cat, validate=False,\n",
    "                                 #kw_args={\"one_hot_cat\": False, \"share_cat\": True})\n",
    "#BF_coder = attr_coder.fit_transform(BF_prep)\n",
    "#BF_coder.shape"
   ]
  },
  {
   "cell_type": "markdown",
   "metadata": {},
   "source": [
    "Применим pipeline для категориальных данных"
   ]
  },
  {
   "cell_type": "code",
   "execution_count": 26,
   "metadata": {},
   "outputs": [],
   "source": [
    "from sklearn.pipeline import Pipeline\n",
    "from sklearn.preprocessing import StandardScaler\n",
    "\n",
    "cat_pipeline = Pipeline([\n",
    "    ('coder',  FunctionTransformer(coder_cat, validate=False, kw_args={\"one_hot_cat\": False, \"share_cat\": True})),\n",
    "    ('std_scaler', StandardScaler())\n",
    "])"
   ]
  },
  {
   "cell_type": "code",
   "execution_count": 27,
   "metadata": {
    "scrolled": false
   },
   "outputs": [
    {
     "name": "stderr",
     "output_type": "stream",
     "text": [
      "C:\\ProgramData\\Anaconda3\\lib\\site-packages\\sklearn\\utils\\validation.py:475: DataConversionWarning: Data with input dtype int64 was converted to float64 by StandardScaler.\n",
      "  warnings.warn(msg, DataConversionWarning)\n"
     ]
    }
   ],
   "source": [
    "BF_prepared = cat_pipeline.fit_transform(BF_data)"
   ]
  },
  {
   "cell_type": "code",
   "execution_count": 28,
   "metadata": {},
   "outputs": [
    {
     "data": {
      "text/plain": [
       "array([[-0.6415357 ,  0.35457624,  0.53822887, ...,  0.90657471,\n",
       "         1.48603752, -0.28233173],\n",
       "       [-1.22388627,  0.29726541,  0.53822887, ..., -1.19027475,\n",
       "        -1.22887199,  1.40203722],\n",
       "       [-1.28212132, -0.53055776,  0.53822887, ..., -1.19027475,\n",
       "        -1.61398056, -0.26619818],\n",
       "       ...,\n",
       "       [ 0.17375509, -1.34246126,  0.53822887, ..., -1.00575252,\n",
       "        -0.26099096, -0.28233173],\n",
       "       [-0.8453584 ,  0.31636902,  0.53822887, ...,  0.90657471,\n",
       "        -0.52549417, -0.68818305],\n",
       "       [-0.05918514, -0.29813049,  0.53822887, ...,  0.90657471,\n",
       "        -1.26035828,  0.913799  ]])"
      ]
     },
     "execution_count": 28,
     "metadata": {},
     "output_type": "execute_result"
    }
   ],
   "source": [
    "BF_prepared"
   ]
  },
  {
   "cell_type": "code",
   "execution_count": 29,
   "metadata": {},
   "outputs": [
    {
     "data": {
      "text/plain": [
       "(131600, 10)"
      ]
     },
     "execution_count": 29,
     "metadata": {},
     "output_type": "execute_result"
    }
   ],
   "source": [
    "BF_prepared.shape"
   ]
  },
  {
   "cell_type": "markdown",
   "metadata": {},
   "source": [
    "# Обучение модели"
   ]
  },
  {
   "cell_type": "markdown",
   "metadata": {},
   "source": [
    "Обучим модель линейной регрессией"
   ]
  },
  {
   "cell_type": "code",
   "execution_count": 30,
   "metadata": {},
   "outputs": [
    {
     "data": {
      "text/plain": [
       "LinearRegression(copy_X=True, fit_intercept=True, n_jobs=1, normalize=False)"
      ]
     },
     "execution_count": 30,
     "metadata": {},
     "output_type": "execute_result"
    }
   ],
   "source": [
    "from sklearn.linear_model import LinearRegression\n",
    "\n",
    "lin_reg = LinearRegression()\n",
    "lin_reg.fit(BF_prepared, BF_labels)"
   ]
  },
  {
   "cell_type": "markdown",
   "metadata": {},
   "source": [
    "Опробуем полученную модель на нескольких образцах  из обучаещего набора:"
   ]
  },
  {
   "cell_type": "code",
   "execution_count": 31,
   "metadata": {
    "scrolled": true
   },
   "outputs": [
    {
     "name": "stderr",
     "output_type": "stream",
     "text": [
      "C:\\ProgramData\\Anaconda3\\lib\\site-packages\\ipykernel_launcher.py:48: SettingWithCopyWarning: \n",
      "A value is trying to be set on a copy of a slice from a DataFrame.\n",
      "Try using .loc[row_indexer,col_indexer] = value instead\n",
      "\n",
      "See the caveats in the documentation: http://pandas.pydata.org/pandas-docs/stable/indexing.html#indexing-view-versus-copy\n",
      "C:\\ProgramData\\Anaconda3\\lib\\site-packages\\ipykernel_launcher.py:49: SettingWithCopyWarning: \n",
      "A value is trying to be set on a copy of a slice from a DataFrame.\n",
      "Try using .loc[row_indexer,col_indexer] = value instead\n",
      "\n",
      "See the caveats in the documentation: http://pandas.pydata.org/pandas-docs/stable/indexing.html#indexing-view-versus-copy\n",
      "C:\\ProgramData\\Anaconda3\\lib\\site-packages\\ipykernel_launcher.py:50: SettingWithCopyWarning: \n",
      "A value is trying to be set on a copy of a slice from a DataFrame.\n",
      "Try using .loc[row_indexer,col_indexer] = value instead\n",
      "\n",
      "See the caveats in the documentation: http://pandas.pydata.org/pandas-docs/stable/indexing.html#indexing-view-versus-copy\n",
      "C:\\ProgramData\\Anaconda3\\lib\\site-packages\\ipykernel_launcher.py:51: SettingWithCopyWarning: \n",
      "A value is trying to be set on a copy of a slice from a DataFrame.\n",
      "Try using .loc[row_indexer,col_indexer] = value instead\n",
      "\n",
      "See the caveats in the documentation: http://pandas.pydata.org/pandas-docs/stable/indexing.html#indexing-view-versus-copy\n",
      "C:\\ProgramData\\Anaconda3\\lib\\site-packages\\ipykernel_launcher.py:52: SettingWithCopyWarning: \n",
      "A value is trying to be set on a copy of a slice from a DataFrame.\n",
      "Try using .loc[row_indexer,col_indexer] = value instead\n",
      "\n",
      "See the caveats in the documentation: http://pandas.pydata.org/pandas-docs/stable/indexing.html#indexing-view-versus-copy\n",
      "C:\\ProgramData\\Anaconda3\\lib\\site-packages\\ipykernel_launcher.py:53: SettingWithCopyWarning: \n",
      "A value is trying to be set on a copy of a slice from a DataFrame.\n",
      "Try using .loc[row_indexer,col_indexer] = value instead\n",
      "\n",
      "See the caveats in the documentation: http://pandas.pydata.org/pandas-docs/stable/indexing.html#indexing-view-versus-copy\n",
      "C:\\ProgramData\\Anaconda3\\lib\\site-packages\\ipykernel_launcher.py:54: SettingWithCopyWarning: \n",
      "A value is trying to be set on a copy of a slice from a DataFrame.\n",
      "Try using .loc[row_indexer,col_indexer] = value instead\n",
      "\n",
      "See the caveats in the documentation: http://pandas.pydata.org/pandas-docs/stable/indexing.html#indexing-view-versus-copy\n",
      "C:\\ProgramData\\Anaconda3\\lib\\site-packages\\ipykernel_launcher.py:55: SettingWithCopyWarning: \n",
      "A value is trying to be set on a copy of a slice from a DataFrame.\n",
      "Try using .loc[row_indexer,col_indexer] = value instead\n",
      "\n",
      "See the caveats in the documentation: http://pandas.pydata.org/pandas-docs/stable/indexing.html#indexing-view-versus-copy\n",
      "C:\\ProgramData\\Anaconda3\\lib\\site-packages\\ipykernel_launcher.py:56: SettingWithCopyWarning: \n",
      "A value is trying to be set on a copy of a slice from a DataFrame.\n",
      "Try using .loc[row_indexer,col_indexer] = value instead\n",
      "\n",
      "See the caveats in the documentation: http://pandas.pydata.org/pandas-docs/stable/indexing.html#indexing-view-versus-copy\n",
      "C:\\ProgramData\\Anaconda3\\lib\\site-packages\\ipykernel_launcher.py:57: SettingWithCopyWarning: \n",
      "A value is trying to be set on a copy of a slice from a DataFrame.\n",
      "Try using .loc[row_indexer,col_indexer] = value instead\n",
      "\n",
      "See the caveats in the documentation: http://pandas.pydata.org/pandas-docs/stable/indexing.html#indexing-view-versus-copy\n",
      "C:\\ProgramData\\Anaconda3\\lib\\site-packages\\sklearn\\utils\\validation.py:475: DataConversionWarning: Data with input dtype int64 was converted to float64 by StandardScaler.\n",
      "  warnings.warn(msg, DataConversionWarning)\n"
     ]
    }
   ],
   "source": [
    "some_data = BF_data.iloc[:5]\n",
    "some_labels = BF_labels.iloc[:5]\n",
    "some_data_prepared = cat_pipeline.fit_transform(some_data)"
   ]
  },
  {
   "cell_type": "code",
   "execution_count": 32,
   "metadata": {},
   "outputs": [
    {
     "name": "stdout",
     "output_type": "stream",
     "text": [
      "Прогнозы: [13203.13178225  9321.16754566  9208.74754784 13191.37016169\n",
      " 13394.29181514]\n"
     ]
    }
   ],
   "source": [
    "print(\"Прогнозы:\", lin_reg.predict(some_data_prepared))"
   ]
  },
  {
   "cell_type": "code",
   "execution_count": 33,
   "metadata": {},
   "outputs": [
    {
     "name": "stdout",
     "output_type": "stream",
     "text": [
      "Метки: [7585, 3998, 7964, 15334, 15773]\n"
     ]
    }
   ],
   "source": [
    "print(\"Метки:\", list(some_labels))"
   ]
  },
  {
   "cell_type": "markdown",
   "metadata": {},
   "source": [
    "Модель работает, но предсказания достаточно неточные. Вычисли ошибку RMSE этой модели на целом обучаещем наборе"
   ]
  },
  {
   "cell_type": "code",
   "execution_count": 34,
   "metadata": {},
   "outputs": [
    {
     "data": {
      "text/plain": [
       "4353.762142567611"
      ]
     },
     "execution_count": 34,
     "metadata": {},
     "output_type": "execute_result"
    }
   ],
   "source": [
    "from sklearn.metrics import mean_squared_error\n",
    "\n",
    "BF_predictions = lin_reg.predict(BF_prepared)\n",
    "lin_mse = mean_squared_error(BF_labels, BF_predictions)\n",
    "lin_rmse = np.sqrt(lin_mse)\n",
    "lin_rmse"
   ]
  },
  {
   "cell_type": "markdown",
   "metadata": {},
   "source": [
    "Обучим модель DecisionTreeRegressor"
   ]
  },
  {
   "cell_type": "code",
   "execution_count": 35,
   "metadata": {},
   "outputs": [
    {
     "data": {
      "text/plain": [
       "DecisionTreeRegressor(criterion='mse', max_depth=None, max_features=None,\n",
       "           max_leaf_nodes=None, min_impurity_decrease=0.0,\n",
       "           min_impurity_split=None, min_samples_leaf=1,\n",
       "           min_samples_split=2, min_weight_fraction_leaf=0.0,\n",
       "           presort=False, random_state=42, splitter='best')"
      ]
     },
     "execution_count": 35,
     "metadata": {},
     "output_type": "execute_result"
    }
   ],
   "source": [
    "from sklearn.tree import DecisionTreeRegressor\n",
    "\n",
    "tree_reg = DecisionTreeRegressor(random_state=42)\n",
    "tree_reg.fit(BF_prepared, BF_labels)"
   ]
  },
  {
   "cell_type": "code",
   "execution_count": 36,
   "metadata": {},
   "outputs": [
    {
     "data": {
      "text/plain": [
       "467.1091778961831"
      ]
     },
     "execution_count": 36,
     "metadata": {},
     "output_type": "execute_result"
    }
   ],
   "source": [
    "BF_predictions = tree_reg.predict(BF_prepared)\n",
    "tree_mse = mean_squared_error(BF_labels, BF_predictions)\n",
    "tree_rmse = np.sqrt(tree_mse)\n",
    "tree_rmse"
   ]
  },
  {
   "cell_type": "markdown",
   "metadata": {},
   "source": [
    "Обучим модель RandomForestRegressor"
   ]
  },
  {
   "cell_type": "code",
   "execution_count": 37,
   "metadata": {},
   "outputs": [
    {
     "data": {
      "text/plain": [
       "RandomForestRegressor(bootstrap=True, criterion='mse', max_depth=None,\n",
       "           max_features='auto', max_leaf_nodes=None,\n",
       "           min_impurity_decrease=0.0, min_impurity_split=None,\n",
       "           min_samples_leaf=1, min_samples_split=2,\n",
       "           min_weight_fraction_leaf=0.0, n_estimators=10, n_jobs=1,\n",
       "           oob_score=False, random_state=42, verbose=0, warm_start=False)"
      ]
     },
     "execution_count": 37,
     "metadata": {},
     "output_type": "execute_result"
    }
   ],
   "source": [
    "from sklearn.ensemble import RandomForestRegressor\n",
    "\n",
    "forest_reg = RandomForestRegressor(n_estimators=10, random_state=42)\n",
    "forest_reg.fit(BF_prepared, BF_labels)"
   ]
  },
  {
   "cell_type": "code",
   "execution_count": 38,
   "metadata": {},
   "outputs": [
    {
     "data": {
      "text/plain": [
       "1520.5216485845901"
      ]
     },
     "execution_count": 38,
     "metadata": {},
     "output_type": "execute_result"
    }
   ],
   "source": [
    "BF_predictions = forest_reg.predict(BF_prepared)\n",
    "forest_mse = mean_squared_error(BF_labels, BF_predictions)\n",
    "forest_rmse = np.sqrt(forest_mse)\n",
    "forest_rmse"
   ]
  },
  {
   "cell_type": "markdown",
   "metadata": {},
   "source": [
    "Обучим модель SVR"
   ]
  },
  {
   "cell_type": "code",
   "execution_count": 39,
   "metadata": {},
   "outputs": [],
   "source": [
    "#from sklearn.svm import SVR\n",
    "#svr_reg = SVR()\n",
    "#svr_reg.fit(BF_prepared, BF_labels)"
   ]
  },
  {
   "cell_type": "code",
   "execution_count": 40,
   "metadata": {},
   "outputs": [],
   "source": [
    "#BF_predictions = svr_reg.predict(BF_prepared)\n",
    "#svr_mse = mean_squared_error(BF_labels, BF_predictions)\n",
    "#svr_rmse = np.sqrt(svr_mse)\n",
    "#svr_rmse"
   ]
  },
  {
   "cell_type": "markdown",
   "metadata": {},
   "source": [
    "# Оценка с использованием перекстной проверки(k-fold cross-validation)"
   ]
  },
  {
   "cell_type": "code",
   "execution_count": 41,
   "metadata": {},
   "outputs": [],
   "source": [
    "from sklearn.model_selection import cross_val_score\n",
    "\n",
    "scores = cross_val_score(tree_reg, BF_prepared, BF_labels,\n",
    "                         scoring=\"neg_mean_squared_error\", cv=10)\n",
    "tree_rmse_scores = np.sqrt(-scores)"
   ]
  },
  {
   "cell_type": "code",
   "execution_count": 42,
   "metadata": {},
   "outputs": [],
   "source": [
    "from sklearn.model_selection import cross_val_score\n",
    "\n",
    "scores = cross_val_score(lin_reg, BF_prepared, BF_labels,\n",
    "                         scoring=\"neg_mean_squared_error\", cv=10)\n",
    "lin_rmse_scores = np.sqrt(-scores)"
   ]
  },
  {
   "cell_type": "code",
   "execution_count": 43,
   "metadata": {},
   "outputs": [],
   "source": [
    "from sklearn.model_selection import cross_val_score\n",
    "\n",
    "scores = cross_val_score(forest_reg, BF_prepared, BF_labels,\n",
    "                         scoring=\"neg_mean_squared_error\", cv=10)\n",
    "forest_rmse_scores = np.sqrt(-scores)"
   ]
  },
  {
   "cell_type": "code",
   "execution_count": 44,
   "metadata": {},
   "outputs": [],
   "source": [
    "def display_scores(scores):\n",
    "    print(\"Scores:\", scores)\n",
    "    print(\"Mean:\", scores.mean())\n",
    "    print(\"Standard deviation:\", scores.std())"
   ]
  },
  {
   "cell_type": "code",
   "execution_count": 45,
   "metadata": {},
   "outputs": [
    {
     "name": "stdout",
     "output_type": "stream",
     "text": [
      "Scores: [4597.98094366 4637.62162071 4613.5636918  4575.10243327 4514.75245478\n",
      " 4574.65739502 4625.73071047 4596.46963504 4593.71524859 4569.08157597]\n",
      "Mean: 4589.867570932882\n",
      "Standard deviation: 32.826872962566696\n"
     ]
    }
   ],
   "source": [
    "display_scores(tree_rmse_scores)"
   ]
  },
  {
   "cell_type": "code",
   "execution_count": 46,
   "metadata": {},
   "outputs": [
    {
     "name": "stdout",
     "output_type": "stream",
     "text": [
      "Scores: [4376.83212378 4382.91671277 4358.10397095 4382.82586491 4328.24737927\n",
      " 4332.98884652 4371.50770279 4366.09098259 4322.94031543 4318.54824859]\n",
      "Mean: 4354.100214759708\n",
      "Standard deviation: 24.462344602326\n"
     ]
    }
   ],
   "source": [
    "display_scores(lin_rmse_scores)"
   ]
  },
  {
   "cell_type": "code",
   "execution_count": 47,
   "metadata": {},
   "outputs": [
    {
     "name": "stdout",
     "output_type": "stream",
     "text": [
      "Scores: [3556.22728719 3529.63865291 3553.60207021 3542.28330616 3523.79093195\n",
      " 3505.80346776 3546.82985803 3503.86448175 3525.47408839 3513.21095482]\n",
      "Mean: 3530.0725099165043\n",
      "Standard deviation: 18.134431240177673\n"
     ]
    }
   ],
   "source": [
    "display_scores(forest_rmse_scores)"
   ]
  },
  {
   "cell_type": "markdown",
   "metadata": {},
   "source": [
    "Полученные результаты позволяют сделать вывод о том, что из приведенных моделей, лучшей является RandomForestRegressor"
   ]
  },
  {
   "cell_type": "markdown",
   "metadata": {},
   "source": [
    "# Точная настройка модели"
   ]
  },
  {
   "cell_type": "markdown",
   "metadata": {},
   "source": [
    "Оценим все возможные комбинации гиперпараметров для использованных моделей с помощью GridSearchCV. Первой проработаем модель, показувшую лучшие результаты."
   ]
  },
  {
   "cell_type": "code",
   "execution_count": 48,
   "metadata": {},
   "outputs": [
    {
     "data": {
      "text/plain": [
       "GridSearchCV(cv=5, error_score='raise',\n",
       "       estimator=RandomForestRegressor(bootstrap=True, criterion='mse', max_depth=None,\n",
       "           max_features='auto', max_leaf_nodes=None,\n",
       "           min_impurity_decrease=0.0, min_impurity_split=None,\n",
       "           min_samples_leaf=1, min_samples_split=2,\n",
       "           min_weight_fraction_leaf=0.0, n_estimators=10, n_jobs=1,\n",
       "           oob_score=False, random_state=42, verbose=0, warm_start=False),\n",
       "       fit_params=None, iid=True, n_jobs=1,\n",
       "       param_grid=[{'n_estimators': [50, 60, 70, 80], 'max_features': [2, 4, 6, 8]}, {'bootstrap': [False], 'n_estimators': [3, 10], 'max_features': [2, 3, 4]}],\n",
       "       pre_dispatch='2*n_jobs', refit=True, return_train_score=True,\n",
       "       scoring='neg_mean_squared_error', verbose=0)"
      ]
     },
     "execution_count": 48,
     "metadata": {},
     "output_type": "execute_result"
    }
   ],
   "source": [
    "from sklearn.model_selection import GridSearchCV\n",
    "\n",
    "param_grid = [\n",
    "    # try 12 (3×4) combinations of hyperparameters\n",
    "    {'n_estimators': [50, 60, 70, 80], 'max_features': [2, 4, 6, 8]},\n",
    "    # then try 6 (2×3) combinations with bootstrap set as False\n",
    "    {'bootstrap': [False], 'n_estimators': [3, 10], 'max_features': [2, 3, 4]},\n",
    "  ]\n",
    "\n",
    "forest_reg = RandomForestRegressor(random_state=42)\n",
    "# train across 5 folds, that's a total of (12+6)*5=90 rounds of training \n",
    "grid_search = GridSearchCV(forest_reg, param_grid, cv=5,\n",
    "                           scoring='neg_mean_squared_error', return_train_score=True)\n",
    "grid_search.fit(BF_prepared, BF_labels)"
   ]
  },
  {
   "cell_type": "code",
   "execution_count": 49,
   "metadata": {},
   "outputs": [
    {
     "data": {
      "text/plain": [
       "{'max_features': 2, 'n_estimators': 80}"
      ]
     },
     "execution_count": 49,
     "metadata": {},
     "output_type": "execute_result"
    }
   ],
   "source": [
    "grid_search.best_params_"
   ]
  },
  {
   "cell_type": "code",
   "execution_count": 50,
   "metadata": {},
   "outputs": [
    {
     "data": {
      "text/plain": [
       "RandomForestRegressor(bootstrap=True, criterion='mse', max_depth=None,\n",
       "           max_features=2, max_leaf_nodes=None, min_impurity_decrease=0.0,\n",
       "           min_impurity_split=None, min_samples_leaf=1,\n",
       "           min_samples_split=2, min_weight_fraction_leaf=0.0,\n",
       "           n_estimators=80, n_jobs=1, oob_score=False, random_state=42,\n",
       "           verbose=0, warm_start=False)"
      ]
     },
     "execution_count": 50,
     "metadata": {},
     "output_type": "execute_result"
    }
   ],
   "source": [
    "grid_search.best_estimator_"
   ]
  },
  {
   "cell_type": "code",
   "execution_count": 51,
   "metadata": {},
   "outputs": [
    {
     "name": "stdout",
     "output_type": "stream",
     "text": [
      "3378.745798277235 {'max_features': 2, 'n_estimators': 50}\n",
      "3373.0904530196435 {'max_features': 2, 'n_estimators': 60}\n",
      "3369.408871044574 {'max_features': 2, 'n_estimators': 70}\n",
      "3365.794636061621 {'max_features': 2, 'n_estimators': 80}\n",
      "3378.1317654470186 {'max_features': 4, 'n_estimators': 50}\n",
      "3374.542475530636 {'max_features': 4, 'n_estimators': 60}\n",
      "3370.4280977796548 {'max_features': 4, 'n_estimators': 70}\n",
      "3367.437114192795 {'max_features': 4, 'n_estimators': 80}\n",
      "3391.7377805582637 {'max_features': 6, 'n_estimators': 50}\n",
      "3385.6955709331605 {'max_features': 6, 'n_estimators': 60}\n",
      "3382.375820492561 {'max_features': 6, 'n_estimators': 70}\n",
      "3380.751207307257 {'max_features': 6, 'n_estimators': 80}\n",
      "3401.629677960969 {'max_features': 8, 'n_estimators': 50}\n",
      "3397.551866767319 {'max_features': 8, 'n_estimators': 60}\n",
      "3394.4142458095916 {'max_features': 8, 'n_estimators': 70}\n",
      "3391.0909643359037 {'max_features': 8, 'n_estimators': 80}\n",
      "3906.378467247047 {'bootstrap': False, 'max_features': 2, 'n_estimators': 3}\n",
      "3643.6744233058453 {'bootstrap': False, 'max_features': 2, 'n_estimators': 10}\n",
      "3879.3323554175445 {'bootstrap': False, 'max_features': 3, 'n_estimators': 3}\n",
      "3640.2583606623116 {'bootstrap': False, 'max_features': 3, 'n_estimators': 10}\n",
      "3890.4291749868767 {'bootstrap': False, 'max_features': 4, 'n_estimators': 3}\n",
      "3645.9246599866324 {'bootstrap': False, 'max_features': 4, 'n_estimators': 10}\n"
     ]
    }
   ],
   "source": [
    "cvres = grid_search.cv_results_\n",
    "for mean_score, params in zip(cvres[\"mean_test_score\"], cvres[\"params\"]):\n",
    "    print(np.sqrt(-mean_score), params)"
   ]
  },
  {
   "cell_type": "code",
   "execution_count": 52,
   "metadata": {},
   "outputs": [
    {
     "data": {
      "text/html": [
       "<div>\n",
       "<style scoped>\n",
       "    .dataframe tbody tr th:only-of-type {\n",
       "        vertical-align: middle;\n",
       "    }\n",
       "\n",
       "    .dataframe tbody tr th {\n",
       "        vertical-align: top;\n",
       "    }\n",
       "\n",
       "    .dataframe thead th {\n",
       "        text-align: right;\n",
       "    }\n",
       "</style>\n",
       "<table border=\"1\" class=\"dataframe\">\n",
       "  <thead>\n",
       "    <tr style=\"text-align: right;\">\n",
       "      <th></th>\n",
       "      <th>mean_fit_time</th>\n",
       "      <th>mean_score_time</th>\n",
       "      <th>mean_test_score</th>\n",
       "      <th>mean_train_score</th>\n",
       "      <th>param_bootstrap</th>\n",
       "      <th>param_max_features</th>\n",
       "      <th>param_n_estimators</th>\n",
       "      <th>params</th>\n",
       "      <th>rank_test_score</th>\n",
       "      <th>split0_test_score</th>\n",
       "      <th>...</th>\n",
       "      <th>split2_test_score</th>\n",
       "      <th>split2_train_score</th>\n",
       "      <th>split3_test_score</th>\n",
       "      <th>split3_train_score</th>\n",
       "      <th>split4_test_score</th>\n",
       "      <th>split4_train_score</th>\n",
       "      <th>std_fit_time</th>\n",
       "      <th>std_score_time</th>\n",
       "      <th>std_test_score</th>\n",
       "      <th>std_train_score</th>\n",
       "    </tr>\n",
       "  </thead>\n",
       "  <tbody>\n",
       "    <tr>\n",
       "      <th>0</th>\n",
       "      <td>10.158981</td>\n",
       "      <td>0.677041</td>\n",
       "      <td>-1.141592e+07</td>\n",
       "      <td>-1.756337e+06</td>\n",
       "      <td>NaN</td>\n",
       "      <td>2</td>\n",
       "      <td>50</td>\n",
       "      <td>{'max_features': 2, 'n_estimators': 50}</td>\n",
       "      <td>8</td>\n",
       "      <td>-1.149205e+07</td>\n",
       "      <td>...</td>\n",
       "      <td>-1.134404e+07</td>\n",
       "      <td>-1.763064e+06</td>\n",
       "      <td>-1.145821e+07</td>\n",
       "      <td>-1.754982e+06</td>\n",
       "      <td>-1.126661e+07</td>\n",
       "      <td>-1.759139e+06</td>\n",
       "      <td>0.083770</td>\n",
       "      <td>0.007643</td>\n",
       "      <td>95510.504169</td>\n",
       "      <td>4209.247415</td>\n",
       "    </tr>\n",
       "    <tr>\n",
       "      <th>1</th>\n",
       "      <td>12.461302</td>\n",
       "      <td>0.817441</td>\n",
       "      <td>-1.137774e+07</td>\n",
       "      <td>-1.735266e+06</td>\n",
       "      <td>NaN</td>\n",
       "      <td>2</td>\n",
       "      <td>60</td>\n",
       "      <td>{'max_features': 2, 'n_estimators': 60}</td>\n",
       "      <td>5</td>\n",
       "      <td>-1.146123e+07</td>\n",
       "      <td>...</td>\n",
       "      <td>-1.131853e+07</td>\n",
       "      <td>-1.740130e+06</td>\n",
       "      <td>-1.141848e+07</td>\n",
       "      <td>-1.736661e+06</td>\n",
       "      <td>-1.124020e+07</td>\n",
       "      <td>-1.740501e+06</td>\n",
       "      <td>0.431126</td>\n",
       "      <td>0.012480</td>\n",
       "      <td>85221.585335</td>\n",
       "      <td>4881.327467</td>\n",
       "    </tr>\n",
       "    <tr>\n",
       "      <th>2</th>\n",
       "      <td>14.544891</td>\n",
       "      <td>0.959002</td>\n",
       "      <td>-1.135292e+07</td>\n",
       "      <td>-1.720532e+06</td>\n",
       "      <td>NaN</td>\n",
       "      <td>2</td>\n",
       "      <td>70</td>\n",
       "      <td>{'max_features': 2, 'n_estimators': 70}</td>\n",
       "      <td>3</td>\n",
       "      <td>-1.144089e+07</td>\n",
       "      <td>...</td>\n",
       "      <td>-1.128875e+07</td>\n",
       "      <td>-1.723940e+06</td>\n",
       "      <td>-1.139179e+07</td>\n",
       "      <td>-1.722755e+06</td>\n",
       "      <td>-1.122136e+07</td>\n",
       "      <td>-1.724922e+06</td>\n",
       "      <td>0.841533</td>\n",
       "      <td>0.015620</td>\n",
       "      <td>84162.582546</td>\n",
       "      <td>4160.360892</td>\n",
       "    </tr>\n",
       "    <tr>\n",
       "      <th>3</th>\n",
       "      <td>16.377309</td>\n",
       "      <td>1.101362</td>\n",
       "      <td>-1.132857e+07</td>\n",
       "      <td>-1.707464e+06</td>\n",
       "      <td>NaN</td>\n",
       "      <td>2</td>\n",
       "      <td>80</td>\n",
       "      <td>{'max_features': 2, 'n_estimators': 80}</td>\n",
       "      <td>1</td>\n",
       "      <td>-1.141487e+07</td>\n",
       "      <td>...</td>\n",
       "      <td>-1.126594e+07</td>\n",
       "      <td>-1.710497e+06</td>\n",
       "      <td>-1.136218e+07</td>\n",
       "      <td>-1.710673e+06</td>\n",
       "      <td>-1.120132e+07</td>\n",
       "      <td>-1.712686e+06</td>\n",
       "      <td>0.344720</td>\n",
       "      <td>0.021161</td>\n",
       "      <td>81962.104662</td>\n",
       "      <td>4745.499360</td>\n",
       "    </tr>\n",
       "    <tr>\n",
       "      <th>4</th>\n",
       "      <td>13.846584</td>\n",
       "      <td>0.686401</td>\n",
       "      <td>-1.141177e+07</td>\n",
       "      <td>-1.755335e+06</td>\n",
       "      <td>NaN</td>\n",
       "      <td>4</td>\n",
       "      <td>50</td>\n",
       "      <td>{'max_features': 4, 'n_estimators': 50}</td>\n",
       "      <td>7</td>\n",
       "      <td>-1.151857e+07</td>\n",
       "      <td>...</td>\n",
       "      <td>-1.132698e+07</td>\n",
       "      <td>-1.762615e+06</td>\n",
       "      <td>-1.144697e+07</td>\n",
       "      <td>-1.757857e+06</td>\n",
       "      <td>-1.129658e+07</td>\n",
       "      <td>-1.761611e+06</td>\n",
       "      <td>0.234021</td>\n",
       "      <td>0.026104</td>\n",
       "      <td>85402.053559</td>\n",
       "      <td>6814.183787</td>\n",
       "    </tr>\n",
       "    <tr>\n",
       "      <th>5</th>\n",
       "      <td>16.433069</td>\n",
       "      <td>0.814321</td>\n",
       "      <td>-1.138754e+07</td>\n",
       "      <td>-1.736767e+06</td>\n",
       "      <td>NaN</td>\n",
       "      <td>4</td>\n",
       "      <td>60</td>\n",
       "      <td>{'max_features': 4, 'n_estimators': 60}</td>\n",
       "      <td>6</td>\n",
       "      <td>-1.149290e+07</td>\n",
       "      <td>...</td>\n",
       "      <td>-1.130374e+07</td>\n",
       "      <td>-1.744753e+06</td>\n",
       "      <td>-1.141828e+07</td>\n",
       "      <td>-1.739982e+06</td>\n",
       "      <td>-1.126990e+07</td>\n",
       "      <td>-1.743640e+06</td>\n",
       "      <td>0.037699</td>\n",
       "      <td>0.006240</td>\n",
       "      <td>86227.641634</td>\n",
       "      <td>7599.717482</td>\n",
       "    </tr>\n",
       "    <tr>\n",
       "      <th>6</th>\n",
       "      <td>19.219434</td>\n",
       "      <td>0.945362</td>\n",
       "      <td>-1.135979e+07</td>\n",
       "      <td>-1.721295e+06</td>\n",
       "      <td>NaN</td>\n",
       "      <td>4</td>\n",
       "      <td>70</td>\n",
       "      <td>{'max_features': 4, 'n_estimators': 70}</td>\n",
       "      <td>4</td>\n",
       "      <td>-1.147114e+07</td>\n",
       "      <td>...</td>\n",
       "      <td>-1.128347e+07</td>\n",
       "      <td>-1.727710e+06</td>\n",
       "      <td>-1.138271e+07</td>\n",
       "      <td>-1.723793e+06</td>\n",
       "      <td>-1.124289e+07</td>\n",
       "      <td>-1.727817e+06</td>\n",
       "      <td>0.047187</td>\n",
       "      <td>0.007642</td>\n",
       "      <td>84721.708178</td>\n",
       "      <td>6554.984007</td>\n",
       "    </tr>\n",
       "    <tr>\n",
       "      <th>7</th>\n",
       "      <td>21.868119</td>\n",
       "      <td>1.079522</td>\n",
       "      <td>-1.133963e+07</td>\n",
       "      <td>-1.709445e+06</td>\n",
       "      <td>NaN</td>\n",
       "      <td>4</td>\n",
       "      <td>80</td>\n",
       "      <td>{'max_features': 4, 'n_estimators': 80}</td>\n",
       "      <td>2</td>\n",
       "      <td>-1.144519e+07</td>\n",
       "      <td>...</td>\n",
       "      <td>-1.126698e+07</td>\n",
       "      <td>-1.715903e+06</td>\n",
       "      <td>-1.136027e+07</td>\n",
       "      <td>-1.713268e+06</td>\n",
       "      <td>-1.122345e+07</td>\n",
       "      <td>-1.716336e+06</td>\n",
       "      <td>0.069346</td>\n",
       "      <td>0.006240</td>\n",
       "      <td>82787.386517</td>\n",
       "      <td>7133.546072</td>\n",
       "    </tr>\n",
       "    <tr>\n",
       "      <th>8</th>\n",
       "      <td>17.832912</td>\n",
       "      <td>0.680161</td>\n",
       "      <td>-1.150389e+07</td>\n",
       "      <td>-1.767613e+06</td>\n",
       "      <td>NaN</td>\n",
       "      <td>6</td>\n",
       "      <td>50</td>\n",
       "      <td>{'max_features': 6, 'n_estimators': 50}</td>\n",
       "      <td>13</td>\n",
       "      <td>-1.164510e+07</td>\n",
       "      <td>...</td>\n",
       "      <td>-1.140401e+07</td>\n",
       "      <td>-1.773457e+06</td>\n",
       "      <td>-1.149121e+07</td>\n",
       "      <td>-1.764420e+06</td>\n",
       "      <td>-1.142181e+07</td>\n",
       "      <td>-1.777464e+06</td>\n",
       "      <td>0.052062</td>\n",
       "      <td>0.007642</td>\n",
       "      <td>89069.404317</td>\n",
       "      <td>7325.893926</td>\n",
       "    </tr>\n",
       "    <tr>\n",
       "      <th>9</th>\n",
       "      <td>21.375157</td>\n",
       "      <td>0.829921</td>\n",
       "      <td>-1.146293e+07</td>\n",
       "      <td>-1.747365e+06</td>\n",
       "      <td>NaN</td>\n",
       "      <td>6</td>\n",
       "      <td>60</td>\n",
       "      <td>{'max_features': 6, 'n_estimators': 60}</td>\n",
       "      <td>11</td>\n",
       "      <td>-1.161241e+07</td>\n",
       "      <td>...</td>\n",
       "      <td>-1.135898e+07</td>\n",
       "      <td>-1.755090e+06</td>\n",
       "      <td>-1.143292e+07</td>\n",
       "      <td>-1.742429e+06</td>\n",
       "      <td>-1.139885e+07</td>\n",
       "      <td>-1.758663e+06</td>\n",
       "      <td>0.088467</td>\n",
       "      <td>0.006240</td>\n",
       "      <td>90018.567565</td>\n",
       "      <td>8367.752043</td>\n",
       "    </tr>\n",
       "    <tr>\n",
       "      <th>10</th>\n",
       "      <td>24.913244</td>\n",
       "      <td>0.957842</td>\n",
       "      <td>-1.144047e+07</td>\n",
       "      <td>-1.733187e+06</td>\n",
       "      <td>NaN</td>\n",
       "      <td>6</td>\n",
       "      <td>70</td>\n",
       "      <td>{'max_features': 6, 'n_estimators': 70}</td>\n",
       "      <td>10</td>\n",
       "      <td>-1.158827e+07</td>\n",
       "      <td>...</td>\n",
       "      <td>-1.132626e+07</td>\n",
       "      <td>-1.740847e+06</td>\n",
       "      <td>-1.142042e+07</td>\n",
       "      <td>-1.727697e+06</td>\n",
       "      <td>-1.136037e+07</td>\n",
       "      <td>-1.743637e+06</td>\n",
       "      <td>0.121640</td>\n",
       "      <td>0.007642</td>\n",
       "      <td>96058.319479</td>\n",
       "      <td>8010.540451</td>\n",
       "    </tr>\n",
       "    <tr>\n",
       "      <th>11</th>\n",
       "      <td>28.332770</td>\n",
       "      <td>1.082642</td>\n",
       "      <td>-1.142948e+07</td>\n",
       "      <td>-1.722335e+06</td>\n",
       "      <td>NaN</td>\n",
       "      <td>6</td>\n",
       "      <td>80</td>\n",
       "      <td>{'max_features': 6, 'n_estimators': 80}</td>\n",
       "      <td>9</td>\n",
       "      <td>-1.156799e+07</td>\n",
       "      <td>...</td>\n",
       "      <td>-1.132836e+07</td>\n",
       "      <td>-1.729603e+06</td>\n",
       "      <td>-1.141362e+07</td>\n",
       "      <td>-1.718903e+06</td>\n",
       "      <td>-1.134045e+07</td>\n",
       "      <td>-1.732654e+06</td>\n",
       "      <td>0.146141</td>\n",
       "      <td>0.007642</td>\n",
       "      <td>91807.982940</td>\n",
       "      <td>7832.581427</td>\n",
       "    </tr>\n",
       "    <tr>\n",
       "      <th>12</th>\n",
       "      <td>21.830679</td>\n",
       "      <td>0.680161</td>\n",
       "      <td>-1.157108e+07</td>\n",
       "      <td>-1.775358e+06</td>\n",
       "      <td>NaN</td>\n",
       "      <td>8</td>\n",
       "      <td>50</td>\n",
       "      <td>{'max_features': 8, 'n_estimators': 50}</td>\n",
       "      <td>16</td>\n",
       "      <td>-1.162475e+07</td>\n",
       "      <td>...</td>\n",
       "      <td>-1.152872e+07</td>\n",
       "      <td>-1.780663e+06</td>\n",
       "      <td>-1.158084e+07</td>\n",
       "      <td>-1.776949e+06</td>\n",
       "      <td>-1.144776e+07</td>\n",
       "      <td>-1.779607e+06</td>\n",
       "      <td>0.110132</td>\n",
       "      <td>0.007642</td>\n",
       "      <td>78021.856608</td>\n",
       "      <td>4846.858329</td>\n",
       "    </tr>\n",
       "    <tr>\n",
       "      <th>13</th>\n",
       "      <td>26.615731</td>\n",
       "      <td>0.844942</td>\n",
       "      <td>-1.154336e+07</td>\n",
       "      <td>-1.755367e+06</td>\n",
       "      <td>NaN</td>\n",
       "      <td>8</td>\n",
       "      <td>60</td>\n",
       "      <td>{'max_features': 8, 'n_estimators': 60}</td>\n",
       "      <td>15</td>\n",
       "      <td>-1.161825e+07</td>\n",
       "      <td>...</td>\n",
       "      <td>-1.149147e+07</td>\n",
       "      <td>-1.762441e+06</td>\n",
       "      <td>-1.154585e+07</td>\n",
       "      <td>-1.756757e+06</td>\n",
       "      <td>-1.142166e+07</td>\n",
       "      <td>-1.760165e+06</td>\n",
       "      <td>0.260342</td>\n",
       "      <td>0.030741</td>\n",
       "      <td>80462.706437</td>\n",
       "      <td>5797.221059</td>\n",
       "    </tr>\n",
       "    <tr>\n",
       "      <th>14</th>\n",
       "      <td>30.796897</td>\n",
       "      <td>0.971042</td>\n",
       "      <td>-1.152205e+07</td>\n",
       "      <td>-1.741335e+06</td>\n",
       "      <td>NaN</td>\n",
       "      <td>8</td>\n",
       "      <td>70</td>\n",
       "      <td>{'max_features': 8, 'n_estimators': 70}</td>\n",
       "      <td>14</td>\n",
       "      <td>-1.160801e+07</td>\n",
       "      <td>...</td>\n",
       "      <td>-1.146020e+07</td>\n",
       "      <td>-1.747954e+06</td>\n",
       "      <td>-1.152242e+07</td>\n",
       "      <td>-1.741260e+06</td>\n",
       "      <td>-1.140153e+07</td>\n",
       "      <td>-1.746364e+06</td>\n",
       "      <td>0.130641</td>\n",
       "      <td>0.016429</td>\n",
       "      <td>83623.734369</td>\n",
       "      <td>5481.104855</td>\n",
       "    </tr>\n",
       "    <tr>\n",
       "      <th>15</th>\n",
       "      <td>35.450953</td>\n",
       "      <td>1.104644</td>\n",
       "      <td>-1.149950e+07</td>\n",
       "      <td>-1.730231e+06</td>\n",
       "      <td>NaN</td>\n",
       "      <td>8</td>\n",
       "      <td>80</td>\n",
       "      <td>{'max_features': 8, 'n_estimators': 80}</td>\n",
       "      <td>12</td>\n",
       "      <td>-1.158370e+07</td>\n",
       "      <td>...</td>\n",
       "      <td>-1.144244e+07</td>\n",
       "      <td>-1.735940e+06</td>\n",
       "      <td>-1.149656e+07</td>\n",
       "      <td>-1.732893e+06</td>\n",
       "      <td>-1.137744e+07</td>\n",
       "      <td>-1.735142e+06</td>\n",
       "      <td>0.246958</td>\n",
       "      <td>0.004994</td>\n",
       "      <td>83456.923867</td>\n",
       "      <td>5674.380272</td>\n",
       "    </tr>\n",
       "    <tr>\n",
       "      <th>16</th>\n",
       "      <td>0.890243</td>\n",
       "      <td>0.056160</td>\n",
       "      <td>-1.525979e+07</td>\n",
       "      <td>-1.762052e+05</td>\n",
       "      <td>False</td>\n",
       "      <td>2</td>\n",
       "      <td>3</td>\n",
       "      <td>{'bootstrap': False, 'max_features': 2, 'n_est...</td>\n",
       "      <td>22</td>\n",
       "      <td>-1.535662e+07</td>\n",
       "      <td>...</td>\n",
       "      <td>-1.518046e+07</td>\n",
       "      <td>-1.752841e+05</td>\n",
       "      <td>-1.549026e+07</td>\n",
       "      <td>-1.803051e+05</td>\n",
       "      <td>-1.521026e+07</td>\n",
       "      <td>-1.770397e+05</td>\n",
       "      <td>0.006813</td>\n",
       "      <td>0.007642</td>\n",
       "      <td>148736.798496</td>\n",
       "      <td>2298.378256</td>\n",
       "    </tr>\n",
       "    <tr>\n",
       "      <th>17</th>\n",
       "      <td>2.958809</td>\n",
       "      <td>0.158681</td>\n",
       "      <td>-1.327636e+07</td>\n",
       "      <td>-1.762098e+05</td>\n",
       "      <td>False</td>\n",
       "      <td>2</td>\n",
       "      <td>10</td>\n",
       "      <td>{'bootstrap': False, 'max_features': 2, 'n_est...</td>\n",
       "      <td>18</td>\n",
       "      <td>-1.331890e+07</td>\n",
       "      <td>...</td>\n",
       "      <td>-1.309169e+07</td>\n",
       "      <td>-1.752893e+05</td>\n",
       "      <td>-1.346883e+07</td>\n",
       "      <td>-1.803050e+05</td>\n",
       "      <td>-1.328120e+07</td>\n",
       "      <td>-1.770142e+05</td>\n",
       "      <td>0.011311</td>\n",
       "      <td>0.007076</td>\n",
       "      <td>123304.996641</td>\n",
       "      <td>2288.649142</td>\n",
       "    </tr>\n",
       "    <tr>\n",
       "      <th>18</th>\n",
       "      <td>1.059365</td>\n",
       "      <td>0.048561</td>\n",
       "      <td>-1.504922e+07</td>\n",
       "      <td>-1.762067e+05</td>\n",
       "      <td>False</td>\n",
       "      <td>3</td>\n",
       "      <td>3</td>\n",
       "      <td>{'bootstrap': False, 'max_features': 3, 'n_est...</td>\n",
       "      <td>20</td>\n",
       "      <td>-1.504637e+07</td>\n",
       "      <td>...</td>\n",
       "      <td>-1.514102e+07</td>\n",
       "      <td>-1.752841e+05</td>\n",
       "      <td>-1.494367e+07</td>\n",
       "      <td>-1.803292e+05</td>\n",
       "      <td>-1.504981e+07</td>\n",
       "      <td>-1.770100e+05</td>\n",
       "      <td>0.009320</td>\n",
       "      <td>0.002156</td>\n",
       "      <td>62980.615561</td>\n",
       "      <td>2302.627492</td>\n",
       "    </tr>\n",
       "    <tr>\n",
       "      <th>19</th>\n",
       "      <td>3.514493</td>\n",
       "      <td>0.159920</td>\n",
       "      <td>-1.325148e+07</td>\n",
       "      <td>-1.762069e+05</td>\n",
       "      <td>False</td>\n",
       "      <td>3</td>\n",
       "      <td>10</td>\n",
       "      <td>{'bootstrap': False, 'max_features': 3, 'n_est...</td>\n",
       "      <td>17</td>\n",
       "      <td>-1.344482e+07</td>\n",
       "      <td>...</td>\n",
       "      <td>-1.313936e+07</td>\n",
       "      <td>-1.753030e+05</td>\n",
       "      <td>-1.323046e+07</td>\n",
       "      <td>-1.803071e+05</td>\n",
       "      <td>-1.317657e+07</td>\n",
       "      <td>-1.770210e+05</td>\n",
       "      <td>0.033337</td>\n",
       "      <td>0.006042</td>\n",
       "      <td>106041.089859</td>\n",
       "      <td>2295.138162</td>\n",
       "    </tr>\n",
       "    <tr>\n",
       "      <th>20</th>\n",
       "      <td>1.229484</td>\n",
       "      <td>0.053040</td>\n",
       "      <td>-1.513544e+07</td>\n",
       "      <td>-1.762516e+05</td>\n",
       "      <td>False</td>\n",
       "      <td>4</td>\n",
       "      <td>3</td>\n",
       "      <td>{'bootstrap': False, 'max_features': 4, 'n_est...</td>\n",
       "      <td>21</td>\n",
       "      <td>-1.502469e+07</td>\n",
       "      <td>...</td>\n",
       "      <td>-1.502284e+07</td>\n",
       "      <td>-1.753101e+05</td>\n",
       "      <td>-1.529551e+07</td>\n",
       "      <td>-1.804621e+05</td>\n",
       "      <td>-1.501345e+07</td>\n",
       "      <td>-1.770090e+05</td>\n",
       "      <td>0.012820</td>\n",
       "      <td>0.007642</td>\n",
       "      <td>141265.823692</td>\n",
       "      <td>2336.596520</td>\n",
       "    </tr>\n",
       "    <tr>\n",
       "      <th>21</th>\n",
       "      <td>4.059214</td>\n",
       "      <td>0.155841</td>\n",
       "      <td>-1.329277e+07</td>\n",
       "      <td>-1.762081e+05</td>\n",
       "      <td>False</td>\n",
       "      <td>4</td>\n",
       "      <td>10</td>\n",
       "      <td>{'bootstrap': False, 'max_features': 4, 'n_est...</td>\n",
       "      <td>19</td>\n",
       "      <td>-1.335978e+07</td>\n",
       "      <td>...</td>\n",
       "      <td>-1.324801e+07</td>\n",
       "      <td>-1.752899e+05</td>\n",
       "      <td>-1.333287e+07</td>\n",
       "      <td>-1.803321e+05</td>\n",
       "      <td>-1.317044e+07</td>\n",
       "      <td>-1.770090e+05</td>\n",
       "      <td>0.021599</td>\n",
       "      <td>0.008695</td>\n",
       "      <td>73021.711443</td>\n",
       "      <td>2303.131453</td>\n",
       "    </tr>\n",
       "  </tbody>\n",
       "</table>\n",
       "<p>22 rows × 23 columns</p>\n",
       "</div>"
      ],
      "text/plain": [
       "    mean_fit_time  mean_score_time  mean_test_score  mean_train_score  \\\n",
       "0       10.158981         0.677041    -1.141592e+07     -1.756337e+06   \n",
       "1       12.461302         0.817441    -1.137774e+07     -1.735266e+06   \n",
       "2       14.544891         0.959002    -1.135292e+07     -1.720532e+06   \n",
       "3       16.377309         1.101362    -1.132857e+07     -1.707464e+06   \n",
       "4       13.846584         0.686401    -1.141177e+07     -1.755335e+06   \n",
       "5       16.433069         0.814321    -1.138754e+07     -1.736767e+06   \n",
       "6       19.219434         0.945362    -1.135979e+07     -1.721295e+06   \n",
       "7       21.868119         1.079522    -1.133963e+07     -1.709445e+06   \n",
       "8       17.832912         0.680161    -1.150389e+07     -1.767613e+06   \n",
       "9       21.375157         0.829921    -1.146293e+07     -1.747365e+06   \n",
       "10      24.913244         0.957842    -1.144047e+07     -1.733187e+06   \n",
       "11      28.332770         1.082642    -1.142948e+07     -1.722335e+06   \n",
       "12      21.830679         0.680161    -1.157108e+07     -1.775358e+06   \n",
       "13      26.615731         0.844942    -1.154336e+07     -1.755367e+06   \n",
       "14      30.796897         0.971042    -1.152205e+07     -1.741335e+06   \n",
       "15      35.450953         1.104644    -1.149950e+07     -1.730231e+06   \n",
       "16       0.890243         0.056160    -1.525979e+07     -1.762052e+05   \n",
       "17       2.958809         0.158681    -1.327636e+07     -1.762098e+05   \n",
       "18       1.059365         0.048561    -1.504922e+07     -1.762067e+05   \n",
       "19       3.514493         0.159920    -1.325148e+07     -1.762069e+05   \n",
       "20       1.229484         0.053040    -1.513544e+07     -1.762516e+05   \n",
       "21       4.059214         0.155841    -1.329277e+07     -1.762081e+05   \n",
       "\n",
       "   param_bootstrap param_max_features param_n_estimators  \\\n",
       "0              NaN                  2                 50   \n",
       "1              NaN                  2                 60   \n",
       "2              NaN                  2                 70   \n",
       "3              NaN                  2                 80   \n",
       "4              NaN                  4                 50   \n",
       "5              NaN                  4                 60   \n",
       "6              NaN                  4                 70   \n",
       "7              NaN                  4                 80   \n",
       "8              NaN                  6                 50   \n",
       "9              NaN                  6                 60   \n",
       "10             NaN                  6                 70   \n",
       "11             NaN                  6                 80   \n",
       "12             NaN                  8                 50   \n",
       "13             NaN                  8                 60   \n",
       "14             NaN                  8                 70   \n",
       "15             NaN                  8                 80   \n",
       "16           False                  2                  3   \n",
       "17           False                  2                 10   \n",
       "18           False                  3                  3   \n",
       "19           False                  3                 10   \n",
       "20           False                  4                  3   \n",
       "21           False                  4                 10   \n",
       "\n",
       "                                               params  rank_test_score  \\\n",
       "0             {'max_features': 2, 'n_estimators': 50}                8   \n",
       "1             {'max_features': 2, 'n_estimators': 60}                5   \n",
       "2             {'max_features': 2, 'n_estimators': 70}                3   \n",
       "3             {'max_features': 2, 'n_estimators': 80}                1   \n",
       "4             {'max_features': 4, 'n_estimators': 50}                7   \n",
       "5             {'max_features': 4, 'n_estimators': 60}                6   \n",
       "6             {'max_features': 4, 'n_estimators': 70}                4   \n",
       "7             {'max_features': 4, 'n_estimators': 80}                2   \n",
       "8             {'max_features': 6, 'n_estimators': 50}               13   \n",
       "9             {'max_features': 6, 'n_estimators': 60}               11   \n",
       "10            {'max_features': 6, 'n_estimators': 70}               10   \n",
       "11            {'max_features': 6, 'n_estimators': 80}                9   \n",
       "12            {'max_features': 8, 'n_estimators': 50}               16   \n",
       "13            {'max_features': 8, 'n_estimators': 60}               15   \n",
       "14            {'max_features': 8, 'n_estimators': 70}               14   \n",
       "15            {'max_features': 8, 'n_estimators': 80}               12   \n",
       "16  {'bootstrap': False, 'max_features': 2, 'n_est...               22   \n",
       "17  {'bootstrap': False, 'max_features': 2, 'n_est...               18   \n",
       "18  {'bootstrap': False, 'max_features': 3, 'n_est...               20   \n",
       "19  {'bootstrap': False, 'max_features': 3, 'n_est...               17   \n",
       "20  {'bootstrap': False, 'max_features': 4, 'n_est...               21   \n",
       "21  {'bootstrap': False, 'max_features': 4, 'n_est...               19   \n",
       "\n",
       "    split0_test_score       ...         split2_test_score  split2_train_score  \\\n",
       "0       -1.149205e+07       ...             -1.134404e+07       -1.763064e+06   \n",
       "1       -1.146123e+07       ...             -1.131853e+07       -1.740130e+06   \n",
       "2       -1.144089e+07       ...             -1.128875e+07       -1.723940e+06   \n",
       "3       -1.141487e+07       ...             -1.126594e+07       -1.710497e+06   \n",
       "4       -1.151857e+07       ...             -1.132698e+07       -1.762615e+06   \n",
       "5       -1.149290e+07       ...             -1.130374e+07       -1.744753e+06   \n",
       "6       -1.147114e+07       ...             -1.128347e+07       -1.727710e+06   \n",
       "7       -1.144519e+07       ...             -1.126698e+07       -1.715903e+06   \n",
       "8       -1.164510e+07       ...             -1.140401e+07       -1.773457e+06   \n",
       "9       -1.161241e+07       ...             -1.135898e+07       -1.755090e+06   \n",
       "10      -1.158827e+07       ...             -1.132626e+07       -1.740847e+06   \n",
       "11      -1.156799e+07       ...             -1.132836e+07       -1.729603e+06   \n",
       "12      -1.162475e+07       ...             -1.152872e+07       -1.780663e+06   \n",
       "13      -1.161825e+07       ...             -1.149147e+07       -1.762441e+06   \n",
       "14      -1.160801e+07       ...             -1.146020e+07       -1.747954e+06   \n",
       "15      -1.158370e+07       ...             -1.144244e+07       -1.735940e+06   \n",
       "16      -1.535662e+07       ...             -1.518046e+07       -1.752841e+05   \n",
       "17      -1.331890e+07       ...             -1.309169e+07       -1.752893e+05   \n",
       "18      -1.504637e+07       ...             -1.514102e+07       -1.752841e+05   \n",
       "19      -1.344482e+07       ...             -1.313936e+07       -1.753030e+05   \n",
       "20      -1.502469e+07       ...             -1.502284e+07       -1.753101e+05   \n",
       "21      -1.335978e+07       ...             -1.324801e+07       -1.752899e+05   \n",
       "\n",
       "    split3_test_score  split3_train_score  split4_test_score  \\\n",
       "0       -1.145821e+07       -1.754982e+06      -1.126661e+07   \n",
       "1       -1.141848e+07       -1.736661e+06      -1.124020e+07   \n",
       "2       -1.139179e+07       -1.722755e+06      -1.122136e+07   \n",
       "3       -1.136218e+07       -1.710673e+06      -1.120132e+07   \n",
       "4       -1.144697e+07       -1.757857e+06      -1.129658e+07   \n",
       "5       -1.141828e+07       -1.739982e+06      -1.126990e+07   \n",
       "6       -1.138271e+07       -1.723793e+06      -1.124289e+07   \n",
       "7       -1.136027e+07       -1.713268e+06      -1.122345e+07   \n",
       "8       -1.149121e+07       -1.764420e+06      -1.142181e+07   \n",
       "9       -1.143292e+07       -1.742429e+06      -1.139885e+07   \n",
       "10      -1.142042e+07       -1.727697e+06      -1.136037e+07   \n",
       "11      -1.141362e+07       -1.718903e+06      -1.134045e+07   \n",
       "12      -1.158084e+07       -1.776949e+06      -1.144776e+07   \n",
       "13      -1.154585e+07       -1.756757e+06      -1.142166e+07   \n",
       "14      -1.152242e+07       -1.741260e+06      -1.140153e+07   \n",
       "15      -1.149656e+07       -1.732893e+06      -1.137744e+07   \n",
       "16      -1.549026e+07       -1.803051e+05      -1.521026e+07   \n",
       "17      -1.346883e+07       -1.803050e+05      -1.328120e+07   \n",
       "18      -1.494367e+07       -1.803292e+05      -1.504981e+07   \n",
       "19      -1.323046e+07       -1.803071e+05      -1.317657e+07   \n",
       "20      -1.529551e+07       -1.804621e+05      -1.501345e+07   \n",
       "21      -1.333287e+07       -1.803321e+05      -1.317044e+07   \n",
       "\n",
       "    split4_train_score  std_fit_time  std_score_time  std_test_score  \\\n",
       "0        -1.759139e+06      0.083770        0.007643    95510.504169   \n",
       "1        -1.740501e+06      0.431126        0.012480    85221.585335   \n",
       "2        -1.724922e+06      0.841533        0.015620    84162.582546   \n",
       "3        -1.712686e+06      0.344720        0.021161    81962.104662   \n",
       "4        -1.761611e+06      0.234021        0.026104    85402.053559   \n",
       "5        -1.743640e+06      0.037699        0.006240    86227.641634   \n",
       "6        -1.727817e+06      0.047187        0.007642    84721.708178   \n",
       "7        -1.716336e+06      0.069346        0.006240    82787.386517   \n",
       "8        -1.777464e+06      0.052062        0.007642    89069.404317   \n",
       "9        -1.758663e+06      0.088467        0.006240    90018.567565   \n",
       "10       -1.743637e+06      0.121640        0.007642    96058.319479   \n",
       "11       -1.732654e+06      0.146141        0.007642    91807.982940   \n",
       "12       -1.779607e+06      0.110132        0.007642    78021.856608   \n",
       "13       -1.760165e+06      0.260342        0.030741    80462.706437   \n",
       "14       -1.746364e+06      0.130641        0.016429    83623.734369   \n",
       "15       -1.735142e+06      0.246958        0.004994    83456.923867   \n",
       "16       -1.770397e+05      0.006813        0.007642   148736.798496   \n",
       "17       -1.770142e+05      0.011311        0.007076   123304.996641   \n",
       "18       -1.770100e+05      0.009320        0.002156    62980.615561   \n",
       "19       -1.770210e+05      0.033337        0.006042   106041.089859   \n",
       "20       -1.770090e+05      0.012820        0.007642   141265.823692   \n",
       "21       -1.770090e+05      0.021599        0.008695    73021.711443   \n",
       "\n",
       "    std_train_score  \n",
       "0       4209.247415  \n",
       "1       4881.327467  \n",
       "2       4160.360892  \n",
       "3       4745.499360  \n",
       "4       6814.183787  \n",
       "5       7599.717482  \n",
       "6       6554.984007  \n",
       "7       7133.546072  \n",
       "8       7325.893926  \n",
       "9       8367.752043  \n",
       "10      8010.540451  \n",
       "11      7832.581427  \n",
       "12      4846.858329  \n",
       "13      5797.221059  \n",
       "14      5481.104855  \n",
       "15      5674.380272  \n",
       "16      2298.378256  \n",
       "17      2288.649142  \n",
       "18      2302.627492  \n",
       "19      2295.138162  \n",
       "20      2336.596520  \n",
       "21      2303.131453  \n",
       "\n",
       "[22 rows x 23 columns]"
      ]
     },
     "execution_count": 52,
     "metadata": {},
     "output_type": "execute_result"
    }
   ],
   "source": [
    "pd.DataFrame(grid_search.cv_results_)"
   ]
  },
  {
   "cell_type": "code",
   "execution_count": 53,
   "metadata": {},
   "outputs": [
    {
     "data": {
      "text/plain": [
       "RandomizedSearchCV(cv=5, error_score='raise',\n",
       "          estimator=RandomForestRegressor(bootstrap=True, criterion='mse', max_depth=None,\n",
       "           max_features='auto', max_leaf_nodes=None,\n",
       "           min_impurity_decrease=0.0, min_impurity_split=None,\n",
       "           min_samples_leaf=1, min_samples_split=2,\n",
       "           min_weight_fraction_leaf=0.0, n_estimators=10, n_jobs=1,\n",
       "           oob_score=False, random_state=42, verbose=0, warm_start=False),\n",
       "          fit_params=None, iid=True, n_iter=10, n_jobs=1,\n",
       "          param_distributions={'n_estimators': <scipy.stats._distn_infrastructure.rv_frozen object at 0x000000000C08DC88>, 'max_features': <scipy.stats._distn_infrastructure.rv_frozen object at 0x000000000C22A0B8>},\n",
       "          pre_dispatch='2*n_jobs', random_state=42, refit=True,\n",
       "          return_train_score='warn', scoring='neg_mean_squared_error',\n",
       "          verbose=0)"
      ]
     },
     "execution_count": 53,
     "metadata": {},
     "output_type": "execute_result"
    }
   ],
   "source": [
    "from sklearn.model_selection import RandomizedSearchCV\n",
    "from scipy.stats import randint\n",
    "\n",
    "param_distribs = {\n",
    "        'n_estimators': randint(low=1, high=200),\n",
    "        'max_features': randint(low=1, high=8),\n",
    "    }\n",
    "\n",
    "forest_reg = RandomForestRegressor(random_state=42)\n",
    "rnd_search = RandomizedSearchCV(forest_reg, param_distributions=param_distribs,\n",
    "                                n_iter=10, cv=5, scoring='neg_mean_squared_error', random_state=42)\n",
    "rnd_search.fit(BF_prepared, BF_labels)"
   ]
  },
  {
   "cell_type": "code",
   "execution_count": 54,
   "metadata": {
    "scrolled": true
   },
   "outputs": [
    {
     "name": "stdout",
     "output_type": "stream",
     "text": [
      "3376.6631387640123 {'max_features': 7, 'n_estimators': 180}\n",
      "3453.46909259253 {'max_features': 5, 'n_estimators': 15}\n",
      "3357.45171316887 {'max_features': 3, 'n_estimators': 72}\n",
      "3425.7976829867725 {'max_features': 5, 'n_estimators': 21}\n",
      "3380.5403197013243 {'max_features': 7, 'n_estimators': 122}\n",
      "3356.4904414076013 {'max_features': 3, 'n_estimators': 75}\n",
      "3354.2028233528454 {'max_features': 3, 'n_estimators': 88}\n",
      "3371.920396463749 {'max_features': 5, 'n_estimators': 100}\n",
      "3349.533406763263 {'max_features': 3, 'n_estimators': 150}\n",
      "4021.8306900881876 {'max_features': 5, 'n_estimators': 2}\n"
     ]
    }
   ],
   "source": [
    "cvres = rnd_search.cv_results_\n",
    "for mean_score, params in zip(cvres[\"mean_test_score\"], cvres[\"params\"]):\n",
    "    print(np.sqrt(-mean_score), params)"
   ]
  },
  {
   "cell_type": "code",
   "execution_count": 64,
   "metadata": {},
   "outputs": [
    {
     "name": "stderr",
     "output_type": "stream",
     "text": [
      "C:\\ProgramData\\Anaconda3\\lib\\site-packages\\sklearn\\utils\\validation.py:475: DataConversionWarning: Data with input dtype int64 was converted to float64 by StandardScaler.\n",
      "  warnings.warn(msg, DataConversionWarning)\n"
     ]
    },
    {
     "data": {
      "text/plain": [
       "6532.360798597556"
      ]
     },
     "execution_count": 64,
     "metadata": {},
     "output_type": "execute_result"
    }
   ],
   "source": [
    "final_model = grid_search.best_estimator_\n",
    "data_test=strat_test_set.copy()\n",
    "data_test_prep = prepare(data_test, drop_col = True, drop_row = False, imputer1 = False)\n",
    "\n",
    "X_test = data_test_prep.drop(\"Purchase\", axis=1)\n",
    "y_test = data_test_prep[\"Purchase\"].copy()\n",
    "\n",
    "X_test_prepared = cat_pipeline.transform(X_test)\n",
    "final_predictions = final_model.predict(X_test_prepared)\n",
    "\n",
    "final_mse = mean_squared_error(y_test, final_predictions)\n",
    "final_rmse = np.sqrt(final_mse)\n",
    "final_rmse"
   ]
  }
 ],
 "metadata": {
  "kernelspec": {
   "display_name": "Python 3",
   "language": "python",
   "name": "python3"
  },
  "language_info": {
   "codemirror_mode": {
    "name": "ipython",
    "version": 3
   },
   "file_extension": ".py",
   "mimetype": "text/x-python",
   "name": "python",
   "nbconvert_exporter": "python",
   "pygments_lexer": "ipython3",
   "version": "3.6.4"
  }
 },
 "nbformat": 4,
 "nbformat_minor": 2
}
