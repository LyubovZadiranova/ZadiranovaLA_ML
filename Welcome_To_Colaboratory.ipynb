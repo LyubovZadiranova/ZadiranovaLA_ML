{
  "nbformat": 4,
  "nbformat_minor": 0,
  "metadata": {
    "colab": {
      "name": "Welcome To Colaboratory",
      "provenance": [],
      "collapsed_sections": [],
      "include_colab_link": true
    },
    "kernelspec": {
      "name": "python3",
      "display_name": "Python 3"
    },
    "accelerator": "GPU",
    "widgets": {
      "application/vnd.jupyter.widget-state+json": {
        "aae62f10000e46a792476d458d2b3bda": {
          "model_module": "@jupyter-widgets/controls",
          "model_name": "HBoxModel",
          "state": {
            "_view_name": "HBoxView",
            "_dom_classes": [],
            "_model_name": "HBoxModel",
            "_view_module": "@jupyter-widgets/controls",
            "_model_module_version": "1.5.0",
            "_view_count": null,
            "_view_module_version": "1.5.0",
            "box_style": "",
            "layout": "IPY_MODEL_cba93bf5a1b34d468b4b032061488340",
            "_model_module": "@jupyter-widgets/controls",
            "children": [
              "IPY_MODEL_4f9e8eaf585d4e2981e8fe3ec8c376b4",
              "IPY_MODEL_bdce68c5a0a04fa69e2ecea31ef66cd7"
            ]
          }
        },
        "cba93bf5a1b34d468b4b032061488340": {
          "model_module": "@jupyter-widgets/base",
          "model_name": "LayoutModel",
          "state": {
            "_view_name": "LayoutView",
            "grid_template_rows": null,
            "right": null,
            "justify_content": null,
            "_view_module": "@jupyter-widgets/base",
            "overflow": null,
            "_model_module_version": "1.2.0",
            "_view_count": null,
            "flex_flow": null,
            "width": null,
            "min_width": null,
            "border": null,
            "align_items": null,
            "bottom": null,
            "_model_module": "@jupyter-widgets/base",
            "top": null,
            "grid_column": null,
            "overflow_y": null,
            "overflow_x": null,
            "grid_auto_flow": null,
            "grid_area": null,
            "grid_template_columns": null,
            "flex": null,
            "_model_name": "LayoutModel",
            "justify_items": null,
            "grid_row": null,
            "max_height": null,
            "align_content": null,
            "visibility": null,
            "align_self": null,
            "height": null,
            "min_height": null,
            "padding": null,
            "grid_auto_rows": null,
            "grid_gap": null,
            "max_width": null,
            "order": null,
            "_view_module_version": "1.2.0",
            "grid_template_areas": null,
            "object_position": null,
            "object_fit": null,
            "grid_auto_columns": null,
            "margin": null,
            "display": null,
            "left": null
          }
        },
        "4f9e8eaf585d4e2981e8fe3ec8c376b4": {
          "model_module": "@jupyter-widgets/controls",
          "model_name": "IntProgressModel",
          "state": {
            "_view_name": "ProgressView",
            "style": "IPY_MODEL_b59626c7aa00478bb1ed10e963f2a241",
            "_dom_classes": [],
            "description": "",
            "_model_name": "IntProgressModel",
            "bar_style": "success",
            "max": 1,
            "_view_module": "@jupyter-widgets/controls",
            "_model_module_version": "1.5.0",
            "value": 1,
            "_view_count": null,
            "_view_module_version": "1.5.0",
            "orientation": "horizontal",
            "min": 0,
            "description_tooltip": null,
            "_model_module": "@jupyter-widgets/controls",
            "layout": "IPY_MODEL_49f26b05f7f14ab9b8d8ff8e997b3a7b"
          }
        },
        "bdce68c5a0a04fa69e2ecea31ef66cd7": {
          "model_module": "@jupyter-widgets/controls",
          "model_name": "HTMLModel",
          "state": {
            "_view_name": "HTMLView",
            "style": "IPY_MODEL_a75e79e39fa64df98aaeb6150dfd0423",
            "_dom_classes": [],
            "description": "",
            "_model_name": "HTMLModel",
            "placeholder": "​",
            "_view_module": "@jupyter-widgets/controls",
            "_model_module_version": "1.5.0",
            "value": "9920512it [00:01, 8493107.21it/s]",
            "_view_count": null,
            "_view_module_version": "1.5.0",
            "description_tooltip": null,
            "_model_module": "@jupyter-widgets/controls",
            "layout": "IPY_MODEL_e6a215a4c6064e37bb0468dbd0a1f5dd"
          }
        },
        "b59626c7aa00478bb1ed10e963f2a241": {
          "model_module": "@jupyter-widgets/controls",
          "model_name": "ProgressStyleModel",
          "state": {
            "_view_name": "StyleView",
            "_model_name": "ProgressStyleModel",
            "description_width": "",
            "_view_module": "@jupyter-widgets/base",
            "_model_module_version": "1.5.0",
            "_view_count": null,
            "_view_module_version": "1.2.0",
            "bar_color": null,
            "_model_module": "@jupyter-widgets/controls"
          }
        },
        "49f26b05f7f14ab9b8d8ff8e997b3a7b": {
          "model_module": "@jupyter-widgets/base",
          "model_name": "LayoutModel",
          "state": {
            "_view_name": "LayoutView",
            "grid_template_rows": null,
            "right": null,
            "justify_content": null,
            "_view_module": "@jupyter-widgets/base",
            "overflow": null,
            "_model_module_version": "1.2.0",
            "_view_count": null,
            "flex_flow": null,
            "width": null,
            "min_width": null,
            "border": null,
            "align_items": null,
            "bottom": null,
            "_model_module": "@jupyter-widgets/base",
            "top": null,
            "grid_column": null,
            "overflow_y": null,
            "overflow_x": null,
            "grid_auto_flow": null,
            "grid_area": null,
            "grid_template_columns": null,
            "flex": null,
            "_model_name": "LayoutModel",
            "justify_items": null,
            "grid_row": null,
            "max_height": null,
            "align_content": null,
            "visibility": null,
            "align_self": null,
            "height": null,
            "min_height": null,
            "padding": null,
            "grid_auto_rows": null,
            "grid_gap": null,
            "max_width": null,
            "order": null,
            "_view_module_version": "1.2.0",
            "grid_template_areas": null,
            "object_position": null,
            "object_fit": null,
            "grid_auto_columns": null,
            "margin": null,
            "display": null,
            "left": null
          }
        },
        "a75e79e39fa64df98aaeb6150dfd0423": {
          "model_module": "@jupyter-widgets/controls",
          "model_name": "DescriptionStyleModel",
          "state": {
            "_view_name": "StyleView",
            "_model_name": "DescriptionStyleModel",
            "description_width": "",
            "_view_module": "@jupyter-widgets/base",
            "_model_module_version": "1.5.0",
            "_view_count": null,
            "_view_module_version": "1.2.0",
            "_model_module": "@jupyter-widgets/controls"
          }
        },
        "e6a215a4c6064e37bb0468dbd0a1f5dd": {
          "model_module": "@jupyter-widgets/base",
          "model_name": "LayoutModel",
          "state": {
            "_view_name": "LayoutView",
            "grid_template_rows": null,
            "right": null,
            "justify_content": null,
            "_view_module": "@jupyter-widgets/base",
            "overflow": null,
            "_model_module_version": "1.2.0",
            "_view_count": null,
            "flex_flow": null,
            "width": null,
            "min_width": null,
            "border": null,
            "align_items": null,
            "bottom": null,
            "_model_module": "@jupyter-widgets/base",
            "top": null,
            "grid_column": null,
            "overflow_y": null,
            "overflow_x": null,
            "grid_auto_flow": null,
            "grid_area": null,
            "grid_template_columns": null,
            "flex": null,
            "_model_name": "LayoutModel",
            "justify_items": null,
            "grid_row": null,
            "max_height": null,
            "align_content": null,
            "visibility": null,
            "align_self": null,
            "height": null,
            "min_height": null,
            "padding": null,
            "grid_auto_rows": null,
            "grid_gap": null,
            "max_width": null,
            "order": null,
            "_view_module_version": "1.2.0",
            "grid_template_areas": null,
            "object_position": null,
            "object_fit": null,
            "grid_auto_columns": null,
            "margin": null,
            "display": null,
            "left": null
          }
        },
        "9d9185b95ed9499dbd5c37adc5856380": {
          "model_module": "@jupyter-widgets/controls",
          "model_name": "HBoxModel",
          "state": {
            "_view_name": "HBoxView",
            "_dom_classes": [],
            "_model_name": "HBoxModel",
            "_view_module": "@jupyter-widgets/controls",
            "_model_module_version": "1.5.0",
            "_view_count": null,
            "_view_module_version": "1.5.0",
            "box_style": "",
            "layout": "IPY_MODEL_9f04f330c94140878cefb4b529d96a80",
            "_model_module": "@jupyter-widgets/controls",
            "children": [
              "IPY_MODEL_e788c33a5c94426083805473ff670510",
              "IPY_MODEL_1a52f1e48251460b93c70552f66eb2b1"
            ]
          }
        },
        "9f04f330c94140878cefb4b529d96a80": {
          "model_module": "@jupyter-widgets/base",
          "model_name": "LayoutModel",
          "state": {
            "_view_name": "LayoutView",
            "grid_template_rows": null,
            "right": null,
            "justify_content": null,
            "_view_module": "@jupyter-widgets/base",
            "overflow": null,
            "_model_module_version": "1.2.0",
            "_view_count": null,
            "flex_flow": null,
            "width": null,
            "min_width": null,
            "border": null,
            "align_items": null,
            "bottom": null,
            "_model_module": "@jupyter-widgets/base",
            "top": null,
            "grid_column": null,
            "overflow_y": null,
            "overflow_x": null,
            "grid_auto_flow": null,
            "grid_area": null,
            "grid_template_columns": null,
            "flex": null,
            "_model_name": "LayoutModel",
            "justify_items": null,
            "grid_row": null,
            "max_height": null,
            "align_content": null,
            "visibility": null,
            "align_self": null,
            "height": null,
            "min_height": null,
            "padding": null,
            "grid_auto_rows": null,
            "grid_gap": null,
            "max_width": null,
            "order": null,
            "_view_module_version": "1.2.0",
            "grid_template_areas": null,
            "object_position": null,
            "object_fit": null,
            "grid_auto_columns": null,
            "margin": null,
            "display": null,
            "left": null
          }
        },
        "e788c33a5c94426083805473ff670510": {
          "model_module": "@jupyter-widgets/controls",
          "model_name": "IntProgressModel",
          "state": {
            "_view_name": "ProgressView",
            "style": "IPY_MODEL_e218fab83ebc4369a09f8b47573971f1",
            "_dom_classes": [],
            "description": "",
            "_model_name": "IntProgressModel",
            "bar_style": "success",
            "max": 1,
            "_view_module": "@jupyter-widgets/controls",
            "_model_module_version": "1.5.0",
            "value": 1,
            "_view_count": null,
            "_view_module_version": "1.5.0",
            "orientation": "horizontal",
            "min": 0,
            "description_tooltip": null,
            "_model_module": "@jupyter-widgets/controls",
            "layout": "IPY_MODEL_7ed04f5be5b540de86314ffcf2ca8b3c"
          }
        },
        "1a52f1e48251460b93c70552f66eb2b1": {
          "model_module": "@jupyter-widgets/controls",
          "model_name": "HTMLModel",
          "state": {
            "_view_name": "HTMLView",
            "style": "IPY_MODEL_36cc45e326f54b768b631163af562f4a",
            "_dom_classes": [],
            "description": "",
            "_model_name": "HTMLModel",
            "placeholder": "​",
            "_view_module": "@jupyter-widgets/controls",
            "_model_module_version": "1.5.0",
            "value": "32768it [00:00, 118889.26it/s]",
            "_view_count": null,
            "_view_module_version": "1.5.0",
            "description_tooltip": null,
            "_model_module": "@jupyter-widgets/controls",
            "layout": "IPY_MODEL_7639e10755c74be69d6d8d46c82c891e"
          }
        },
        "e218fab83ebc4369a09f8b47573971f1": {
          "model_module": "@jupyter-widgets/controls",
          "model_name": "ProgressStyleModel",
          "state": {
            "_view_name": "StyleView",
            "_model_name": "ProgressStyleModel",
            "description_width": "",
            "_view_module": "@jupyter-widgets/base",
            "_model_module_version": "1.5.0",
            "_view_count": null,
            "_view_module_version": "1.2.0",
            "bar_color": null,
            "_model_module": "@jupyter-widgets/controls"
          }
        },
        "7ed04f5be5b540de86314ffcf2ca8b3c": {
          "model_module": "@jupyter-widgets/base",
          "model_name": "LayoutModel",
          "state": {
            "_view_name": "LayoutView",
            "grid_template_rows": null,
            "right": null,
            "justify_content": null,
            "_view_module": "@jupyter-widgets/base",
            "overflow": null,
            "_model_module_version": "1.2.0",
            "_view_count": null,
            "flex_flow": null,
            "width": null,
            "min_width": null,
            "border": null,
            "align_items": null,
            "bottom": null,
            "_model_module": "@jupyter-widgets/base",
            "top": null,
            "grid_column": null,
            "overflow_y": null,
            "overflow_x": null,
            "grid_auto_flow": null,
            "grid_area": null,
            "grid_template_columns": null,
            "flex": null,
            "_model_name": "LayoutModel",
            "justify_items": null,
            "grid_row": null,
            "max_height": null,
            "align_content": null,
            "visibility": null,
            "align_self": null,
            "height": null,
            "min_height": null,
            "padding": null,
            "grid_auto_rows": null,
            "grid_gap": null,
            "max_width": null,
            "order": null,
            "_view_module_version": "1.2.0",
            "grid_template_areas": null,
            "object_position": null,
            "object_fit": null,
            "grid_auto_columns": null,
            "margin": null,
            "display": null,
            "left": null
          }
        },
        "36cc45e326f54b768b631163af562f4a": {
          "model_module": "@jupyter-widgets/controls",
          "model_name": "DescriptionStyleModel",
          "state": {
            "_view_name": "StyleView",
            "_model_name": "DescriptionStyleModel",
            "description_width": "",
            "_view_module": "@jupyter-widgets/base",
            "_model_module_version": "1.5.0",
            "_view_count": null,
            "_view_module_version": "1.2.0",
            "_model_module": "@jupyter-widgets/controls"
          }
        },
        "7639e10755c74be69d6d8d46c82c891e": {
          "model_module": "@jupyter-widgets/base",
          "model_name": "LayoutModel",
          "state": {
            "_view_name": "LayoutView",
            "grid_template_rows": null,
            "right": null,
            "justify_content": null,
            "_view_module": "@jupyter-widgets/base",
            "overflow": null,
            "_model_module_version": "1.2.0",
            "_view_count": null,
            "flex_flow": null,
            "width": null,
            "min_width": null,
            "border": null,
            "align_items": null,
            "bottom": null,
            "_model_module": "@jupyter-widgets/base",
            "top": null,
            "grid_column": null,
            "overflow_y": null,
            "overflow_x": null,
            "grid_auto_flow": null,
            "grid_area": null,
            "grid_template_columns": null,
            "flex": null,
            "_model_name": "LayoutModel",
            "justify_items": null,
            "grid_row": null,
            "max_height": null,
            "align_content": null,
            "visibility": null,
            "align_self": null,
            "height": null,
            "min_height": null,
            "padding": null,
            "grid_auto_rows": null,
            "grid_gap": null,
            "max_width": null,
            "order": null,
            "_view_module_version": "1.2.0",
            "grid_template_areas": null,
            "object_position": null,
            "object_fit": null,
            "grid_auto_columns": null,
            "margin": null,
            "display": null,
            "left": null
          }
        },
        "6db96a23cce44ce983137d994bdff7fc": {
          "model_module": "@jupyter-widgets/controls",
          "model_name": "HBoxModel",
          "state": {
            "_view_name": "HBoxView",
            "_dom_classes": [],
            "_model_name": "HBoxModel",
            "_view_module": "@jupyter-widgets/controls",
            "_model_module_version": "1.5.0",
            "_view_count": null,
            "_view_module_version": "1.5.0",
            "box_style": "",
            "layout": "IPY_MODEL_c011643b6e294db79d712850dcedad10",
            "_model_module": "@jupyter-widgets/controls",
            "children": [
              "IPY_MODEL_3a6b5d908145426b9393f0ad81a41c5f",
              "IPY_MODEL_62957829c248485c9f6de2aebef3a85c"
            ]
          }
        },
        "c011643b6e294db79d712850dcedad10": {
          "model_module": "@jupyter-widgets/base",
          "model_name": "LayoutModel",
          "state": {
            "_view_name": "LayoutView",
            "grid_template_rows": null,
            "right": null,
            "justify_content": null,
            "_view_module": "@jupyter-widgets/base",
            "overflow": null,
            "_model_module_version": "1.2.0",
            "_view_count": null,
            "flex_flow": null,
            "width": null,
            "min_width": null,
            "border": null,
            "align_items": null,
            "bottom": null,
            "_model_module": "@jupyter-widgets/base",
            "top": null,
            "grid_column": null,
            "overflow_y": null,
            "overflow_x": null,
            "grid_auto_flow": null,
            "grid_area": null,
            "grid_template_columns": null,
            "flex": null,
            "_model_name": "LayoutModel",
            "justify_items": null,
            "grid_row": null,
            "max_height": null,
            "align_content": null,
            "visibility": null,
            "align_self": null,
            "height": null,
            "min_height": null,
            "padding": null,
            "grid_auto_rows": null,
            "grid_gap": null,
            "max_width": null,
            "order": null,
            "_view_module_version": "1.2.0",
            "grid_template_areas": null,
            "object_position": null,
            "object_fit": null,
            "grid_auto_columns": null,
            "margin": null,
            "display": null,
            "left": null
          }
        },
        "3a6b5d908145426b9393f0ad81a41c5f": {
          "model_module": "@jupyter-widgets/controls",
          "model_name": "IntProgressModel",
          "state": {
            "_view_name": "ProgressView",
            "style": "IPY_MODEL_96cfcf902a7f4d0caf156a181adaa0dc",
            "_dom_classes": [],
            "description": "",
            "_model_name": "IntProgressModel",
            "bar_style": "success",
            "max": 1,
            "_view_module": "@jupyter-widgets/controls",
            "_model_module_version": "1.5.0",
            "value": 1,
            "_view_count": null,
            "_view_module_version": "1.5.0",
            "orientation": "horizontal",
            "min": 0,
            "description_tooltip": null,
            "_model_module": "@jupyter-widgets/controls",
            "layout": "IPY_MODEL_d31df6dedb1e48c38e719e148941aa29"
          }
        },
        "62957829c248485c9f6de2aebef3a85c": {
          "model_module": "@jupyter-widgets/controls",
          "model_name": "HTMLModel",
          "state": {
            "_view_name": "HTMLView",
            "style": "IPY_MODEL_966b853ebf244fb4814fe0771608269a",
            "_dom_classes": [],
            "description": "",
            "_model_name": "HTMLModel",
            "placeholder": "​",
            "_view_module": "@jupyter-widgets/controls",
            "_model_module_version": "1.5.0",
            "value": "1654784it [00:00, 1957085.07it/s]",
            "_view_count": null,
            "_view_module_version": "1.5.0",
            "description_tooltip": null,
            "_model_module": "@jupyter-widgets/controls",
            "layout": "IPY_MODEL_524f678c878b41a1b641b9c8e94dca81"
          }
        },
        "96cfcf902a7f4d0caf156a181adaa0dc": {
          "model_module": "@jupyter-widgets/controls",
          "model_name": "ProgressStyleModel",
          "state": {
            "_view_name": "StyleView",
            "_model_name": "ProgressStyleModel",
            "description_width": "",
            "_view_module": "@jupyter-widgets/base",
            "_model_module_version": "1.5.0",
            "_view_count": null,
            "_view_module_version": "1.2.0",
            "bar_color": null,
            "_model_module": "@jupyter-widgets/controls"
          }
        },
        "d31df6dedb1e48c38e719e148941aa29": {
          "model_module": "@jupyter-widgets/base",
          "model_name": "LayoutModel",
          "state": {
            "_view_name": "LayoutView",
            "grid_template_rows": null,
            "right": null,
            "justify_content": null,
            "_view_module": "@jupyter-widgets/base",
            "overflow": null,
            "_model_module_version": "1.2.0",
            "_view_count": null,
            "flex_flow": null,
            "width": null,
            "min_width": null,
            "border": null,
            "align_items": null,
            "bottom": null,
            "_model_module": "@jupyter-widgets/base",
            "top": null,
            "grid_column": null,
            "overflow_y": null,
            "overflow_x": null,
            "grid_auto_flow": null,
            "grid_area": null,
            "grid_template_columns": null,
            "flex": null,
            "_model_name": "LayoutModel",
            "justify_items": null,
            "grid_row": null,
            "max_height": null,
            "align_content": null,
            "visibility": null,
            "align_self": null,
            "height": null,
            "min_height": null,
            "padding": null,
            "grid_auto_rows": null,
            "grid_gap": null,
            "max_width": null,
            "order": null,
            "_view_module_version": "1.2.0",
            "grid_template_areas": null,
            "object_position": null,
            "object_fit": null,
            "grid_auto_columns": null,
            "margin": null,
            "display": null,
            "left": null
          }
        },
        "966b853ebf244fb4814fe0771608269a": {
          "model_module": "@jupyter-widgets/controls",
          "model_name": "DescriptionStyleModel",
          "state": {
            "_view_name": "StyleView",
            "_model_name": "DescriptionStyleModel",
            "description_width": "",
            "_view_module": "@jupyter-widgets/base",
            "_model_module_version": "1.5.0",
            "_view_count": null,
            "_view_module_version": "1.2.0",
            "_model_module": "@jupyter-widgets/controls"
          }
        },
        "524f678c878b41a1b641b9c8e94dca81": {
          "model_module": "@jupyter-widgets/base",
          "model_name": "LayoutModel",
          "state": {
            "_view_name": "LayoutView",
            "grid_template_rows": null,
            "right": null,
            "justify_content": null,
            "_view_module": "@jupyter-widgets/base",
            "overflow": null,
            "_model_module_version": "1.2.0",
            "_view_count": null,
            "flex_flow": null,
            "width": null,
            "min_width": null,
            "border": null,
            "align_items": null,
            "bottom": null,
            "_model_module": "@jupyter-widgets/base",
            "top": null,
            "grid_column": null,
            "overflow_y": null,
            "overflow_x": null,
            "grid_auto_flow": null,
            "grid_area": null,
            "grid_template_columns": null,
            "flex": null,
            "_model_name": "LayoutModel",
            "justify_items": null,
            "grid_row": null,
            "max_height": null,
            "align_content": null,
            "visibility": null,
            "align_self": null,
            "height": null,
            "min_height": null,
            "padding": null,
            "grid_auto_rows": null,
            "grid_gap": null,
            "max_width": null,
            "order": null,
            "_view_module_version": "1.2.0",
            "grid_template_areas": null,
            "object_position": null,
            "object_fit": null,
            "grid_auto_columns": null,
            "margin": null,
            "display": null,
            "left": null
          }
        },
        "aeeef6f6c5374944b98e85dc5258750d": {
          "model_module": "@jupyter-widgets/controls",
          "model_name": "HBoxModel",
          "state": {
            "_view_name": "HBoxView",
            "_dom_classes": [],
            "_model_name": "HBoxModel",
            "_view_module": "@jupyter-widgets/controls",
            "_model_module_version": "1.5.0",
            "_view_count": null,
            "_view_module_version": "1.5.0",
            "box_style": "",
            "layout": "IPY_MODEL_1d501c6dde9c43a28cd9afe21b35bbf5",
            "_model_module": "@jupyter-widgets/controls",
            "children": [
              "IPY_MODEL_dcb12879cffa4035b25602394b380b7f",
              "IPY_MODEL_3d069fd6e8134256b03dd36749c3c003"
            ]
          }
        },
        "1d501c6dde9c43a28cd9afe21b35bbf5": {
          "model_module": "@jupyter-widgets/base",
          "model_name": "LayoutModel",
          "state": {
            "_view_name": "LayoutView",
            "grid_template_rows": null,
            "right": null,
            "justify_content": null,
            "_view_module": "@jupyter-widgets/base",
            "overflow": null,
            "_model_module_version": "1.2.0",
            "_view_count": null,
            "flex_flow": null,
            "width": null,
            "min_width": null,
            "border": null,
            "align_items": null,
            "bottom": null,
            "_model_module": "@jupyter-widgets/base",
            "top": null,
            "grid_column": null,
            "overflow_y": null,
            "overflow_x": null,
            "grid_auto_flow": null,
            "grid_area": null,
            "grid_template_columns": null,
            "flex": null,
            "_model_name": "LayoutModel",
            "justify_items": null,
            "grid_row": null,
            "max_height": null,
            "align_content": null,
            "visibility": null,
            "align_self": null,
            "height": null,
            "min_height": null,
            "padding": null,
            "grid_auto_rows": null,
            "grid_gap": null,
            "max_width": null,
            "order": null,
            "_view_module_version": "1.2.0",
            "grid_template_areas": null,
            "object_position": null,
            "object_fit": null,
            "grid_auto_columns": null,
            "margin": null,
            "display": null,
            "left": null
          }
        },
        "dcb12879cffa4035b25602394b380b7f": {
          "model_module": "@jupyter-widgets/controls",
          "model_name": "IntProgressModel",
          "state": {
            "_view_name": "ProgressView",
            "style": "IPY_MODEL_2c0297bced9149248160483432f67bdd",
            "_dom_classes": [],
            "description": "",
            "_model_name": "IntProgressModel",
            "bar_style": "success",
            "max": 1,
            "_view_module": "@jupyter-widgets/controls",
            "_model_module_version": "1.5.0",
            "value": 1,
            "_view_count": null,
            "_view_module_version": "1.5.0",
            "orientation": "horizontal",
            "min": 0,
            "description_tooltip": null,
            "_model_module": "@jupyter-widgets/controls",
            "layout": "IPY_MODEL_6d5d7f3c7d774a739298145085cfc946"
          }
        },
        "3d069fd6e8134256b03dd36749c3c003": {
          "model_module": "@jupyter-widgets/controls",
          "model_name": "HTMLModel",
          "state": {
            "_view_name": "HTMLView",
            "style": "IPY_MODEL_61026e2c0ced44fa9b45cf22b3c8f9e4",
            "_dom_classes": [],
            "description": "",
            "_model_name": "HTMLModel",
            "placeholder": "​",
            "_view_module": "@jupyter-widgets/controls",
            "_model_module_version": "1.5.0",
            "value": "8192it [00:00, 42027.18it/s]",
            "_view_count": null,
            "_view_module_version": "1.5.0",
            "description_tooltip": null,
            "_model_module": "@jupyter-widgets/controls",
            "layout": "IPY_MODEL_6ae6c580cbce431a8f6fb742d9e3f638"
          }
        },
        "2c0297bced9149248160483432f67bdd": {
          "model_module": "@jupyter-widgets/controls",
          "model_name": "ProgressStyleModel",
          "state": {
            "_view_name": "StyleView",
            "_model_name": "ProgressStyleModel",
            "description_width": "",
            "_view_module": "@jupyter-widgets/base",
            "_model_module_version": "1.5.0",
            "_view_count": null,
            "_view_module_version": "1.2.0",
            "bar_color": null,
            "_model_module": "@jupyter-widgets/controls"
          }
        },
        "6d5d7f3c7d774a739298145085cfc946": {
          "model_module": "@jupyter-widgets/base",
          "model_name": "LayoutModel",
          "state": {
            "_view_name": "LayoutView",
            "grid_template_rows": null,
            "right": null,
            "justify_content": null,
            "_view_module": "@jupyter-widgets/base",
            "overflow": null,
            "_model_module_version": "1.2.0",
            "_view_count": null,
            "flex_flow": null,
            "width": null,
            "min_width": null,
            "border": null,
            "align_items": null,
            "bottom": null,
            "_model_module": "@jupyter-widgets/base",
            "top": null,
            "grid_column": null,
            "overflow_y": null,
            "overflow_x": null,
            "grid_auto_flow": null,
            "grid_area": null,
            "grid_template_columns": null,
            "flex": null,
            "_model_name": "LayoutModel",
            "justify_items": null,
            "grid_row": null,
            "max_height": null,
            "align_content": null,
            "visibility": null,
            "align_self": null,
            "height": null,
            "min_height": null,
            "padding": null,
            "grid_auto_rows": null,
            "grid_gap": null,
            "max_width": null,
            "order": null,
            "_view_module_version": "1.2.0",
            "grid_template_areas": null,
            "object_position": null,
            "object_fit": null,
            "grid_auto_columns": null,
            "margin": null,
            "display": null,
            "left": null
          }
        },
        "61026e2c0ced44fa9b45cf22b3c8f9e4": {
          "model_module": "@jupyter-widgets/controls",
          "model_name": "DescriptionStyleModel",
          "state": {
            "_view_name": "StyleView",
            "_model_name": "DescriptionStyleModel",
            "description_width": "",
            "_view_module": "@jupyter-widgets/base",
            "_model_module_version": "1.5.0",
            "_view_count": null,
            "_view_module_version": "1.2.0",
            "_model_module": "@jupyter-widgets/controls"
          }
        },
        "6ae6c580cbce431a8f6fb742d9e3f638": {
          "model_module": "@jupyter-widgets/base",
          "model_name": "LayoutModel",
          "state": {
            "_view_name": "LayoutView",
            "grid_template_rows": null,
            "right": null,
            "justify_content": null,
            "_view_module": "@jupyter-widgets/base",
            "overflow": null,
            "_model_module_version": "1.2.0",
            "_view_count": null,
            "flex_flow": null,
            "width": null,
            "min_width": null,
            "border": null,
            "align_items": null,
            "bottom": null,
            "_model_module": "@jupyter-widgets/base",
            "top": null,
            "grid_column": null,
            "overflow_y": null,
            "overflow_x": null,
            "grid_auto_flow": null,
            "grid_area": null,
            "grid_template_columns": null,
            "flex": null,
            "_model_name": "LayoutModel",
            "justify_items": null,
            "grid_row": null,
            "max_height": null,
            "align_content": null,
            "visibility": null,
            "align_self": null,
            "height": null,
            "min_height": null,
            "padding": null,
            "grid_auto_rows": null,
            "grid_gap": null,
            "max_width": null,
            "order": null,
            "_view_module_version": "1.2.0",
            "grid_template_areas": null,
            "object_position": null,
            "object_fit": null,
            "grid_auto_columns": null,
            "margin": null,
            "display": null,
            "left": null
          }
        }
      }
    }
  },
  "cells": [
    {
      "cell_type": "markdown",
      "metadata": {
        "id": "view-in-github",
        "colab_type": "text"
      },
      "source": [
        "<a href=\"https://colab.research.google.com/github/LyubovZadiranova/ZadiranovaLA_ML/blob/master/Welcome_To_Colaboratory.ipynb\" target=\"_parent\"><img src=\"https://colab.research.google.com/assets/colab-badge.svg\" alt=\"Open In Colab\"/></a>"
      ]
    },
    {
      "cell_type": "markdown",
      "metadata": {
        "colab_type": "text",
        "id": "5fCEDCU_qrC0"
      },
      "source": [
        "<p><img alt=\"Colaboratory logo\" height=\"45px\" src=\"/img/colab_favicon.ico\" align=\"left\" hspace=\"10px\" vspace=\"0px\"></p>\n",
        "\n",
        "<h1>Welcome to Colaboratory!</h1>\n",
        "\n",
        "\n",
        "Colaboratory is a free Jupyter notebook environment that requires no setup and runs entirely in the cloud.\n",
        "\n",
        "With Colaboratory you can write and execute code, save and share your analyses, and access powerful computing resources, all for free from your browser."
      ]
    },
    {
      "cell_type": "code",
      "metadata": {
        "id": "We6IigYzu4hd",
        "colab_type": "code",
        "colab": {}
      },
      "source": [
        "import torch\n",
        "import random\n",
        "import numpy as np\n",
        "\n",
        "random.seed(0)\n",
        "np.random.seed(0)\n",
        "torch.manual_seed(0)\n",
        "torch.cuda.manual_seed(0)\n",
        "torch.backends.cudnn.deterministic = True # может замедлить вычисления на GPU"
      ],
      "execution_count": 0,
      "outputs": []
    },
    {
      "cell_type": "code",
      "metadata": {
        "id": "lF5fqOxuvDTu",
        "colab_type": "code",
        "outputId": "a3e6f508-232c-44f5-be7f-e7725efaf2e5",
        "colab": {
          "base_uri": "https://localhost:8080/",
          "height": 403,
          "referenced_widgets": [
            "aae62f10000e46a792476d458d2b3bda",
            "cba93bf5a1b34d468b4b032061488340",
            "4f9e8eaf585d4e2981e8fe3ec8c376b4",
            "bdce68c5a0a04fa69e2ecea31ef66cd7",
            "b59626c7aa00478bb1ed10e963f2a241",
            "49f26b05f7f14ab9b8d8ff8e997b3a7b",
            "a75e79e39fa64df98aaeb6150dfd0423",
            "e6a215a4c6064e37bb0468dbd0a1f5dd",
            "9d9185b95ed9499dbd5c37adc5856380",
            "9f04f330c94140878cefb4b529d96a80",
            "e788c33a5c94426083805473ff670510",
            "1a52f1e48251460b93c70552f66eb2b1",
            "e218fab83ebc4369a09f8b47573971f1",
            "7ed04f5be5b540de86314ffcf2ca8b3c",
            "36cc45e326f54b768b631163af562f4a",
            "7639e10755c74be69d6d8d46c82c891e",
            "6db96a23cce44ce983137d994bdff7fc",
            "c011643b6e294db79d712850dcedad10",
            "3a6b5d908145426b9393f0ad81a41c5f",
            "62957829c248485c9f6de2aebef3a85c",
            "96cfcf902a7f4d0caf156a181adaa0dc",
            "d31df6dedb1e48c38e719e148941aa29",
            "966b853ebf244fb4814fe0771608269a",
            "524f678c878b41a1b641b9c8e94dca81",
            "aeeef6f6c5374944b98e85dc5258750d",
            "1d501c6dde9c43a28cd9afe21b35bbf5",
            "dcb12879cffa4035b25602394b380b7f",
            "3d069fd6e8134256b03dd36749c3c003",
            "2c0297bced9149248160483432f67bdd",
            "6d5d7f3c7d774a739298145085cfc946",
            "61026e2c0ced44fa9b45cf22b3c8f9e4",
            "6ae6c580cbce431a8f6fb742d9e3f638"
          ]
        }
      },
      "source": [
        "import torchvision.datasets\n",
        "MNIST_train = torchvision.datasets.MNIST('./', download=True, train=True)\n",
        "MNIST_test = torchvision.datasets.MNIST('./', download=True, train=False)"
      ],
      "execution_count": 2,
      "outputs": [
        {
          "output_type": "stream",
          "text": [
            "Downloading http://yann.lecun.com/exdb/mnist/train-images-idx3-ubyte.gz to ./MNIST/raw/train-images-idx3-ubyte.gz\n"
          ],
          "name": "stdout"
        },
        {
          "output_type": "display_data",
          "data": {
            "application/vnd.jupyter.widget-view+json": {
              "model_id": "aae62f10000e46a792476d458d2b3bda",
              "version_minor": 0,
              "version_major": 2
            },
            "text/plain": [
              "HBox(children=(IntProgress(value=1, bar_style='info', max=1), HTML(value='')))"
            ]
          },
          "metadata": {
            "tags": []
          }
        },
        {
          "output_type": "stream",
          "text": [
            "\n",
            "Extracting ./MNIST/raw/train-images-idx3-ubyte.gz to ./MNIST/raw\n",
            "Downloading http://yann.lecun.com/exdb/mnist/train-labels-idx1-ubyte.gz to ./MNIST/raw/train-labels-idx1-ubyte.gz\n"
          ],
          "name": "stdout"
        },
        {
          "output_type": "display_data",
          "data": {
            "application/vnd.jupyter.widget-view+json": {
              "model_id": "9d9185b95ed9499dbd5c37adc5856380",
              "version_minor": 0,
              "version_major": 2
            },
            "text/plain": [
              "HBox(children=(IntProgress(value=1, bar_style='info', max=1), HTML(value='')))"
            ]
          },
          "metadata": {
            "tags": []
          }
        },
        {
          "output_type": "stream",
          "text": [
            "\n",
            "Extracting ./MNIST/raw/train-labels-idx1-ubyte.gz to ./MNIST/raw\n",
            "Downloading http://yann.lecun.com/exdb/mnist/t10k-images-idx3-ubyte.gz to ./MNIST/raw/t10k-images-idx3-ubyte.gz\n"
          ],
          "name": "stdout"
        },
        {
          "output_type": "display_data",
          "data": {
            "application/vnd.jupyter.widget-view+json": {
              "model_id": "6db96a23cce44ce983137d994bdff7fc",
              "version_minor": 0,
              "version_major": 2
            },
            "text/plain": [
              "HBox(children=(IntProgress(value=1, bar_style='info', max=1), HTML(value='')))"
            ]
          },
          "metadata": {
            "tags": []
          }
        },
        {
          "output_type": "stream",
          "text": [
            "\n",
            "Extracting ./MNIST/raw/t10k-images-idx3-ubyte.gz to ./MNIST/raw\n",
            "Downloading http://yann.lecun.com/exdb/mnist/t10k-labels-idx1-ubyte.gz to ./MNIST/raw/t10k-labels-idx1-ubyte.gz\n"
          ],
          "name": "stdout"
        },
        {
          "output_type": "display_data",
          "data": {
            "application/vnd.jupyter.widget-view+json": {
              "model_id": "aeeef6f6c5374944b98e85dc5258750d",
              "version_minor": 0,
              "version_major": 2
            },
            "text/plain": [
              "HBox(children=(IntProgress(value=1, bar_style='info', max=1), HTML(value='')))"
            ]
          },
          "metadata": {
            "tags": []
          }
        },
        {
          "output_type": "stream",
          "text": [
            "\n",
            "Extracting ./MNIST/raw/t10k-labels-idx1-ubyte.gz to ./MNIST/raw\n",
            "Processing...\n",
            "Done!\n"
          ],
          "name": "stdout"
        }
      ]
    },
    {
      "cell_type": "code",
      "metadata": {
        "id": "t_qHIKRmvJ1C",
        "colab_type": "code",
        "outputId": "19eb4365-6b66-49a9-f95a-923947bd105b",
        "colab": {
          "base_uri": "https://localhost:8080/",
          "height": 173
        }
      },
      "source": [
        "X_train = MNIST_train.train_data\n",
        "y_train = MNIST_train.train_labels\n",
        "X_test = MNIST_test.test_data\n",
        "y_test = MNIST_test.test_labels"
      ],
      "execution_count": 3,
      "outputs": [
        {
          "output_type": "stream",
          "text": [
            "/usr/local/lib/python3.6/dist-packages/torchvision/datasets/mnist.py:55: UserWarning: train_data has been renamed data\n",
            "  warnings.warn(\"train_data has been renamed data\")\n",
            "/usr/local/lib/python3.6/dist-packages/torchvision/datasets/mnist.py:45: UserWarning: train_labels has been renamed targets\n",
            "  warnings.warn(\"train_labels has been renamed targets\")\n",
            "/usr/local/lib/python3.6/dist-packages/torchvision/datasets/mnist.py:60: UserWarning: test_data has been renamed data\n",
            "  warnings.warn(\"test_data has been renamed data\")\n",
            "/usr/local/lib/python3.6/dist-packages/torchvision/datasets/mnist.py:50: UserWarning: test_labels has been renamed targets\n",
            "  warnings.warn(\"test_labels has been renamed targets\")\n"
          ],
          "name": "stderr"
        }
      ]
    },
    {
      "cell_type": "code",
      "metadata": {
        "id": "0TlwUJEZvNN-",
        "colab_type": "code",
        "colab": {}
      },
      "source": [
        "X_train = X_train.float()\n",
        "X_test = X_test.float()"
      ],
      "execution_count": 0,
      "outputs": []
    },
    {
      "cell_type": "code",
      "metadata": {
        "id": "Yx7uF44pvRdf",
        "colab_type": "code",
        "colab": {}
      },
      "source": [
        "X_train = X_train.reshape([-1, 28 * 28])\n",
        "X_test = X_test.reshape([-1, 28 * 28])"
      ],
      "execution_count": 0,
      "outputs": []
    },
    {
      "cell_type": "code",
      "metadata": {
        "id": "CoKniQkgvXkK",
        "colab_type": "code",
        "colab": {}
      },
      "source": [
        "class MNISTNet(torch.nn.Module):\n",
        "    def __init__(self, n_hidden_neurons):\n",
        "        super(MNISTNet, self).__init__()\n",
        "        self.fc1 = torch.nn.Linear(28 * 28, n_hidden_neurons)\n",
        "        self.ac1 = torch.nn.Sigmoid()\n",
        "        self.fc2 = torch.nn.Linear(n_hidden_neurons, 10) # 10 Классов\n",
        "    \n",
        "    def forward(self, x):\n",
        "        x = self.fc1(x)\n",
        "        x = self.ac1(x)\n",
        "        x = self.fc2(x)\n",
        "        return x\n",
        "    \n",
        "mnist_net = MNISTNet(100)"
      ],
      "execution_count": 0,
      "outputs": []
    },
    {
      "cell_type": "code",
      "metadata": {
        "id": "1IG2W779v84u",
        "colab_type": "code",
        "outputId": "b3736862-b687-4b49-9ef4-1ae1c83f35de",
        "colab": {
          "base_uri": "https://localhost:8080/",
          "height": 34
        }
      },
      "source": [
        "torch.cuda.is_available()"
      ],
      "execution_count": 7,
      "outputs": [
        {
          "output_type": "execute_result",
          "data": {
            "text/plain": [
              "True"
            ]
          },
          "metadata": {
            "tags": []
          },
          "execution_count": 7
        }
      ]
    },
    {
      "cell_type": "code",
      "metadata": {
        "id": "cxRrb30dvoMh",
        "colab_type": "code",
        "colab": {}
      },
      "source": [
        "device = torch.device('cuda:0' if torch.cuda.is_available() else 'cpu')\n",
        "mnist_net = mnist_net.to(device)\n"
      ],
      "execution_count": 0,
      "outputs": []
    },
    {
      "cell_type": "code",
      "metadata": {
        "id": "sy3mdWJ-vbQ0",
        "colab_type": "code",
        "colab": {}
      },
      "source": [
        "loss = torch.nn.CrossEntropyLoss()\n",
        "optimizer = torch.optim.Adam(mnist_net.parameters(), lr=1.0e-3)"
      ],
      "execution_count": 0,
      "outputs": []
    },
    {
      "cell_type": "code",
      "metadata": {
        "id": "KmKVhcyWvg-P",
        "colab_type": "code",
        "outputId": "e944fde9-e69a-4e6c-e784-d68e1cb63a2e",
        "colab": {
          "base_uri": "https://localhost:8080/",
          "height": 231
        }
      },
      "source": [
        "batch_size = 100\n",
        "\n",
        "test_accuracy_history = []\n",
        "test_loss_history = []\n",
        "\n",
        "X_test = X_test.to(device)\n",
        "y_test = y_test.to(device)\n",
        "\n",
        "for epoch in range(10000):\n",
        "    order = np.random.permutation(len(X_train)) # перемешиваем эл-ты\n",
        "    \n",
        "    for start_index in range(0, len(X_train), batch_size):\n",
        "        optimizer.zero_grad()\n",
        "        \n",
        "        batch_indexes = order[start_index:start_index+batch_size]\n",
        "        \n",
        "        X_batch = X_train[batch_indexes].to(device)\n",
        "        y_batch = y_train[batch_indexes].to(device)\n",
        "        \n",
        "        preds = mnist_net.forward(X_batch) \n",
        "        \n",
        "        loss_value = loss(preds, y_batch)\n",
        "        loss_value.backward()\n",
        "        \n",
        "        optimizer.step()\n",
        "\n",
        "    test_preds = mnist_net.forward(X_test)\n",
        "    test_loss_history.append(loss(test_preds, y_test))\n",
        "    \n",
        "    accuracy = (test_preds.argmax(dim=1) == y_test).float().mean()\n",
        "    test_accuracy_history.append(accuracy)\n",
        "    # print(accuracy)"
      ],
      "execution_count": 0,
      "outputs": [
        {
          "output_type": "error",
          "ename": "KeyboardInterrupt",
          "evalue": "ignored",
          "traceback": [
            "\u001b[0;31m---------------------------------------------------------------------------\u001b[0m",
            "\u001b[0;31mKeyboardInterrupt\u001b[0m                         Traceback (most recent call last)",
            "\u001b[0;32m<ipython-input-14-93159255bb73>\u001b[0m in \u001b[0;36m<module>\u001b[0;34m()\u001b[0m\n\u001b[1;32m     15\u001b[0m         \u001b[0mbatch_indexes\u001b[0m \u001b[0;34m=\u001b[0m \u001b[0morder\u001b[0m\u001b[0;34m[\u001b[0m\u001b[0mstart_index\u001b[0m\u001b[0;34m:\u001b[0m\u001b[0mstart_index\u001b[0m\u001b[0;34m+\u001b[0m\u001b[0mbatch_size\u001b[0m\u001b[0;34m]\u001b[0m\u001b[0;34m\u001b[0m\u001b[0;34m\u001b[0m\u001b[0m\n\u001b[1;32m     16\u001b[0m \u001b[0;34m\u001b[0m\u001b[0m\n\u001b[0;32m---> 17\u001b[0;31m         \u001b[0mX_batch\u001b[0m \u001b[0;34m=\u001b[0m \u001b[0mX_train\u001b[0m\u001b[0;34m[\u001b[0m\u001b[0mbatch_indexes\u001b[0m\u001b[0;34m]\u001b[0m\u001b[0;34m.\u001b[0m\u001b[0mto\u001b[0m\u001b[0;34m(\u001b[0m\u001b[0mdevice\u001b[0m\u001b[0;34m)\u001b[0m\u001b[0;34m\u001b[0m\u001b[0;34m\u001b[0m\u001b[0m\n\u001b[0m\u001b[1;32m     18\u001b[0m         \u001b[0my_batch\u001b[0m \u001b[0;34m=\u001b[0m \u001b[0my_train\u001b[0m\u001b[0;34m[\u001b[0m\u001b[0mbatch_indexes\u001b[0m\u001b[0;34m]\u001b[0m\u001b[0;34m.\u001b[0m\u001b[0mto\u001b[0m\u001b[0;34m(\u001b[0m\u001b[0mdevice\u001b[0m\u001b[0;34m)\u001b[0m\u001b[0;34m\u001b[0m\u001b[0;34m\u001b[0m\u001b[0m\n\u001b[1;32m     19\u001b[0m \u001b[0;34m\u001b[0m\u001b[0m\n",
            "\u001b[0;31mKeyboardInterrupt\u001b[0m: "
          ]
        }
      ]
    },
    {
      "cell_type": "code",
      "metadata": {
        "id": "53_h971d0bmN",
        "colab_type": "code",
        "outputId": "d1d74cde-a878-417e-fc12-70a02152f7cf",
        "colab": {
          "base_uri": "https://localhost:8080/",
          "height": 282
        }
      },
      "source": [
        "import matplotlib.pyplot as plt\n",
        "plt.plot(test_accuracy_history)\n"
      ],
      "execution_count": 0,
      "outputs": [
        {
          "output_type": "execute_result",
          "data": {
            "text/plain": [
              "[<matplotlib.lines.Line2D at 0x7fa8d1275eb8>]"
            ]
          },
          "metadata": {
            "tags": []
          },
          "execution_count": 15
        },
        {
          "output_type": "display_data",
          "data": {
            "image/png": "[encoded data removed]",
            "text/plain": [
              "<Figure size 432x288 with 1 Axes>"
            ]
          },
          "metadata": {
            "tags": []
          }
        }
      ]
    },
    {
      "cell_type": "code",
      "metadata": {
        "id": "i8-ZEwCT048p",
        "colab_type": "code",
        "outputId": "5e8efc9c-3ee8-48d3-83d9-06a5ae618889",
        "colab": {
          "base_uri": "https://localhost:8080/",
          "height": 282
        }
      },
      "source": [
        "plt.plot(test_loss_history)"
      ],
      "execution_count": 0,
      "outputs": [
        {
          "output_type": "execute_result",
          "data": {
            "text/plain": [
              "[<matplotlib.lines.Line2D at 0x7fa8d1260630>]"
            ]
          },
          "metadata": {
            "tags": []
          },
          "execution_count": 16
        },
        {
          "output_type": "display_data",
          "data": {
            "image/png": "[encoded data removed]",
            "text/plain": [
              "<Figure size 432x288 with 1 Axes>"
            ]
          },
          "metadata": {
            "tags": []
          }
        }
      ]
    },
    {
      "cell_type": "code",
      "metadata": {
        "id": "gmkPjFon_JmY",
        "colab_type": "code",
        "outputId": "0e577f13-9974-47b8-df6b-10f2eabf5e78",
        "colab": {
          "base_uri": "https://localhost:8080/",
          "height": 1000
        }
      },
      "source": [
        "batch_size = 100\n",
        "\n",
        "train_loss_history = []\n",
        "test_loss_history = []\n",
        "\n",
        "X_test = X_test.to(device)\n",
        "y_test = y_test.to(device)\n",
        "\n",
        "X_train = X_train.to(device)\n",
        "y_train = y_train.to(device)\n",
        "\n",
        "for epoch in range(10000):\n",
        "    order = np.random.permutation(len(X_train)) # перемешиваем эл-ты\n",
        "    \n",
        "    for start_index in range(0, len(X_train), batch_size):\n",
        "        optimizer.zero_grad()\n",
        "        \n",
        "        batch_indexes = order[start_index:start_index+batch_size]\n",
        "        \n",
        "        X_batch = X_train[batch_indexes].to(device)\n",
        "        y_batch = y_train[batch_indexes].to(device)\n",
        "        \n",
        "        preds = mnist_net.forward(X_batch) \n",
        "        \n",
        "        loss_value = loss(preds, y_batch)\n",
        "        loss_value.backward()\n",
        "\n",
        "        optimizer.step()\n",
        "\n",
        "    train_preds = mnist_net.forward(X_train)\n",
        "    train_loss_history.append(loss(train_preds, y_train))\n",
        "       \n",
        "    test_preds = mnist_net.forward(X_test)\n",
        "    test_loss_history.append(loss(test_preds, y_test))\n",
        "\n",
        " \n",
        "    print(train_loss_history, sep = \"\\n\")\n",
        "    print(test_loss_history, sep = \"\\n\")"
      ],
      "execution_count": 15,
      "outputs": [
        {
          "output_type": "stream",
          "text": [
            "[tensor(0.2427, device='cuda:0', grad_fn=<NllLossBackward>)]\n",
            "[tensor(0.2436, device='cuda:0', grad_fn=<NllLossBackward>)]\n",
            "[tensor(0.2427, device='cuda:0', grad_fn=<NllLossBackward>), tensor(0.2390, device='cuda:0', grad_fn=<NllLossBackward>)]\n",
            "[tensor(0.2436, device='cuda:0', grad_fn=<NllLossBackward>), tensor(0.2382, device='cuda:0', grad_fn=<NllLossBackward>)]\n",
            "[tensor(0.2427, device='cuda:0', grad_fn=<NllLossBackward>), tensor(0.2390, device='cuda:0', grad_fn=<NllLossBackward>), tensor(0.2363, device='cuda:0', grad_fn=<NllLossBackward>)]\n",
            "[tensor(0.2436, device='cuda:0', grad_fn=<NllLossBackward>), tensor(0.2382, device='cuda:0', grad_fn=<NllLossBackward>), tensor(0.2381, device='cuda:0', grad_fn=<NllLossBackward>)]\n",
            "[tensor(0.2427, device='cuda:0', grad_fn=<NllLossBackward>), tensor(0.2390, device='cuda:0', grad_fn=<NllLossBackward>), tensor(0.2363, device='cuda:0', grad_fn=<NllLossBackward>), tensor(0.2350, device='cuda:0', grad_fn=<NllLossBackward>)]\n",
            "[tensor(0.2436, device='cuda:0', grad_fn=<NllLossBackward>), tensor(0.2382, device='cuda:0', grad_fn=<NllLossBackward>), tensor(0.2381, device='cuda:0', grad_fn=<NllLossBackward>), tensor(0.2360, device='cuda:0', grad_fn=<NllLossBackward>)]\n",
            "[tensor(0.2427, device='cuda:0', grad_fn=<NllLossBackward>), tensor(0.2390, device='cuda:0', grad_fn=<NllLossBackward>), tensor(0.2363, device='cuda:0', grad_fn=<NllLossBackward>), tensor(0.2350, device='cuda:0', grad_fn=<NllLossBackward>), tensor(0.2359, device='cuda:0', grad_fn=<NllLossBackward>)]\n",
            "[tensor(0.2436, device='cuda:0', grad_fn=<NllLossBackward>), tensor(0.2382, device='cuda:0', grad_fn=<NllLossBackward>), tensor(0.2381, device='cuda:0', grad_fn=<NllLossBackward>), tensor(0.2360, device='cuda:0', grad_fn=<NllLossBackward>), tensor(0.2358, device='cuda:0', grad_fn=<NllLossBackward>)]\n",
            "[tensor(0.2427, device='cuda:0', grad_fn=<NllLossBackward>), tensor(0.2390, device='cuda:0', grad_fn=<NllLossBackward>), tensor(0.2363, device='cuda:0', grad_fn=<NllLossBackward>), tensor(0.2350, device='cuda:0', grad_fn=<NllLossBackward>), tensor(0.2359, device='cuda:0', grad_fn=<NllLossBackward>), tensor(0.2288, device='cuda:0', grad_fn=<NllLossBackward>)]\n",
            "[tensor(0.2436, device='cuda:0', grad_fn=<NllLossBackward>), tensor(0.2382, device='cuda:0', grad_fn=<NllLossBackward>), tensor(0.2381, device='cuda:0', grad_fn=<NllLossBackward>), tensor(0.2360, device='cuda:0', grad_fn=<NllLossBackward>), tensor(0.2358, device='cuda:0', grad_fn=<NllLossBackward>), tensor(0.2281, device='cuda:0', grad_fn=<NllLossBackward>)]\n",
            "[tensor(0.2427, device='cuda:0', grad_fn=<NllLossBackward>), tensor(0.2390, device='cuda:0', grad_fn=<NllLossBackward>), tensor(0.2363, device='cuda:0', grad_fn=<NllLossBackward>), tensor(0.2350, device='cuda:0', grad_fn=<NllLossBackward>), tensor(0.2359, device='cuda:0', grad_fn=<NllLossBackward>), tensor(0.2288, device='cuda:0', grad_fn=<NllLossBackward>), tensor(0.2292, device='cuda:0', grad_fn=<NllLossBackward>)]\n",
            "[tensor(0.2436, device='cuda:0', grad_fn=<NllLossBackward>), tensor(0.2382, device='cuda:0', grad_fn=<NllLossBackward>), tensor(0.2381, device='cuda:0', grad_fn=<NllLossBackward>), tensor(0.2360, device='cuda:0', grad_fn=<NllLossBackward>), tensor(0.2358, device='cuda:0', grad_fn=<NllLossBackward>), tensor(0.2281, device='cuda:0', grad_fn=<NllLossBackward>), tensor(0.2337, device='cuda:0', grad_fn=<NllLossBackward>)]\n",
            "[tensor(0.2427, device='cuda:0', grad_fn=<NllLossBackward>), tensor(0.2390, device='cuda:0', grad_fn=<NllLossBackward>), tensor(0.2363, device='cuda:0', grad_fn=<NllLossBackward>), tensor(0.2350, device='cuda:0', grad_fn=<NllLossBackward>), tensor(0.2359, device='cuda:0', grad_fn=<NllLossBackward>), tensor(0.2288, device='cuda:0', grad_fn=<NllLossBackward>), tensor(0.2292, device='cuda:0', grad_fn=<NllLossBackward>), tensor(0.2163, device='cuda:0', grad_fn=<NllLossBackward>)]\n",
            "[tensor(0.2436, device='cuda:0', grad_fn=<NllLossBackward>), tensor(0.2382, device='cuda:0', grad_fn=<NllLossBackward>), tensor(0.2381, device='cuda:0', grad_fn=<NllLossBackward>), tensor(0.2360, device='cuda:0', grad_fn=<NllLossBackward>), tensor(0.2358, device='cuda:0', grad_fn=<NllLossBackward>), tensor(0.2281, device='cuda:0', grad_fn=<NllLossBackward>), tensor(0.2337, device='cuda:0', grad_fn=<NllLossBackward>), tensor(0.2112, device='cuda:0', grad_fn=<NllLossBackward>)]\n",
            "[tensor(0.2427, device='cuda:0', grad_fn=<NllLossBackward>), tensor(0.2390, device='cuda:0', grad_fn=<NllLossBackward>), tensor(0.2363, device='cuda:0', grad_fn=<NllLossBackward>), tensor(0.2350, device='cuda:0', grad_fn=<NllLossBackward>), tensor(0.2359, device='cuda:0', grad_fn=<NllLossBackward>), tensor(0.2288, device='cuda:0', grad_fn=<NllLossBackward>), tensor(0.2292, device='cuda:0', grad_fn=<NllLossBackward>), tensor(0.2163, device='cuda:0', grad_fn=<NllLossBackward>), tensor(0.2093, device='cuda:0', grad_fn=<NllLossBackward>)]\n",
            "[tensor(0.2436, device='cuda:0', grad_fn=<NllLossBackward>), tensor(0.2382, device='cuda:0', grad_fn=<NllLossBackward>), tensor(0.2381, device='cuda:0', grad_fn=<NllLossBackward>), tensor(0.2360, device='cuda:0', grad_fn=<NllLossBackward>), tensor(0.2358, device='cuda:0', grad_fn=<NllLossBackward>), tensor(0.2281, device='cuda:0', grad_fn=<NllLossBackward>), tensor(0.2337, device='cuda:0', grad_fn=<NllLossBackward>), tensor(0.2112, device='cuda:0', grad_fn=<NllLossBackward>), tensor(0.2181, device='cuda:0', grad_fn=<NllLossBackward>)]\n",
            "[tensor(0.2427, device='cuda:0', grad_fn=<NllLossBackward>), tensor(0.2390, device='cuda:0', grad_fn=<NllLossBackward>), tensor(0.2363, device='cuda:0', grad_fn=<NllLossBackward>), tensor(0.2350, device='cuda:0', grad_fn=<NllLossBackward>), tensor(0.2359, device='cuda:0', grad_fn=<NllLossBackward>), tensor(0.2288, device='cuda:0', grad_fn=<NllLossBackward>), tensor(0.2292, device='cuda:0', grad_fn=<NllLossBackward>), tensor(0.2163, device='cuda:0', grad_fn=<NllLossBackward>), tensor(0.2093, device='cuda:0', grad_fn=<NllLossBackward>), tensor(0.2083, device='cuda:0', grad_fn=<NllLossBackward>)]\n",
            "[tensor(0.2436, device='cuda:0', grad_fn=<NllLossBackward>), tensor(0.2382, device='cuda:0', grad_fn=<NllLossBackward>), tensor(0.2381, device='cuda:0', grad_fn=<NllLossBackward>), tensor(0.2360, device='cuda:0', grad_fn=<NllLossBackward>), tensor(0.2358, device='cuda:0', grad_fn=<NllLossBackward>), tensor(0.2281, device='cuda:0', grad_fn=<NllLossBackward>), tensor(0.2337, device='cuda:0', grad_fn=<NllLossBackward>), tensor(0.2112, device='cuda:0', grad_fn=<NllLossBackward>), tensor(0.2181, device='cuda:0', grad_fn=<NllLossBackward>), tensor(0.2079, device='cuda:0', grad_fn=<NllLossBackward>)]\n",
            "[tensor(0.2427, device='cuda:0', grad_fn=<NllLossBackward>), tensor(0.2390, device='cuda:0', grad_fn=<NllLossBackward>), tensor(0.2363, device='cuda:0', grad_fn=<NllLossBackward>), tensor(0.2350, device='cuda:0', grad_fn=<NllLossBackward>), tensor(0.2359, device='cuda:0', grad_fn=<NllLossBackward>), tensor(0.2288, device='cuda:0', grad_fn=<NllLossBackward>), tensor(0.2292, device='cuda:0', grad_fn=<NllLossBackward>), tensor(0.2163, device='cuda:0', grad_fn=<NllLossBackward>), tensor(0.2093, device='cuda:0', grad_fn=<NllLossBackward>), tensor(0.2083, device='cuda:0', grad_fn=<NllLossBackward>), tensor(0.2160, device='cuda:0', grad_fn=<NllLossBackward>)]\n",
            "[tensor(0.2436, device='cuda:0', grad_fn=<NllLossBackward>), tensor(0.2382, device='cuda:0', grad_fn=<NllLossBackward>), tensor(0.2381, device='cuda:0', grad_fn=<NllLossBackward>), tensor(0.2360, device='cuda:0', grad_fn=<NllLossBackward>), tensor(0.2358, device='cuda:0', grad_fn=<NllLossBackward>), tensor(0.2281, device='cuda:0', grad_fn=<NllLossBackward>), tensor(0.2337, device='cuda:0', grad_fn=<NllLossBackward>), tensor(0.2112, device='cuda:0', grad_fn=<NllLossBackward>), tensor(0.2181, device='cuda:0', grad_fn=<NllLossBackward>), tensor(0.2079, device='cuda:0', grad_fn=<NllLossBackward>), tensor(0.2184, device='cuda:0', grad_fn=<NllLossBackward>)]\n",
            "[tensor(0.2427, device='cuda:0', grad_fn=<NllLossBackward>), tensor(0.2390, device='cuda:0', grad_fn=<NllLossBackward>), tensor(0.2363, device='cuda:0', grad_fn=<NllLossBackward>), tensor(0.2350, device='cuda:0', grad_fn=<NllLossBackward>), tensor(0.2359, device='cuda:0', grad_fn=<NllLossBackward>), tensor(0.2288, device='cuda:0', grad_fn=<NllLossBackward>), tensor(0.2292, device='cuda:0', grad_fn=<NllLossBackward>), tensor(0.2163, device='cuda:0', grad_fn=<NllLossBackward>), tensor(0.2093, device='cuda:0', grad_fn=<NllLossBackward>), tensor(0.2083, device='cuda:0', grad_fn=<NllLossBackward>), tensor(0.2160, device='cuda:0', grad_fn=<NllLossBackward>), tensor(0.2136, device='cuda:0', grad_fn=<NllLossBackward>)]\n",
            "[tensor(0.2436, device='cuda:0', grad_fn=<NllLossBackward>), tensor(0.2382, device='cuda:0', grad_fn=<NllLossBackward>), tensor(0.2381, device='cuda:0', grad_fn=<NllLossBackward>), tensor(0.2360, device='cuda:0', grad_fn=<NllLossBackward>), tensor(0.2358, device='cuda:0', grad_fn=<NllLossBackward>), tensor(0.2281, device='cuda:0', grad_fn=<NllLossBackward>), tensor(0.2337, device='cuda:0', grad_fn=<NllLossBackward>), tensor(0.2112, device='cuda:0', grad_fn=<NllLossBackward>), tensor(0.2181, device='cuda:0', grad_fn=<NllLossBackward>), tensor(0.2079, device='cuda:0', grad_fn=<NllLossBackward>), tensor(0.2184, device='cuda:0', grad_fn=<NllLossBackward>), tensor(0.2103, device='cuda:0', grad_fn=<NllLossBackward>)]\n",
            "[tensor(0.2427, device='cuda:0', grad_fn=<NllLossBackward>), tensor(0.2390, device='cuda:0', grad_fn=<NllLossBackward>), tensor(0.2363, device='cuda:0', grad_fn=<NllLossBackward>), tensor(0.2350, device='cuda:0', grad_fn=<NllLossBackward>), tensor(0.2359, device='cuda:0', grad_fn=<NllLossBackward>), tensor(0.2288, device='cuda:0', grad_fn=<NllLossBackward>), tensor(0.2292, device='cuda:0', grad_fn=<NllLossBackward>), tensor(0.2163, device='cuda:0', grad_fn=<NllLossBackward>), tensor(0.2093, device='cuda:0', grad_fn=<NllLossBackward>), tensor(0.2083, device='cuda:0', grad_fn=<NllLossBackward>), tensor(0.2160, device='cuda:0', grad_fn=<NllLossBackward>), tensor(0.2136, device='cuda:0', grad_fn=<NllLossBackward>), tensor(0.1992, device='cuda:0', grad_fn=<NllLossBackward>)]\n",
            "[tensor(0.2436, device='cuda:0', grad_fn=<NllLossBackward>), tensor(0.2382, device='cuda:0', grad_fn=<NllLossBackward>), tensor(0.2381, device='cuda:0', grad_fn=<NllLossBackward>), tensor(0.2360, device='cuda:0', grad_fn=<NllLossBackward>), tensor(0.2358, device='cuda:0', grad_fn=<NllLossBackward>), tensor(0.2281, device='cuda:0', grad_fn=<NllLossBackward>), tensor(0.2337, device='cuda:0', grad_fn=<NllLossBackward>), tensor(0.2112, device='cuda:0', grad_fn=<NllLossBackward>), tensor(0.2181, device='cuda:0', grad_fn=<NllLossBackward>), tensor(0.2079, device='cuda:0', grad_fn=<NllLossBackward>), tensor(0.2184, device='cuda:0', grad_fn=<NllLossBackward>), tensor(0.2103, device='cuda:0', grad_fn=<NllLossBackward>), tensor(0.2036, device='cuda:0', grad_fn=<NllLossBackward>)]\n",
            "[tensor(0.2427, device='cuda:0', grad_fn=<NllLossBackward>), tensor(0.2390, device='cuda:0', grad_fn=<NllLossBackward>), tensor(0.2363, device='cuda:0', grad_fn=<NllLossBackward>), tensor(0.2350, device='cuda:0', grad_fn=<NllLossBackward>), tensor(0.2359, device='cuda:0', grad_fn=<NllLossBackward>), tensor(0.2288, device='cuda:0', grad_fn=<NllLossBackward>), tensor(0.2292, device='cuda:0', grad_fn=<NllLossBackward>), tensor(0.2163, device='cuda:0', grad_fn=<NllLossBackward>), tensor(0.2093, device='cuda:0', grad_fn=<NllLossBackward>), tensor(0.2083, device='cuda:0', grad_fn=<NllLossBackward>), tensor(0.2160, device='cuda:0', grad_fn=<NllLossBackward>), tensor(0.2136, device='cuda:0', grad_fn=<NllLossBackward>), tensor(0.1992, device='cuda:0', grad_fn=<NllLossBackward>), tensor(0.1922, device='cuda:0', grad_fn=<NllLossBackward>)]\n",
            "[tensor(0.2436, device='cuda:0', grad_fn=<NllLossBackward>), tensor(0.2382, device='cuda:0', grad_fn=<NllLossBackward>), tensor(0.2381, device='cuda:0', grad_fn=<NllLossBackward>), tensor(0.2360, device='cuda:0', grad_fn=<NllLossBackward>), tensor(0.2358, device='cuda:0', grad_fn=<NllLossBackward>), tensor(0.2281, device='cuda:0', grad_fn=<NllLossBackward>), tensor(0.2337, device='cuda:0', grad_fn=<NllLossBackward>), tensor(0.2112, device='cuda:0', grad_fn=<NllLossBackward>), tensor(0.2181, device='cuda:0', grad_fn=<NllLossBackward>), tensor(0.2079, device='cuda:0', grad_fn=<NllLossBackward>), tensor(0.2184, device='cuda:0', grad_fn=<NllLossBackward>), tensor(0.2103, device='cuda:0', grad_fn=<NllLossBackward>), tensor(0.2036, device='cuda:0', grad_fn=<NllLossBackward>), tensor(0.1963, device='cuda:0', grad_fn=<NllLossBackward>)]\n",
            "[tensor(0.2427, device='cuda:0', grad_fn=<NllLossBackward>), tensor(0.2390, device='cuda:0', grad_fn=<NllLossBackward>), tensor(0.2363, device='cuda:0', grad_fn=<NllLossBackward>), tensor(0.2350, device='cuda:0', grad_fn=<NllLossBackward>), tensor(0.2359, device='cuda:0', grad_fn=<NllLossBackward>), tensor(0.2288, device='cuda:0', grad_fn=<NllLossBackward>), tensor(0.2292, device='cuda:0', grad_fn=<NllLossBackward>), tensor(0.2163, device='cuda:0', grad_fn=<NllLossBackward>), tensor(0.2093, device='cuda:0', grad_fn=<NllLossBackward>), tensor(0.2083, device='cuda:0', grad_fn=<NllLossBackward>), tensor(0.2160, device='cuda:0', grad_fn=<NllLossBackward>), tensor(0.2136, device='cuda:0', grad_fn=<NllLossBackward>), tensor(0.1992, device='cuda:0', grad_fn=<NllLossBackward>), tensor(0.1922, device='cuda:0', grad_fn=<NllLossBackward>), tensor(0.1949, device='cuda:0', grad_fn=<NllLossBackward>)]\n",
            "[tensor(0.2436, device='cuda:0', grad_fn=<NllLossBackward>), tensor(0.2382, device='cuda:0', grad_fn=<NllLossBackward>), tensor(0.2381, device='cuda:0', grad_fn=<NllLossBackward>), tensor(0.2360, device='cuda:0', grad_fn=<NllLossBackward>), tensor(0.2358, device='cuda:0', grad_fn=<NllLossBackward>), tensor(0.2281, device='cuda:0', grad_fn=<NllLossBackward>), tensor(0.2337, device='cuda:0', grad_fn=<NllLossBackward>), tensor(0.2112, device='cuda:0', grad_fn=<NllLossBackward>), tensor(0.2181, device='cuda:0', grad_fn=<NllLossBackward>), tensor(0.2079, device='cuda:0', grad_fn=<NllLossBackward>), tensor(0.2184, device='cuda:0', grad_fn=<NllLossBackward>), tensor(0.2103, device='cuda:0', grad_fn=<NllLossBackward>), tensor(0.2036, device='cuda:0', grad_fn=<NllLossBackward>), tensor(0.1963, device='cuda:0', grad_fn=<NllLossBackward>), tensor(0.2022, device='cuda:0', grad_fn=<NllLossBackward>)]\n",
            "[tensor(0.2427, device='cuda:0', grad_fn=<NllLossBackward>), tensor(0.2390, device='cuda:0', grad_fn=<NllLossBackward>), tensor(0.2363, device='cuda:0', grad_fn=<NllLossBackward>), tensor(0.2350, device='cuda:0', grad_fn=<NllLossBackward>), tensor(0.2359, device='cuda:0', grad_fn=<NllLossBackward>), tensor(0.2288, device='cuda:0', grad_fn=<NllLossBackward>), tensor(0.2292, device='cuda:0', grad_fn=<NllLossBackward>), tensor(0.2163, device='cuda:0', grad_fn=<NllLossBackward>), tensor(0.2093, device='cuda:0', grad_fn=<NllLossBackward>), tensor(0.2083, device='cuda:0', grad_fn=<NllLossBackward>), tensor(0.2160, device='cuda:0', grad_fn=<NllLossBackward>), tensor(0.2136, device='cuda:0', grad_fn=<NllLossBackward>), tensor(0.1992, device='cuda:0', grad_fn=<NllLossBackward>), tensor(0.1922, device='cuda:0', grad_fn=<NllLossBackward>), tensor(0.1949, device='cuda:0', grad_fn=<NllLossBackward>), tensor(0.1815, device='cuda:0', grad_fn=<NllLossBackward>)]\n",
            "[tensor(0.2436, device='cuda:0', grad_fn=<NllLossBackward>), tensor(0.2382, device='cuda:0', grad_fn=<NllLossBackward>), tensor(0.2381, device='cuda:0', grad_fn=<NllLossBackward>), tensor(0.2360, device='cuda:0', grad_fn=<NllLossBackward>), tensor(0.2358, device='cuda:0', grad_fn=<NllLossBackward>), tensor(0.2281, device='cuda:0', grad_fn=<NllLossBackward>), tensor(0.2337, device='cuda:0', grad_fn=<NllLossBackward>), tensor(0.2112, device='cuda:0', grad_fn=<NllLossBackward>), tensor(0.2181, device='cuda:0', grad_fn=<NllLossBackward>), tensor(0.2079, device='cuda:0', grad_fn=<NllLossBackward>), tensor(0.2184, device='cuda:0', grad_fn=<NllLossBackward>), tensor(0.2103, device='cuda:0', grad_fn=<NllLossBackward>), tensor(0.2036, device='cuda:0', grad_fn=<NllLossBackward>), tensor(0.1963, device='cuda:0', grad_fn=<NllLossBackward>), tensor(0.2022, device='cuda:0', grad_fn=<NllLossBackward>), tensor(0.1947, device='cuda:0', grad_fn=<NllLossBackward>)]\n",
            "[tensor(0.2427, device='cuda:0', grad_fn=<NllLossBackward>), tensor(0.2390, device='cuda:0', grad_fn=<NllLossBackward>), tensor(0.2363, device='cuda:0', grad_fn=<NllLossBackward>), tensor(0.2350, device='cuda:0', grad_fn=<NllLossBackward>), tensor(0.2359, device='cuda:0', grad_fn=<NllLossBackward>), tensor(0.2288, device='cuda:0', grad_fn=<NllLossBackward>), tensor(0.2292, device='cuda:0', grad_fn=<NllLossBackward>), tensor(0.2163, device='cuda:0', grad_fn=<NllLossBackward>), tensor(0.2093, device='cuda:0', grad_fn=<NllLossBackward>), tensor(0.2083, device='cuda:0', grad_fn=<NllLossBackward>), tensor(0.2160, device='cuda:0', grad_fn=<NllLossBackward>), tensor(0.2136, device='cuda:0', grad_fn=<NllLossBackward>), tensor(0.1992, device='cuda:0', grad_fn=<NllLossBackward>), tensor(0.1922, device='cuda:0', grad_fn=<NllLossBackward>), tensor(0.1949, device='cuda:0', grad_fn=<NllLossBackward>), tensor(0.1815, device='cuda:0', grad_fn=<NllLossBackward>), tensor(0.1894, device='cuda:0', grad_fn=<NllLossBackward>)]\n",
            "[tensor(0.2436, device='cuda:0', grad_fn=<NllLossBackward>), tensor(0.2382, device='cuda:0', grad_fn=<NllLossBackward>), tensor(0.2381, device='cuda:0', grad_fn=<NllLossBackward>), tensor(0.2360, device='cuda:0', grad_fn=<NllLossBackward>), tensor(0.2358, device='cuda:0', grad_fn=<NllLossBackward>), tensor(0.2281, device='cuda:0', grad_fn=<NllLossBackward>), tensor(0.2337, device='cuda:0', grad_fn=<NllLossBackward>), tensor(0.2112, device='cuda:0', grad_fn=<NllLossBackward>), tensor(0.2181, device='cuda:0', grad_fn=<NllLossBackward>), tensor(0.2079, device='cuda:0', grad_fn=<NllLossBackward>), tensor(0.2184, device='cuda:0', grad_fn=<NllLossBackward>), tensor(0.2103, device='cuda:0', grad_fn=<NllLossBackward>), tensor(0.2036, device='cuda:0', grad_fn=<NllLossBackward>), tensor(0.1963, device='cuda:0', grad_fn=<NllLossBackward>), tensor(0.2022, device='cuda:0', grad_fn=<NllLossBackward>), tensor(0.1947, device='cuda:0', grad_fn=<NllLossBackward>), tensor(0.2107, device='cuda:0', grad_fn=<NllLossBackward>)]\n",
            "[tensor(0.2427, device='cuda:0', grad_fn=<NllLossBackward>), tensor(0.2390, device='cuda:0', grad_fn=<NllLossBackward>), tensor(0.2363, device='cuda:0', grad_fn=<NllLossBackward>), tensor(0.2350, device='cuda:0', grad_fn=<NllLossBackward>), tensor(0.2359, device='cuda:0', grad_fn=<NllLossBackward>), tensor(0.2288, device='cuda:0', grad_fn=<NllLossBackward>), tensor(0.2292, device='cuda:0', grad_fn=<NllLossBackward>), tensor(0.2163, device='cuda:0', grad_fn=<NllLossBackward>), tensor(0.2093, device='cuda:0', grad_fn=<NllLossBackward>), tensor(0.2083, device='cuda:0', grad_fn=<NllLossBackward>), tensor(0.2160, device='cuda:0', grad_fn=<NllLossBackward>), tensor(0.2136, device='cuda:0', grad_fn=<NllLossBackward>), tensor(0.1992, device='cuda:0', grad_fn=<NllLossBackward>), tensor(0.1922, device='cuda:0', grad_fn=<NllLossBackward>), tensor(0.1949, device='cuda:0', grad_fn=<NllLossBackward>), tensor(0.1815, device='cuda:0', grad_fn=<NllLossBackward>), tensor(0.1894, device='cuda:0', grad_fn=<NllLossBackward>), tensor(0.1715, device='cuda:0', grad_fn=<NllLossBackward>)]\n",
            "[tensor(0.2436, device='cuda:0', grad_fn=<NllLossBackward>), tensor(0.2382, device='cuda:0', grad_fn=<NllLossBackward>), tensor(0.2381, device='cuda:0', grad_fn=<NllLossBackward>), tensor(0.2360, device='cuda:0', grad_fn=<NllLossBackward>), tensor(0.2358, device='cuda:0', grad_fn=<NllLossBackward>), tensor(0.2281, device='cuda:0', grad_fn=<NllLossBackward>), tensor(0.2337, device='cuda:0', grad_fn=<NllLossBackward>), tensor(0.2112, device='cuda:0', grad_fn=<NllLossBackward>), tensor(0.2181, device='cuda:0', grad_fn=<NllLossBackward>), tensor(0.2079, device='cuda:0', grad_fn=<NllLossBackward>), tensor(0.2184, device='cuda:0', grad_fn=<NllLossBackward>), tensor(0.2103, device='cuda:0', grad_fn=<NllLossBackward>), tensor(0.2036, device='cuda:0', grad_fn=<NllLossBackward>), tensor(0.1963, device='cuda:0', grad_fn=<NllLossBackward>), tensor(0.2022, device='cuda:0', grad_fn=<NllLossBackward>), tensor(0.1947, device='cuda:0', grad_fn=<NllLossBackward>), tensor(0.2107, device='cuda:0', grad_fn=<NllLossBackward>), tensor(0.1821, device='cuda:0', grad_fn=<NllLossBackward>)]\n",
            "[tensor(0.2427, device='cuda:0', grad_fn=<NllLossBackward>), tensor(0.2390, device='cuda:0', grad_fn=<NllLossBackward>), tensor(0.2363, device='cuda:0', grad_fn=<NllLossBackward>), tensor(0.2350, device='cuda:0', grad_fn=<NllLossBackward>), tensor(0.2359, device='cuda:0', grad_fn=<NllLossBackward>), tensor(0.2288, device='cuda:0', grad_fn=<NllLossBackward>), tensor(0.2292, device='cuda:0', grad_fn=<NllLossBackward>), tensor(0.2163, device='cuda:0', grad_fn=<NllLossBackward>), tensor(0.2093, device='cuda:0', grad_fn=<NllLossBackward>), tensor(0.2083, device='cuda:0', grad_fn=<NllLossBackward>), tensor(0.2160, device='cuda:0', grad_fn=<NllLossBackward>), tensor(0.2136, device='cuda:0', grad_fn=<NllLossBackward>), tensor(0.1992, device='cuda:0', grad_fn=<NllLossBackward>), tensor(0.1922, device='cuda:0', grad_fn=<NllLossBackward>), tensor(0.1949, device='cuda:0', grad_fn=<NllLossBackward>), tensor(0.1815, device='cuda:0', grad_fn=<NllLossBackward>), tensor(0.1894, device='cuda:0', grad_fn=<NllLossBackward>), tensor(0.1715, device='cuda:0', grad_fn=<NllLossBackward>), tensor(0.1704, device='cuda:0', grad_fn=<NllLossBackward>)]\n",
            "[tensor(0.2436, device='cuda:0', grad_fn=<NllLossBackward>), tensor(0.2382, device='cuda:0', grad_fn=<NllLossBackward>), tensor(0.2381, device='cuda:0', grad_fn=<NllLossBackward>), tensor(0.2360, device='cuda:0', grad_fn=<NllLossBackward>), tensor(0.2358, device='cuda:0', grad_fn=<NllLossBackward>), tensor(0.2281, device='cuda:0', grad_fn=<NllLossBackward>), tensor(0.2337, device='cuda:0', grad_fn=<NllLossBackward>), tensor(0.2112, device='cuda:0', grad_fn=<NllLossBackward>), tensor(0.2181, device='cuda:0', grad_fn=<NllLossBackward>), tensor(0.2079, device='cuda:0', grad_fn=<NllLossBackward>), tensor(0.2184, device='cuda:0', grad_fn=<NllLossBackward>), tensor(0.2103, device='cuda:0', grad_fn=<NllLossBackward>), tensor(0.2036, device='cuda:0', grad_fn=<NllLossBackward>), tensor(0.1963, device='cuda:0', grad_fn=<NllLossBackward>), tensor(0.2022, device='cuda:0', grad_fn=<NllLossBackward>), tensor(0.1947, device='cuda:0', grad_fn=<NllLossBackward>), tensor(0.2107, device='cuda:0', grad_fn=<NllLossBackward>), tensor(0.1821, device='cuda:0', grad_fn=<NllLossBackward>), tensor(0.1823, device='cuda:0', grad_fn=<NllLossBackward>)]\n",
            "[tensor(0.2427, device='cuda:0', grad_fn=<NllLossBackward>), tensor(0.2390, device='cuda:0', grad_fn=<NllLossBackward>), tensor(0.2363, device='cuda:0', grad_fn=<NllLossBackward>), tensor(0.2350, device='cuda:0', grad_fn=<NllLossBackward>), tensor(0.2359, device='cuda:0', grad_fn=<NllLossBackward>), tensor(0.2288, device='cuda:0', grad_fn=<NllLossBackward>), tensor(0.2292, device='cuda:0', grad_fn=<NllLossBackward>), tensor(0.2163, device='cuda:0', grad_fn=<NllLossBackward>), tensor(0.2093, device='cuda:0', grad_fn=<NllLossBackward>), tensor(0.2083, device='cuda:0', grad_fn=<NllLossBackward>), tensor(0.2160, device='cuda:0', grad_fn=<NllLossBackward>), tensor(0.2136, device='cuda:0', grad_fn=<NllLossBackward>), tensor(0.1992, device='cuda:0', grad_fn=<NllLossBackward>), tensor(0.1922, device='cuda:0', grad_fn=<NllLossBackward>), tensor(0.1949, device='cuda:0', grad_fn=<NllLossBackward>), tensor(0.1815, device='cuda:0', grad_fn=<NllLossBackward>), tensor(0.1894, device='cuda:0', grad_fn=<NllLossBackward>), tensor(0.1715, device='cuda:0', grad_fn=<NllLossBackward>), tensor(0.1704, device='cuda:0', grad_fn=<NllLossBackward>), tensor(0.1795, device='cuda:0', grad_fn=<NllLossBackward>)]\n",
            "[tensor(0.2436, device='cuda:0', grad_fn=<NllLossBackward>), tensor(0.2382, device='cuda:0', grad_fn=<NllLossBackward>), tensor(0.2381, device='cuda:0', grad_fn=<NllLossBackward>), tensor(0.2360, device='cuda:0', grad_fn=<NllLossBackward>), tensor(0.2358, device='cuda:0', grad_fn=<NllLossBackward>), tensor(0.2281, device='cuda:0', grad_fn=<NllLossBackward>), tensor(0.2337, device='cuda:0', grad_fn=<NllLossBackward>), tensor(0.2112, device='cuda:0', grad_fn=<NllLossBackward>), tensor(0.2181, device='cuda:0', grad_fn=<NllLossBackward>), tensor(0.2079, device='cuda:0', grad_fn=<NllLossBackward>), tensor(0.2184, device='cuda:0', grad_fn=<NllLossBackward>), tensor(0.2103, device='cuda:0', grad_fn=<NllLossBackward>), tensor(0.2036, device='cuda:0', grad_fn=<NllLossBackward>), tensor(0.1963, device='cuda:0', grad_fn=<NllLossBackward>), tensor(0.2022, device='cuda:0', grad_fn=<NllLossBackward>), tensor(0.1947, device='cuda:0', grad_fn=<NllLossBackward>), tensor(0.2107, device='cuda:0', grad_fn=<NllLossBackward>), tensor(0.1821, device='cuda:0', grad_fn=<NllLossBackward>), tensor(0.1823, device='cuda:0', grad_fn=<NllLossBackward>), tensor(0.1932, device='cuda:0', grad_fn=<NllLossBackward>)]\n",
            "[tensor(0.2427, device='cuda:0', grad_fn=<NllLossBackward>), tensor(0.2390, device='cuda:0', grad_fn=<NllLossBackward>), tensor(0.2363, device='cuda:0', grad_fn=<NllLossBackward>), tensor(0.2350, device='cuda:0', grad_fn=<NllLossBackward>), tensor(0.2359, device='cuda:0', grad_fn=<NllLossBackward>), tensor(0.2288, device='cuda:0', grad_fn=<NllLossBackward>), tensor(0.2292, device='cuda:0', grad_fn=<NllLossBackward>), tensor(0.2163, device='cuda:0', grad_fn=<NllLossBackward>), tensor(0.2093, device='cuda:0', grad_fn=<NllLossBackward>), tensor(0.2083, device='cuda:0', grad_fn=<NllLossBackward>), tensor(0.2160, device='cuda:0', grad_fn=<NllLossBackward>), tensor(0.2136, device='cuda:0', grad_fn=<NllLossBackward>), tensor(0.1992, device='cuda:0', grad_fn=<NllLossBackward>), tensor(0.1922, device='cuda:0', grad_fn=<NllLossBackward>), tensor(0.1949, device='cuda:0', grad_fn=<NllLossBackward>), tensor(0.1815, device='cuda:0', grad_fn=<NllLossBackward>), tensor(0.1894, device='cuda:0', grad_fn=<NllLossBackward>), tensor(0.1715, device='cuda:0', grad_fn=<NllLossBackward>), tensor(0.1704, device='cuda:0', grad_fn=<NllLossBackward>), tensor(0.1795, device='cuda:0', grad_fn=<NllLossBackward>), tensor(0.1875, device='cuda:0', grad_fn=<NllLossBackward>)]\n",
            "[tensor(0.2436, device='cuda:0', grad_fn=<NllLossBackward>), tensor(0.2382, device='cuda:0', grad_fn=<NllLossBackward>), tensor(0.2381, device='cuda:0', grad_fn=<NllLossBackward>), tensor(0.2360, device='cuda:0', grad_fn=<NllLossBackward>), tensor(0.2358, device='cuda:0', grad_fn=<NllLossBackward>), tensor(0.2281, device='cuda:0', grad_fn=<NllLossBackward>), tensor(0.2337, device='cuda:0', grad_fn=<NllLossBackward>), tensor(0.2112, device='cuda:0', grad_fn=<NllLossBackward>), tensor(0.2181, device='cuda:0', grad_fn=<NllLossBackward>), tensor(0.2079, device='cuda:0', grad_fn=<NllLossBackward>), tensor(0.2184, device='cuda:0', grad_fn=<NllLossBackward>), tensor(0.2103, device='cuda:0', grad_fn=<NllLossBackward>), tensor(0.2036, device='cuda:0', grad_fn=<NllLossBackward>), tensor(0.1963, device='cuda:0', grad_fn=<NllLossBackward>), tensor(0.2022, device='cuda:0', grad_fn=<NllLossBackward>), tensor(0.1947, device='cuda:0', grad_fn=<NllLossBackward>), tensor(0.2107, device='cuda:0', grad_fn=<NllLossBackward>), tensor(0.1821, device='cuda:0', grad_fn=<NllLossBackward>), tensor(0.1823, device='cuda:0', grad_fn=<NllLossBackward>), tensor(0.1932, device='cuda:0', grad_fn=<NllLossBackward>), tensor(0.1986, device='cuda:0', grad_fn=<NllLossBackward>)]\n",
            "[tensor(0.2427, device='cuda:0', grad_fn=<NllLossBackward>), tensor(0.2390, device='cuda:0', grad_fn=<NllLossBackward>), tensor(0.2363, device='cuda:0', grad_fn=<NllLossBackward>), tensor(0.2350, device='cuda:0', grad_fn=<NllLossBackward>), tensor(0.2359, device='cuda:0', grad_fn=<NllLossBackward>), tensor(0.2288, device='cuda:0', grad_fn=<NllLossBackward>), tensor(0.2292, device='cuda:0', grad_fn=<NllLossBackward>), tensor(0.2163, device='cuda:0', grad_fn=<NllLossBackward>), tensor(0.2093, device='cuda:0', grad_fn=<NllLossBackward>), tensor(0.2083, device='cuda:0', grad_fn=<NllLossBackward>), tensor(0.2160, device='cuda:0', grad_fn=<NllLossBackward>), tensor(0.2136, device='cuda:0', grad_fn=<NllLossBackward>), tensor(0.1992, device='cuda:0', grad_fn=<NllLossBackward>), tensor(0.1922, device='cuda:0', grad_fn=<NllLossBackward>), tensor(0.1949, device='cuda:0', grad_fn=<NllLossBackward>), tensor(0.1815, device='cuda:0', grad_fn=<NllLossBackward>), tensor(0.1894, device='cuda:0', grad_fn=<NllLossBackward>), tensor(0.1715, device='cuda:0', grad_fn=<NllLossBackward>), tensor(0.1704, device='cuda:0', grad_fn=<NllLossBackward>), tensor(0.1795, device='cuda:0', grad_fn=<NllLossBackward>), tensor(0.1875, device='cuda:0', grad_fn=<NllLossBackward>), tensor(0.1774, device='cuda:0', grad_fn=<NllLossBackward>)]\n",
            "[tensor(0.2436, device='cuda:0', grad_fn=<NllLossBackward>), tensor(0.2382, device='cuda:0', grad_fn=<NllLossBackward>), tensor(0.2381, device='cuda:0', grad_fn=<NllLossBackward>), tensor(0.2360, device='cuda:0', grad_fn=<NllLossBackward>), tensor(0.2358, device='cuda:0', grad_fn=<NllLossBackward>), tensor(0.2281, device='cuda:0', grad_fn=<NllLossBackward>), tensor(0.2337, device='cuda:0', grad_fn=<NllLossBackward>), tensor(0.2112, device='cuda:0', grad_fn=<NllLossBackward>), tensor(0.2181, device='cuda:0', grad_fn=<NllLossBackward>), tensor(0.2079, device='cuda:0', grad_fn=<NllLossBackward>), tensor(0.2184, device='cuda:0', grad_fn=<NllLossBackward>), tensor(0.2103, device='cuda:0', grad_fn=<NllLossBackward>), tensor(0.2036, device='cuda:0', grad_fn=<NllLossBackward>), tensor(0.1963, device='cuda:0', grad_fn=<NllLossBackward>), tensor(0.2022, device='cuda:0', grad_fn=<NllLossBackward>), tensor(0.1947, device='cuda:0', grad_fn=<NllLossBackward>), tensor(0.2107, device='cuda:0', grad_fn=<NllLossBackward>), tensor(0.1821, device='cuda:0', grad_fn=<NllLossBackward>), tensor(0.1823, device='cuda:0', grad_fn=<NllLossBackward>), tensor(0.1932, device='cuda:0', grad_fn=<NllLossBackward>), tensor(0.1986, device='cuda:0', grad_fn=<NllLossBackward>), tensor(0.1903, device='cuda:0', grad_fn=<NllLossBackward>)]\n",
            "[tensor(0.2427, device='cuda:0', grad_fn=<NllLossBackward>), tensor(0.2390, device='cuda:0', grad_fn=<NllLossBackward>), tensor(0.2363, device='cuda:0', grad_fn=<NllLossBackward>), tensor(0.2350, device='cuda:0', grad_fn=<NllLossBackward>), tensor(0.2359, device='cuda:0', grad_fn=<NllLossBackward>), tensor(0.2288, device='cuda:0', grad_fn=<NllLossBackward>), tensor(0.2292, device='cuda:0', grad_fn=<NllLossBackward>), tensor(0.2163, device='cuda:0', grad_fn=<NllLossBackward>), tensor(0.2093, device='cuda:0', grad_fn=<NllLossBackward>), tensor(0.2083, device='cuda:0', grad_fn=<NllLossBackward>), tensor(0.2160, device='cuda:0', grad_fn=<NllLossBackward>), tensor(0.2136, device='cuda:0', grad_fn=<NllLossBackward>), tensor(0.1992, device='cuda:0', grad_fn=<NllLossBackward>), tensor(0.1922, device='cuda:0', grad_fn=<NllLossBackward>), tensor(0.1949, device='cuda:0', grad_fn=<NllLossBackward>), tensor(0.1815, device='cuda:0', grad_fn=<NllLossBackward>), tensor(0.1894, device='cuda:0', grad_fn=<NllLossBackward>), tensor(0.1715, device='cuda:0', grad_fn=<NllLossBackward>), tensor(0.1704, device='cuda:0', grad_fn=<NllLossBackward>), tensor(0.1795, device='cuda:0', grad_fn=<NllLossBackward>), tensor(0.1875, device='cuda:0', grad_fn=<NllLossBackward>), tensor(0.1774, device='cuda:0', grad_fn=<NllLossBackward>), tensor(0.1792, device='cuda:0', grad_fn=<NllLossBackward>)]\n",
            "[tensor(0.2436, device='cuda:0', grad_fn=<NllLossBackward>), tensor(0.2382, device='cuda:0', grad_fn=<NllLossBackward>), tensor(0.2381, device='cuda:0', grad_fn=<NllLossBackward>), tensor(0.2360, device='cuda:0', grad_fn=<NllLossBackward>), tensor(0.2358, device='cuda:0', grad_fn=<NllLossBackward>), tensor(0.2281, device='cuda:0', grad_fn=<NllLossBackward>), tensor(0.2337, device='cuda:0', grad_fn=<NllLossBackward>), tensor(0.2112, device='cuda:0', grad_fn=<NllLossBackward>), tensor(0.2181, device='cuda:0', grad_fn=<NllLossBackward>), tensor(0.2079, device='cuda:0', grad_fn=<NllLossBackward>), tensor(0.2184, device='cuda:0', grad_fn=<NllLossBackward>), tensor(0.2103, device='cuda:0', grad_fn=<NllLossBackward>), tensor(0.2036, device='cuda:0', grad_fn=<NllLossBackward>), tensor(0.1963, device='cuda:0', grad_fn=<NllLossBackward>), tensor(0.2022, device='cuda:0', grad_fn=<NllLossBackward>), tensor(0.1947, device='cuda:0', grad_fn=<NllLossBackward>), tensor(0.2107, device='cuda:0', grad_fn=<NllLossBackward>), tensor(0.1821, device='cuda:0', grad_fn=<NllLossBackward>), tensor(0.1823, device='cuda:0', grad_fn=<NllLossBackward>), tensor(0.1932, device='cuda:0', grad_fn=<NllLossBackward>), tensor(0.1986, device='cuda:0', grad_fn=<NllLossBackward>), tensor(0.1903, device='cuda:0', grad_fn=<NllLossBackward>), tensor(0.1846, device='cuda:0', grad_fn=<NllLossBackward>)]\n",
            "[tensor(0.2427, device='cuda:0', grad_fn=<NllLossBackward>), tensor(0.2390, device='cuda:0', grad_fn=<NllLossBackward>), tensor(0.2363, device='cuda:0', grad_fn=<NllLossBackward>), tensor(0.2350, device='cuda:0', grad_fn=<NllLossBackward>), tensor(0.2359, device='cuda:0', grad_fn=<NllLossBackward>), tensor(0.2288, device='cuda:0', grad_fn=<NllLossBackward>), tensor(0.2292, device='cuda:0', grad_fn=<NllLossBackward>), tensor(0.2163, device='cuda:0', grad_fn=<NllLossBackward>), tensor(0.2093, device='cuda:0', grad_fn=<NllLossBackward>), tensor(0.2083, device='cuda:0', grad_fn=<NllLossBackward>), tensor(0.2160, device='cuda:0', grad_fn=<NllLossBackward>), tensor(0.2136, device='cuda:0', grad_fn=<NllLossBackward>), tensor(0.1992, device='cuda:0', grad_fn=<NllLossBackward>), tensor(0.1922, device='cuda:0', grad_fn=<NllLossBackward>), tensor(0.1949, device='cuda:0', grad_fn=<NllLossBackward>), tensor(0.1815, device='cuda:0', grad_fn=<NllLossBackward>), tensor(0.1894, device='cuda:0', grad_fn=<NllLossBackward>), tensor(0.1715, device='cuda:0', grad_fn=<NllLossBackward>), tensor(0.1704, device='cuda:0', grad_fn=<NllLossBackward>), tensor(0.1795, device='cuda:0', grad_fn=<NllLossBackward>), tensor(0.1875, device='cuda:0', grad_fn=<NllLossBackward>), tensor(0.1774, device='cuda:0', grad_fn=<NllLossBackward>), tensor(0.1792, device='cuda:0', grad_fn=<NllLossBackward>), tensor(0.1733, device='cuda:0', grad_fn=<NllLossBackward>)]\n",
            "[tensor(0.2436, device='cuda:0', grad_fn=<NllLossBackward>), tensor(0.2382, device='cuda:0', grad_fn=<NllLossBackward>), tensor(0.2381, device='cuda:0', grad_fn=<NllLossBackward>), tensor(0.2360, device='cuda:0', grad_fn=<NllLossBackward>), tensor(0.2358, device='cuda:0', grad_fn=<NllLossBackward>), tensor(0.2281, device='cuda:0', grad_fn=<NllLossBackward>), tensor(0.2337, device='cuda:0', grad_fn=<NllLossBackward>), tensor(0.2112, device='cuda:0', grad_fn=<NllLossBackward>), tensor(0.2181, device='cuda:0', grad_fn=<NllLossBackward>), tensor(0.2079, device='cuda:0', grad_fn=<NllLossBackward>), tensor(0.2184, device='cuda:0', grad_fn=<NllLossBackward>), tensor(0.2103, device='cuda:0', grad_fn=<NllLossBackward>), tensor(0.2036, device='cuda:0', grad_fn=<NllLossBackward>), tensor(0.1963, device='cuda:0', grad_fn=<NllLossBackward>), tensor(0.2022, device='cuda:0', grad_fn=<NllLossBackward>), tensor(0.1947, device='cuda:0', grad_fn=<NllLossBackward>), tensor(0.2107, device='cuda:0', grad_fn=<NllLossBackward>), tensor(0.1821, device='cuda:0', grad_fn=<NllLossBackward>), tensor(0.1823, device='cuda:0', grad_fn=<NllLossBackward>), tensor(0.1932, device='cuda:0', grad_fn=<NllLossBackward>), tensor(0.1986, device='cuda:0', grad_fn=<NllLossBackward>), tensor(0.1903, device='cuda:0', grad_fn=<NllLossBackward>), tensor(0.1846, device='cuda:0', grad_fn=<NllLossBackward>), tensor(0.1828, device='cuda:0', grad_fn=<NllLossBackward>)]\n",
            "[tensor(0.2427, device='cuda:0', grad_fn=<NllLossBackward>), tensor(0.2390, device='cuda:0', grad_fn=<NllLossBackward>), tensor(0.2363, device='cuda:0', grad_fn=<NllLossBackward>), tensor(0.2350, device='cuda:0', grad_fn=<NllLossBackward>), tensor(0.2359, device='cuda:0', grad_fn=<NllLossBackward>), tensor(0.2288, device='cuda:0', grad_fn=<NllLossBackward>), tensor(0.2292, device='cuda:0', grad_fn=<NllLossBackward>), tensor(0.2163, device='cuda:0', grad_fn=<NllLossBackward>), tensor(0.2093, device='cuda:0', grad_fn=<NllLossBackward>), tensor(0.2083, device='cuda:0', grad_fn=<NllLossBackward>), tensor(0.2160, device='cuda:0', grad_fn=<NllLossBackward>), tensor(0.2136, device='cuda:0', grad_fn=<NllLossBackward>), tensor(0.1992, device='cuda:0', grad_fn=<NllLossBackward>), tensor(0.1922, device='cuda:0', grad_fn=<NllLossBackward>), tensor(0.1949, device='cuda:0', grad_fn=<NllLossBackward>), tensor(0.1815, device='cuda:0', grad_fn=<NllLossBackward>), tensor(0.1894, device='cuda:0', grad_fn=<NllLossBackward>), tensor(0.1715, device='cuda:0', grad_fn=<NllLossBackward>), tensor(0.1704, device='cuda:0', grad_fn=<NllLossBackward>), tensor(0.1795, device='cuda:0', grad_fn=<NllLossBackward>), tensor(0.1875, device='cuda:0', grad_fn=<NllLossBackward>), tensor(0.1774, device='cuda:0', grad_fn=<NllLossBackward>), tensor(0.1792, device='cuda:0', grad_fn=<NllLossBackward>), tensor(0.1733, device='cuda:0', grad_fn=<NllLossBackward>), tensor(0.1712, device='cuda:0', grad_fn=<NllLossBackward>)]\n",
            "[tensor(0.2436, device='cuda:0', grad_fn=<NllLossBackward>), tensor(0.2382, device='cuda:0', grad_fn=<NllLossBackward>), tensor(0.2381, device='cuda:0', grad_fn=<NllLossBackward>), tensor(0.2360, device='cuda:0', grad_fn=<NllLossBackward>), tensor(0.2358, device='cuda:0', grad_fn=<NllLossBackward>), tensor(0.2281, device='cuda:0', grad_fn=<NllLossBackward>), tensor(0.2337, device='cuda:0', grad_fn=<NllLossBackward>), tensor(0.2112, device='cuda:0', grad_fn=<NllLossBackward>), tensor(0.2181, device='cuda:0', grad_fn=<NllLossBackward>), tensor(0.2079, device='cuda:0', grad_fn=<NllLossBackward>), tensor(0.2184, device='cuda:0', grad_fn=<NllLossBackward>), tensor(0.2103, device='cuda:0', grad_fn=<NllLossBackward>), tensor(0.2036, device='cuda:0', grad_fn=<NllLossBackward>), tensor(0.1963, device='cuda:0', grad_fn=<NllLossBackward>), tensor(0.2022, device='cuda:0', grad_fn=<NllLossBackward>), tensor(0.1947, device='cuda:0', grad_fn=<NllLossBackward>), tensor(0.2107, device='cuda:0', grad_fn=<NllLossBackward>), tensor(0.1821, device='cuda:0', grad_fn=<NllLossBackward>), tensor(0.1823, device='cuda:0', grad_fn=<NllLossBackward>), tensor(0.1932, device='cuda:0', grad_fn=<NllLossBackward>), tensor(0.1986, device='cuda:0', grad_fn=<NllLossBackward>), tensor(0.1903, device='cuda:0', grad_fn=<NllLossBackward>), tensor(0.1846, device='cuda:0', grad_fn=<NllLossBackward>), tensor(0.1828, device='cuda:0', grad_fn=<NllLossBackward>), tensor(0.1846, device='cuda:0', grad_fn=<NllLossBackward>)]\n",
            "[tensor(0.2427, device='cuda:0', grad_fn=<NllLossBackward>), tensor(0.2390, device='cuda:0', grad_fn=<NllLossBackward>), tensor(0.2363, device='cuda:0', grad_fn=<NllLossBackward>), tensor(0.2350, device='cuda:0', grad_fn=<NllLossBackward>), tensor(0.2359, device='cuda:0', grad_fn=<NllLossBackward>), tensor(0.2288, device='cuda:0', grad_fn=<NllLossBackward>), tensor(0.2292, device='cuda:0', grad_fn=<NllLossBackward>), tensor(0.2163, device='cuda:0', grad_fn=<NllLossBackward>), tensor(0.2093, device='cuda:0', grad_fn=<NllLossBackward>), tensor(0.2083, device='cuda:0', grad_fn=<NllLossBackward>), tensor(0.2160, device='cuda:0', grad_fn=<NllLossBackward>), tensor(0.2136, device='cuda:0', grad_fn=<NllLossBackward>), tensor(0.1992, device='cuda:0', grad_fn=<NllLossBackward>), tensor(0.1922, device='cuda:0', grad_fn=<NllLossBackward>), tensor(0.1949, device='cuda:0', grad_fn=<NllLossBackward>), tensor(0.1815, device='cuda:0', grad_fn=<NllLossBackward>), tensor(0.1894, device='cuda:0', grad_fn=<NllLossBackward>), tensor(0.1715, device='cuda:0', grad_fn=<NllLossBackward>), tensor(0.1704, device='cuda:0', grad_fn=<NllLossBackward>), tensor(0.1795, device='cuda:0', grad_fn=<NllLossBackward>), tensor(0.1875, device='cuda:0', grad_fn=<NllLossBackward>), tensor(0.1774, device='cuda:0', grad_fn=<NllLossBackward>), tensor(0.1792, device='cuda:0', grad_fn=<NllLossBackward>), tensor(0.1733, device='cuda:0', grad_fn=<NllLossBackward>), tensor(0.1712, device='cuda:0', grad_fn=<NllLossBackward>), tensor(0.1719, device='cuda:0', grad_fn=<NllLossBackward>)]\n",
            "[tensor(0.2436, device='cuda:0', grad_fn=<NllLossBackward>), tensor(0.2382, device='cuda:0', grad_fn=<NllLossBackward>), tensor(0.2381, device='cuda:0', grad_fn=<NllLossBackward>), tensor(0.2360, device='cuda:0', grad_fn=<NllLossBackward>), tensor(0.2358, device='cuda:0', grad_fn=<NllLossBackward>), tensor(0.2281, device='cuda:0', grad_fn=<NllLossBackward>), tensor(0.2337, device='cuda:0', grad_fn=<NllLossBackward>), tensor(0.2112, device='cuda:0', grad_fn=<NllLossBackward>), tensor(0.2181, device='cuda:0', grad_fn=<NllLossBackward>), tensor(0.2079, device='cuda:0', grad_fn=<NllLossBackward>), tensor(0.2184, device='cuda:0', grad_fn=<NllLossBackward>), tensor(0.2103, device='cuda:0', grad_fn=<NllLossBackward>), tensor(0.2036, device='cuda:0', grad_fn=<NllLossBackward>), tensor(0.1963, device='cuda:0', grad_fn=<NllLossBackward>), tensor(0.2022, device='cuda:0', grad_fn=<NllLossBackward>), tensor(0.1947, device='cuda:0', grad_fn=<NllLossBackward>), tensor(0.2107, device='cuda:0', grad_fn=<NllLossBackward>), tensor(0.1821, device='cuda:0', grad_fn=<NllLossBackward>), tensor(0.1823, device='cuda:0', grad_fn=<NllLossBackward>), tensor(0.1932, device='cuda:0', grad_fn=<NllLossBackward>), tensor(0.1986, device='cuda:0', grad_fn=<NllLossBackward>), tensor(0.1903, device='cuda:0', grad_fn=<NllLossBackward>), tensor(0.1846, device='cuda:0', grad_fn=<NllLossBackward>), tensor(0.1828, device='cuda:0', grad_fn=<NllLossBackward>), tensor(0.1846, device='cuda:0', grad_fn=<NllLossBackward>), tensor(0.1853, device='cuda:0', grad_fn=<NllLossBackward>)]\n"
          ],
          "name": "stdout"
        },
        {
          "output_type": "error",
          "ename": "KeyboardInterrupt",
          "evalue": "ignored",
          "traceback": [
            "\u001b[0;31m---------------------------------------------------------------------------\u001b[0m",
            "\u001b[0;31mKeyboardInterrupt\u001b[0m                         Traceback (most recent call last)",
            "\u001b[0;32m<ipython-input-15-e1d96eebb947>\u001b[0m in \u001b[0;36m<module>\u001b[0;34m()\u001b[0m\n\u001b[1;32m     24\u001b[0m \u001b[0;34m\u001b[0m\u001b[0m\n\u001b[1;32m     25\u001b[0m         \u001b[0mloss_value\u001b[0m \u001b[0;34m=\u001b[0m \u001b[0mloss\u001b[0m\u001b[0;34m(\u001b[0m\u001b[0mpreds\u001b[0m\u001b[0;34m,\u001b[0m \u001b[0my_batch\u001b[0m\u001b[0;34m)\u001b[0m\u001b[0;34m\u001b[0m\u001b[0;34m\u001b[0m\u001b[0m\n\u001b[0;32m---> 26\u001b[0;31m         \u001b[0mloss_value\u001b[0m\u001b[0;34m.\u001b[0m\u001b[0mbackward\u001b[0m\u001b[0;34m(\u001b[0m\u001b[0;34m)\u001b[0m\u001b[0;34m\u001b[0m\u001b[0;34m\u001b[0m\u001b[0m\n\u001b[0m\u001b[1;32m     27\u001b[0m \u001b[0;34m\u001b[0m\u001b[0m\n\u001b[1;32m     28\u001b[0m         \u001b[0moptimizer\u001b[0m\u001b[0;34m.\u001b[0m\u001b[0mstep\u001b[0m\u001b[0;34m(\u001b[0m\u001b[0;34m)\u001b[0m\u001b[0;34m\u001b[0m\u001b[0;34m\u001b[0m\u001b[0m\n",
            "\u001b[0;32m/usr/local/lib/python3.6/dist-packages/torch/tensor.py\u001b[0m in \u001b[0;36mbackward\u001b[0;34m(self, gradient, retain_graph, create_graph)\u001b[0m\n\u001b[1;32m    193\u001b[0m                 \u001b[0mproducts\u001b[0m\u001b[0;34m.\u001b[0m \u001b[0mDefaults\u001b[0m \u001b[0mto\u001b[0m\u001b[0;31m \u001b[0m\u001b[0;31m`\u001b[0m\u001b[0;31m`\u001b[0m\u001b[0;32mFalse\u001b[0m\u001b[0;31m`\u001b[0m\u001b[0;31m`\u001b[0m\u001b[0;34m.\u001b[0m\u001b[0;34m\u001b[0m\u001b[0;34m\u001b[0m\u001b[0m\n\u001b[1;32m    194\u001b[0m         \"\"\"\n\u001b[0;32m--> 195\u001b[0;31m         \u001b[0mtorch\u001b[0m\u001b[0;34m.\u001b[0m\u001b[0mautograd\u001b[0m\u001b[0;34m.\u001b[0m\u001b[0mbackward\u001b[0m\u001b[0;34m(\u001b[0m\u001b[0mself\u001b[0m\u001b[0;34m,\u001b[0m \u001b[0mgradient\u001b[0m\u001b[0;34m,\u001b[0m \u001b[0mretain_graph\u001b[0m\u001b[0;34m,\u001b[0m \u001b[0mcreate_graph\u001b[0m\u001b[0;34m)\u001b[0m\u001b[0;34m\u001b[0m\u001b[0;34m\u001b[0m\u001b[0m\n\u001b[0m\u001b[1;32m    196\u001b[0m \u001b[0;34m\u001b[0m\u001b[0m\n\u001b[1;32m    197\u001b[0m     \u001b[0;32mdef\u001b[0m \u001b[0mregister_hook\u001b[0m\u001b[0;34m(\u001b[0m\u001b[0mself\u001b[0m\u001b[0;34m,\u001b[0m \u001b[0mhook\u001b[0m\u001b[0;34m)\u001b[0m\u001b[0;34m:\u001b[0m\u001b[0;34m\u001b[0m\u001b[0;34m\u001b[0m\u001b[0m\n",
            "\u001b[0;32m/usr/local/lib/python3.6/dist-packages/torch/autograd/__init__.py\u001b[0m in \u001b[0;36mbackward\u001b[0;34m(tensors, grad_tensors, retain_graph, create_graph, grad_variables)\u001b[0m\n\u001b[1;32m     97\u001b[0m     Variable._execution_engine.run_backward(\n\u001b[1;32m     98\u001b[0m         \u001b[0mtensors\u001b[0m\u001b[0;34m,\u001b[0m \u001b[0mgrad_tensors\u001b[0m\u001b[0;34m,\u001b[0m \u001b[0mretain_graph\u001b[0m\u001b[0;34m,\u001b[0m \u001b[0mcreate_graph\u001b[0m\u001b[0;34m,\u001b[0m\u001b[0;34m\u001b[0m\u001b[0;34m\u001b[0m\u001b[0m\n\u001b[0;32m---> 99\u001b[0;31m         allow_unreachable=True)  # allow_unreachable flag\n\u001b[0m\u001b[1;32m    100\u001b[0m \u001b[0;34m\u001b[0m\u001b[0m\n\u001b[1;32m    101\u001b[0m \u001b[0;34m\u001b[0m\u001b[0m\n",
            "\u001b[0;31mKeyboardInterrupt\u001b[0m: "
          ]
        }
      ]
    },
    {
      "cell_type": "code",
      "metadata": {
        "id": "GYqEjBtbEA8r",
        "colab_type": "code",
        "outputId": "8275a647-efa1-40a1-ac1d-06a7ce263429",
        "colab": {
          "base_uri": "https://localhost:8080/",
          "height": 282
        }
      },
      "source": [
        "import matplotlib.pyplot as plt\n",
        "plt.plot(test_loss_history)\n",
        "plt.plot(train_loss_history)"
      ],
      "execution_count": 18,
      "outputs": [
        {
          "output_type": "execute_result",
          "data": {
            "text/plain": [
              "[<matplotlib.lines.Line2D at 0x7f3fd043bd30>]"
            ]
          },
          "metadata": {
            "tags": []
          },
          "execution_count": 18
        },
        {
          "output_type": "display_data",
          "data": {
            "image/png": "[encoded data removed]",
            "text/plain": [
              "<Figure size 432x288 with 1 Axes>"
            ]
          },
          "metadata": {
            "tags": []
          }
        }
      ]
    },
    {
      "cell_type": "code",
      "metadata": {
        "colab_type": "code",
        "id": "xitplqMNk_Hc",
        "outputId": "ed4f60d2-878d-4056-c438-352dac39a112",
        "colab": {
          "height": 420
        }
      },
      "source": [
        "#@title Introducing Colaboratory { display-mode: \"form\" }\n",
        "#@markdown This 3-minute video gives an overview of the key features of Colaboratory:\n",
        "from IPython.display import YouTubeVideo\n",
        "YouTubeVideo('inN8seMm7UI', width=600, height=400)"
      ],
      "execution_count": 0,
      "outputs": [
        {
          "output_type": "execute_result",
          "data": {
            "text/html": [
              "\n",
              "        <iframe\n",
              "            width=\"600\"\n",
              "            height=\"400\"\n",
              "            src=\"https://www.youtube.com/embed/inN8seMm7UI\"\n",
              "            frameborder=\"0\"\n",
              "            allowfullscreen\n",
              "        ></iframe>\n",
              "        "
            ],
            "text/plain": [
              "<IPython.lib.display.YouTubeVideo at 0x7f956e9dda50>"
            ]
          },
          "metadata": {
            "tags": []
          },
          "execution_count": 0
        }
      ]
    },
    {
      "cell_type": "markdown",
      "metadata": {
        "colab_type": "text",
        "id": "GJBs_flRovLc"
      },
      "source": [
        "## Getting Started\n",
        "\n",
        "The document you are reading is a  [Jupyter notebook](https://jupyter.org/), hosted in Colaboratory. It is not a static page, but an interactive environment that lets you write and execute code in Python and other languages.\n",
        "\n",
        "For example, here is a **code cell** with a short Python script that computes a value, stores it in a variable, and prints the result:"
      ]
    },
    {
      "cell_type": "code",
      "metadata": {
        "colab_type": "code",
        "id": "gJr_9dXGpJ05",
        "outputId": "5626194c-e802-4293-942d-2908885c3c1f",
        "colab": {
          "height": 35
        }
      },
      "source": [
        "seconds_in_a_day = 24 * 60 * 60\n",
        "seconds_in_a_day"
      ],
      "execution_count": 0,
      "outputs": [
        {
          "output_type": "execute_result",
          "data": {
            "text/plain": [
              "86400"
            ]
          },
          "metadata": {
            "tags": []
          },
          "execution_count": 0
        }
      ]
    },
    {
      "cell_type": "markdown",
      "metadata": {
        "colab_type": "text",
        "id": "2fhs6GZ4qFMx"
      },
      "source": [
        "To execute the code in the above cell, select it with a click and then either press the play button to the left of the code, or use the keyboard shortcut \"Command/Ctrl+Enter\".\n",
        "\n",
        "All cells modify the same global state, so variables that you define by executing a cell can be used in other cells:"
      ]
    },
    {
      "cell_type": "code",
      "metadata": {
        "colab_type": "code",
        "id": "-gE-Ez1qtyIA",
        "outputId": "8d2e4259-4682-4e19-b683-7b9087f28820",
        "colab": {
          "height": 35
        }
      },
      "source": [
        "seconds_in_a_week = 7 * seconds_in_a_day\n",
        "seconds_in_a_week"
      ],
      "execution_count": 0,
      "outputs": [
        {
          "output_type": "execute_result",
          "data": {
            "text/plain": [
              "604800"
            ]
          },
          "metadata": {
            "tags": []
          },
          "execution_count": 0
        }
      ]
    },
    {
      "cell_type": "markdown",
      "metadata": {
        "colab_type": "text",
        "id": "lSrWNr3MuFUS"
      },
      "source": [
        "For more information about working with Colaboratory notebooks, see [Overview of Colaboratory](/notebooks/basic_features_overview.ipynb).\n"
      ]
    },
    {
      "cell_type": "markdown",
      "metadata": {
        "colab_type": "text",
        "id": "-Rh3-Vt9Nev9"
      },
      "source": [
        "## More Resources\n",
        "\n",
        "Learn how to make the most of Python, Jupyter, Colaboratory, and related tools with these resources:\n",
        "\n",
        "### Working with Notebooks in Colaboratory\n",
        "- [Overview of Colaboratory](/notebooks/basic_features_overview.ipynb)\n",
        "- [Guide to Markdown](/notebooks/markdown_guide.ipynb)\n",
        "- [Importing libraries and installing dependencies](/notebooks/snippets/importing_libraries.ipynb)\n",
        "- [Saving and loading notebooks in GitHub](https://colab.research.google.com/github/googlecolab/colabtools/blob/master/notebooks/colab-github-demo.ipynb)\n",
        "- [Interactive forms](/notebooks/forms.ipynb)\n",
        "- [Interactive widgets](/notebooks/widgets.ipynb)\n",
        "- <img src=\"/img/new.png\" height=\"20px\" align=\"left\" hspace=\"4px\" alt=\"New\"></img>\n",
        " [TensorFlow 2 in Colab](/notebooks/tensorflow_version.ipynb)\n",
        "\n",
        "### Working with Data\n",
        "- [Loading data: Drive, Sheets, and Google Cloud Storage](/notebooks/io.ipynb) \n",
        "- [Charts: visualizing data](/notebooks/charts.ipynb)\n",
        "- [Getting started with BigQuery](/notebooks/bigquery.ipynb)\n",
        "\n",
        "### Machine Learning Crash Course\n",
        "These are a few of the notebooks from Google's online Machine Learning course. See the [full course website](https://developers.google.com/machine-learning/crash-course/) for more.\n",
        "- [Intro to Pandas](/notebooks/mlcc/intro_to_pandas.ipynb)\n",
        "- [Tensorflow concepts](/notebooks/mlcc/tensorflow_programming_concepts.ipynb)\n",
        "- [First steps with TensorFlow](/notebooks/mlcc/first_steps_with_tensor_flow.ipynb)\n",
        "- [Intro to neural nets](/notebooks/mlcc/intro_to_neural_nets.ipynb)\n",
        "- [Intro to sparse data and embeddings](/notebooks/mlcc/intro_to_sparse_data_and_embeddings.ipynb)\n",
        "\n",
        "### Using Accelerated Hardware\n",
        "- [TensorFlow with GPUs](/notebooks/gpu.ipynb)\n",
        "- [TensorFlow with TPUs](/notebooks/tpu.ipynb)"
      ]
    },
    {
      "cell_type": "markdown",
      "metadata": {
        "colab_type": "text",
        "id": "P-H6Lw1vyNNd"
      },
      "source": [
        "## Machine Learning Examples: Seedbank\n",
        "\n",
        "To see end-to-end examples of the interactive machine learning analyses that Colaboratory makes possible, check out the [Seedbank](https://research.google.com/seedbank/) project.\n",
        "\n",
        "A few featured examples:\n",
        "\n",
        "- [Neural Style Transfer](https://research.google.com/seedbank/seed/neural_style_transfer_with_tfkeras): Use deep learning to transfer style between images.\n",
        "- [EZ NSynth](https://research.google.com/seedbank/seed/ez_nsynth): Synthesize audio with WaveNet auto-encoders.\n",
        "- [Fashion MNIST with Keras and TPUs](https://research.google.com/seedbank/seed/fashion_mnist_with_keras_and_tpus): Classify fashion-related images with deep learning.\n",
        "- [DeepDream](https://research.google.com/seedbank/seed/deepdream): Produce DeepDream images from your own photos.\n",
        "- [Convolutional VAE](https://research.google.com/seedbank/seed/convolutional_vae): Create a generative model of handwritten digits."
      ]
    }
  ]
}