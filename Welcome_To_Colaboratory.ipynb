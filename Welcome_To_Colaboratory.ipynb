{
  "nbformat": 4,
  "nbformat_minor": 0,
  "metadata": {
    "colab": {
      "name": "Welcome To Colaboratory",
      "provenance": [],
      "collapsed_sections": [],
      "include_colab_link": true
    },
    "kernelspec": {
      "name": "python3",
      "display_name": "Python 3"
    },
    "accelerator": "GPU"
  },
  "cells": [
    {
      "cell_type": "markdown",
      "metadata": {
        "id": "view-in-github",
        "colab_type": "text"
      },
      "source": [
        "<a href=\"https://colab.research.google.com/github/LyubovZadiranova/ZadiranovaLA_ML/blob/master/Welcome_To_Colaboratory.ipynb\" target=\"_parent\"><img src=\"https://colab.research.google.com/assets/colab-badge.svg\" alt=\"Open In Colab\"/></a>"
      ]
    },
    {
      "cell_type": "markdown",
      "metadata": {
        "colab_type": "text",
        "id": "5fCEDCU_qrC0"
      },
      "source": [
        "<p><img alt=\"Colaboratory logo\" height=\"45px\" src=\"/img/colab_favicon.ico\" align=\"left\" hspace=\"10px\" vspace=\"0px\"></p>\n",
        "\n",
        "<h1>Welcome to Colaboratory!</h1>\n",
        "\n",
        "\n",
        "Colaboratory is a free Jupyter notebook environment that requires no setup and runs entirely in the cloud.\n",
        "\n",
        "With Colaboratory you can write and execute code, save and share your analyses, and access powerful computing resources, all for free from your browser."
      ]
    },
    {
      "cell_type": "code",
      "metadata": {
        "id": "We6IigYzu4hd",
        "colab_type": "code",
        "colab": {}
      },
      "source": [
        "import torch\n",
        "import random\n",
        "import numpy as np\n",
        "\n",
        "random.seed(0)\n",
        "np.random.seed(0)\n",
        "torch.manual_seed(0)\n",
        "torch.cuda.manual_seed(0)\n",
        "torch.backends.cudnn.deterministic = True # может замедлить вычисления на GPU"
      ],
      "execution_count": 0,
      "outputs": []
    },
    {
      "cell_type": "code",
      "metadata": {
        "id": "lF5fqOxuvDTu",
        "colab_type": "code",
        "colab": {}
      },
      "source": [
        "import torchvision.datasets\n",
        "MNIST_train = torchvision.datasets.MNIST('./', download=True, train=True)\n",
        "MNIST_test = torchvision.datasets.MNIST('./', download=True, train=False)"
      ],
      "execution_count": 0,
      "outputs": []
    },
    {
      "cell_type": "code",
      "metadata": {
        "id": "t_qHIKRmvJ1C",
        "colab_type": "code",
        "outputId": "12bf5faf-c36b-42b6-830b-ce448f19bc9c",
        "colab": {
          "base_uri": "https://localhost:8080/",
          "height": 153
        }
      },
      "source": [
        "X_train = MNIST_train.train_data\n",
        "y_train = MNIST_train.train_labels\n",
        "X_test = MNIST_test.test_data\n",
        "y_test = MNIST_test.test_labels"
      ],
      "execution_count": 22,
      "outputs": [
        {
          "output_type": "stream",
          "text": [
            "/usr/local/lib/python3.6/dist-packages/torchvision/datasets/mnist.py:53: UserWarning: train_data has been renamed data\n",
            "  warnings.warn(\"train_data has been renamed data\")\n",
            "/usr/local/lib/python3.6/dist-packages/torchvision/datasets/mnist.py:43: UserWarning: train_labels has been renamed targets\n",
            "  warnings.warn(\"train_labels has been renamed targets\")\n",
            "/usr/local/lib/python3.6/dist-packages/torchvision/datasets/mnist.py:58: UserWarning: test_data has been renamed data\n",
            "  warnings.warn(\"test_data has been renamed data\")\n",
            "/usr/local/lib/python3.6/dist-packages/torchvision/datasets/mnist.py:48: UserWarning: test_labels has been renamed targets\n",
            "  warnings.warn(\"test_labels has been renamed targets\")\n"
          ],
          "name": "stderr"
        }
      ]
    },
    {
      "cell_type": "code",
      "metadata": {
        "id": "0TlwUJEZvNN-",
        "colab_type": "code",
        "colab": {}
      },
      "source": [
        "X_train = X_train.float()\n",
        "X_test = X_test.float()"
      ],
      "execution_count": 0,
      "outputs": []
    },
    {
      "cell_type": "code",
      "metadata": {
        "id": "Yx7uF44pvRdf",
        "colab_type": "code",
        "colab": {}
      },
      "source": [
        "X_train = X_train.reshape([-1, 28 * 28])\n",
        "X_test = X_test.reshape([-1, 28 * 28])"
      ],
      "execution_count": 0,
      "outputs": []
    },
    {
      "cell_type": "code",
      "metadata": {
        "id": "CoKniQkgvXkK",
        "colab_type": "code",
        "colab": {}
      },
      "source": [
        "class MNISTNet(torch.nn.Module):\n",
        "    def __init__(self, n_hidden_neurons):\n",
        "        super(MNISTNet, self).__init__()\n",
        "        self.fc1 = torch.nn.Linear(28 * 28, n_hidden_neurons)\n",
        "        self.ac1 = torch.nn.Sigmoid()\n",
        "        self.fc2 = torch.nn.Linear(n_hidden_neurons, 10) # 10 Классов\n",
        "    \n",
        "    def forward(self, x):\n",
        "        x = self.fc1(x)\n",
        "        x = self.ac1(x)\n",
        "        x = self.fc2(x)\n",
        "        return x\n",
        "    \n",
        "mnist_net = MNISTNet(100)"
      ],
      "execution_count": 0,
      "outputs": []
    },
    {
      "cell_type": "code",
      "metadata": {
        "id": "1IG2W779v84u",
        "colab_type": "code",
        "outputId": "b593c6de-8590-4f77-c8fd-2444e043b93c",
        "colab": {
          "base_uri": "https://localhost:8080/",
          "height": 34
        }
      },
      "source": [
        "torch.cuda.is_available()"
      ],
      "execution_count": 26,
      "outputs": [
        {
          "output_type": "execute_result",
          "data": {
            "text/plain": [
              "True"
            ]
          },
          "metadata": {
            "tags": []
          },
          "execution_count": 26
        }
      ]
    },
    {
      "cell_type": "code",
      "metadata": {
        "id": "cxRrb30dvoMh",
        "colab_type": "code",
        "colab": {}
      },
      "source": [
        "device = torch.device('cuda:0' if torch.cuda.is_available() else 'cpu')\n",
        "mnist_net = mnist_net.to(device)\n"
      ],
      "execution_count": 0,
      "outputs": []
    },
    {
      "cell_type": "code",
      "metadata": {
        "id": "sy3mdWJ-vbQ0",
        "colab_type": "code",
        "colab": {}
      },
      "source": [
        "loss = torch.nn.CrossEntropyLoss()\n",
        "optimizer = torch.optim.Adam(mnist_net.parameters(), lr=1.0e-3)"
      ],
      "execution_count": 0,
      "outputs": []
    },
    {
      "cell_type": "code",
      "metadata": {
        "id": "KmKVhcyWvg-P",
        "colab_type": "code",
        "outputId": "e944fde9-e69a-4e6c-e784-d68e1cb63a2e",
        "colab": {
          "base_uri": "https://localhost:8080/",
          "height": 231
        }
      },
      "source": [
        "batch_size = 100\n",
        "\n",
        "test_accuracy_history = []\n",
        "test_loss_history = []\n",
        "\n",
        "X_test = X_test.to(device)\n",
        "y_test = y_test.to(device)\n",
        "\n",
        "for epoch in range(10000):\n",
        "    order = np.random.permutation(len(X_train)) # перемешиваем эл-ты\n",
        "    \n",
        "    for start_index in range(0, len(X_train), batch_size):\n",
        "        optimizer.zero_grad()\n",
        "        \n",
        "        batch_indexes = order[start_index:start_index+batch_size]\n",
        "        \n",
        "        X_batch = X_train[batch_indexes].to(device)\n",
        "        y_batch = y_train[batch_indexes].to(device)\n",
        "        \n",
        "        preds = mnist_net.forward(X_batch) \n",
        "        \n",
        "        loss_value = loss(preds, y_batch)\n",
        "        loss_value.backward()\n",
        "        \n",
        "        optimizer.step()\n",
        "\n",
        "    test_preds = mnist_net.forward(X_test)\n",
        "    test_loss_history.append(loss(test_preds, y_test))\n",
        "    \n",
        "    accuracy = (test_preds.argmax(dim=1) == y_test).float().mean()\n",
        "    test_accuracy_history.append(accuracy)\n",
        "    # print(accuracy)"
      ],
      "execution_count": 14,
      "outputs": [
        {
          "output_type": "error",
          "ename": "KeyboardInterrupt",
          "evalue": "ignored",
          "traceback": [
            "\u001b[0;31m---------------------------------------------------------------------------\u001b[0m",
            "\u001b[0;31mKeyboardInterrupt\u001b[0m                         Traceback (most recent call last)",
            "\u001b[0;32m<ipython-input-14-93159255bb73>\u001b[0m in \u001b[0;36m<module>\u001b[0;34m()\u001b[0m\n\u001b[1;32m     15\u001b[0m         \u001b[0mbatch_indexes\u001b[0m \u001b[0;34m=\u001b[0m \u001b[0morder\u001b[0m\u001b[0;34m[\u001b[0m\u001b[0mstart_index\u001b[0m\u001b[0;34m:\u001b[0m\u001b[0mstart_index\u001b[0m\u001b[0;34m+\u001b[0m\u001b[0mbatch_size\u001b[0m\u001b[0;34m]\u001b[0m\u001b[0;34m\u001b[0m\u001b[0;34m\u001b[0m\u001b[0m\n\u001b[1;32m     16\u001b[0m \u001b[0;34m\u001b[0m\u001b[0m\n\u001b[0;32m---> 17\u001b[0;31m         \u001b[0mX_batch\u001b[0m \u001b[0;34m=\u001b[0m \u001b[0mX_train\u001b[0m\u001b[0;34m[\u001b[0m\u001b[0mbatch_indexes\u001b[0m\u001b[0;34m]\u001b[0m\u001b[0;34m.\u001b[0m\u001b[0mto\u001b[0m\u001b[0;34m(\u001b[0m\u001b[0mdevice\u001b[0m\u001b[0;34m)\u001b[0m\u001b[0;34m\u001b[0m\u001b[0;34m\u001b[0m\u001b[0m\n\u001b[0m\u001b[1;32m     18\u001b[0m         \u001b[0my_batch\u001b[0m \u001b[0;34m=\u001b[0m \u001b[0my_train\u001b[0m\u001b[0;34m[\u001b[0m\u001b[0mbatch_indexes\u001b[0m\u001b[0;34m]\u001b[0m\u001b[0;34m.\u001b[0m\u001b[0mto\u001b[0m\u001b[0;34m(\u001b[0m\u001b[0mdevice\u001b[0m\u001b[0;34m)\u001b[0m\u001b[0;34m\u001b[0m\u001b[0;34m\u001b[0m\u001b[0m\n\u001b[1;32m     19\u001b[0m \u001b[0;34m\u001b[0m\u001b[0m\n",
            "\u001b[0;31mKeyboardInterrupt\u001b[0m: "
          ]
        }
      ]
    },
    {
      "cell_type": "code",
      "metadata": {
        "id": "53_h971d0bmN",
        "colab_type": "code",
        "outputId": "d1d74cde-a878-417e-fc12-70a02152f7cf",
        "colab": {
          "base_uri": "https://localhost:8080/",
          "height": 282
        }
      },
      "source": [
        "import matplotlib.pyplot as plt\n",
        "plt.plot(test_accuracy_history)\n"
      ],
      "execution_count": 15,
      "outputs": [
        {
          "output_type": "execute_result",
          "data": {
            "text/plain": [
              "[<matplotlib.lines.Line2D at 0x7fa8d1275eb8>]"
            ]
          },
          "metadata": {
            "tags": []
          },
          "execution_count": 15
        },
        {
          "output_type": "display_data",
          "data": {
            "image/png": "[encoded data removed]",
            "text/plain": [
              "<Figure size 432x288 with 1 Axes>"
            ]
          },
          "metadata": {
            "tags": []
          }
        }
      ]
    },
    {
      "cell_type": "code",
      "metadata": {
        "id": "i8-ZEwCT048p",
        "colab_type": "code",
        "outputId": "5e8efc9c-3ee8-48d3-83d9-06a5ae618889",
        "colab": {
          "base_uri": "https://localhost:8080/",
          "height": 282
        }
      },
      "source": [
        "plt.plot(test_loss_history)"
      ],
      "execution_count": 16,
      "outputs": [
        {
          "output_type": "execute_result",
          "data": {
            "text/plain": [
              "[<matplotlib.lines.Line2D at 0x7fa8d1260630>]"
            ]
          },
          "metadata": {
            "tags": []
          },
          "execution_count": 16
        },
        {
          "output_type": "display_data",
          "data": {
            "image/png": "[encoded data removed]",
            "text/plain": [
              "<Figure size 432x288 with 1 Axes>"
            ]
          },
          "metadata": {
            "tags": []
          }
        }
      ]
    },
    {
      "cell_type": "code",
      "metadata": {
        "id": "gmkPjFon_JmY",
        "colab_type": "code",
        "colab": {
          "base_uri": "https://localhost:8080/",
          "height": 642
        },
        "outputId": "14cd34c7-7eb6-4bb3-8712-9ce80aceeb99"
      },
      "source": [
        "batch_size = 100\n",
        "\n",
        "train_loss_history = []\n",
        "test_loss_history = []\n",
        "\n",
        "X_test = X_test.to(device)\n",
        "y_test = y_test.to(device)\n",
        "\n",
        "for epoch in range(10000):\n",
        "    order = np.random.permutation(len(X_train)) # перемешиваем эл-ты\n",
        "    \n",
        "    for start_index in range(0, len(X_train), batch_size):\n",
        "        optimizer.zero_grad()\n",
        "        \n",
        "        batch_indexes = order[start_index:start_index+batch_size]\n",
        "        \n",
        "        X_batch = X_train[batch_indexes].to(device)\n",
        "        y_batch = y_train[batch_indexes].to(device)\n",
        "        \n",
        "        preds = mnist_net.forward(X_batch) \n",
        "        \n",
        "        loss_value = loss(preds, y_batch)\n",
        "        loss_value.backward()\n",
        "\n",
        "        \n",
        "\n",
        "        optimizer.step()\n",
        "\n",
        "    train_loss_history.append(loss_value)\n",
        "    \n",
        "    test_preds = mnist_net.forward(X_test)\n",
        "    test_loss_history.append(loss(test_preds, y_test))  \n",
        "   \n",
        "    print(train_loss_history)"
      ],
      "execution_count": 37,
      "outputs": [
        {
          "output_type": "stream",
          "text": [
            "[tensor(0.0134, device='cuda:0', grad_fn=<NllLossBackward>)]\n",
            "[tensor(0.0134, device='cuda:0', grad_fn=<NllLossBackward>), tensor(0.1651, device='cuda:0', grad_fn=<NllLossBackward>)]\n",
            "[tensor(0.0134, device='cuda:0', grad_fn=<NllLossBackward>), tensor(0.1651, device='cuda:0', grad_fn=<NllLossBackward>), tensor(0.0560, device='cuda:0', grad_fn=<NllLossBackward>)]\n",
            "[tensor(0.0134, device='cuda:0', grad_fn=<NllLossBackward>), tensor(0.1651, device='cuda:0', grad_fn=<NllLossBackward>), tensor(0.0560, device='cuda:0', grad_fn=<NllLossBackward>), tensor(0.1855, device='cuda:0', grad_fn=<NllLossBackward>)]\n",
            "[tensor(0.0134, device='cuda:0', grad_fn=<NllLossBackward>), tensor(0.1651, device='cuda:0', grad_fn=<NllLossBackward>), tensor(0.0560, device='cuda:0', grad_fn=<NllLossBackward>), tensor(0.1855, device='cuda:0', grad_fn=<NllLossBackward>), tensor(0.1108, device='cuda:0', grad_fn=<NllLossBackward>)]\n",
            "[tensor(0.0134, device='cuda:0', grad_fn=<NllLossBackward>), tensor(0.1651, device='cuda:0', grad_fn=<NllLossBackward>), tensor(0.0560, device='cuda:0', grad_fn=<NllLossBackward>), tensor(0.1855, device='cuda:0', grad_fn=<NllLossBackward>), tensor(0.1108, device='cuda:0', grad_fn=<NllLossBackward>), tensor(0.1097, device='cuda:0', grad_fn=<NllLossBackward>)]\n",
            "[tensor(0.0134, device='cuda:0', grad_fn=<NllLossBackward>), tensor(0.1651, device='cuda:0', grad_fn=<NllLossBackward>), tensor(0.0560, device='cuda:0', grad_fn=<NllLossBackward>), tensor(0.1855, device='cuda:0', grad_fn=<NllLossBackward>), tensor(0.1108, device='cuda:0', grad_fn=<NllLossBackward>), tensor(0.1097, device='cuda:0', grad_fn=<NllLossBackward>), tensor(0.1782, device='cuda:0', grad_fn=<NllLossBackward>)]\n",
            "[tensor(0.0134, device='cuda:0', grad_fn=<NllLossBackward>), tensor(0.1651, device='cuda:0', grad_fn=<NllLossBackward>), tensor(0.0560, device='cuda:0', grad_fn=<NllLossBackward>), tensor(0.1855, device='cuda:0', grad_fn=<NllLossBackward>), tensor(0.1108, device='cuda:0', grad_fn=<NllLossBackward>), tensor(0.1097, device='cuda:0', grad_fn=<NllLossBackward>), tensor(0.1782, device='cuda:0', grad_fn=<NllLossBackward>), tensor(0.2501, device='cuda:0', grad_fn=<NllLossBackward>)]\n",
            "[tensor(0.0134, device='cuda:0', grad_fn=<NllLossBackward>), tensor(0.1651, device='cuda:0', grad_fn=<NllLossBackward>), tensor(0.0560, device='cuda:0', grad_fn=<NllLossBackward>), tensor(0.1855, device='cuda:0', grad_fn=<NllLossBackward>), tensor(0.1108, device='cuda:0', grad_fn=<NllLossBackward>), tensor(0.1097, device='cuda:0', grad_fn=<NllLossBackward>), tensor(0.1782, device='cuda:0', grad_fn=<NllLossBackward>), tensor(0.2501, device='cuda:0', grad_fn=<NllLossBackward>), tensor(0.1181, device='cuda:0', grad_fn=<NllLossBackward>)]\n",
            "[tensor(0.0134, device='cuda:0', grad_fn=<NllLossBackward>), tensor(0.1651, device='cuda:0', grad_fn=<NllLossBackward>), tensor(0.0560, device='cuda:0', grad_fn=<NllLossBackward>), tensor(0.1855, device='cuda:0', grad_fn=<NllLossBackward>), tensor(0.1108, device='cuda:0', grad_fn=<NllLossBackward>), tensor(0.1097, device='cuda:0', grad_fn=<NllLossBackward>), tensor(0.1782, device='cuda:0', grad_fn=<NllLossBackward>), tensor(0.2501, device='cuda:0', grad_fn=<NllLossBackward>), tensor(0.1181, device='cuda:0', grad_fn=<NllLossBackward>), tensor(0.1128, device='cuda:0', grad_fn=<NllLossBackward>)]\n",
            "[tensor(0.0134, device='cuda:0', grad_fn=<NllLossBackward>), tensor(0.1651, device='cuda:0', grad_fn=<NllLossBackward>), tensor(0.0560, device='cuda:0', grad_fn=<NllLossBackward>), tensor(0.1855, device='cuda:0', grad_fn=<NllLossBackward>), tensor(0.1108, device='cuda:0', grad_fn=<NllLossBackward>), tensor(0.1097, device='cuda:0', grad_fn=<NllLossBackward>), tensor(0.1782, device='cuda:0', grad_fn=<NllLossBackward>), tensor(0.2501, device='cuda:0', grad_fn=<NllLossBackward>), tensor(0.1181, device='cuda:0', grad_fn=<NllLossBackward>), tensor(0.1128, device='cuda:0', grad_fn=<NllLossBackward>), tensor(0.1388, device='cuda:0', grad_fn=<NllLossBackward>)]\n",
            "[tensor(0.0134, device='cuda:0', grad_fn=<NllLossBackward>), tensor(0.1651, device='cuda:0', grad_fn=<NllLossBackward>), tensor(0.0560, device='cuda:0', grad_fn=<NllLossBackward>), tensor(0.1855, device='cuda:0', grad_fn=<NllLossBackward>), tensor(0.1108, device='cuda:0', grad_fn=<NllLossBackward>), tensor(0.1097, device='cuda:0', grad_fn=<NllLossBackward>), tensor(0.1782, device='cuda:0', grad_fn=<NllLossBackward>), tensor(0.2501, device='cuda:0', grad_fn=<NllLossBackward>), tensor(0.1181, device='cuda:0', grad_fn=<NllLossBackward>), tensor(0.1128, device='cuda:0', grad_fn=<NllLossBackward>), tensor(0.1388, device='cuda:0', grad_fn=<NllLossBackward>), tensor(0.1043, device='cuda:0', grad_fn=<NllLossBackward>)]\n",
            "[tensor(0.0134, device='cuda:0', grad_fn=<NllLossBackward>), tensor(0.1651, device='cuda:0', grad_fn=<NllLossBackward>), tensor(0.0560, device='cuda:0', grad_fn=<NllLossBackward>), tensor(0.1855, device='cuda:0', grad_fn=<NllLossBackward>), tensor(0.1108, device='cuda:0', grad_fn=<NllLossBackward>), tensor(0.1097, device='cuda:0', grad_fn=<NllLossBackward>), tensor(0.1782, device='cuda:0', grad_fn=<NllLossBackward>), tensor(0.2501, device='cuda:0', grad_fn=<NllLossBackward>), tensor(0.1181, device='cuda:0', grad_fn=<NllLossBackward>), tensor(0.1128, device='cuda:0', grad_fn=<NllLossBackward>), tensor(0.1388, device='cuda:0', grad_fn=<NllLossBackward>), tensor(0.1043, device='cuda:0', grad_fn=<NllLossBackward>), tensor(0.0809, device='cuda:0', grad_fn=<NllLossBackward>)]\n",
            "[tensor(0.0134, device='cuda:0', grad_fn=<NllLossBackward>), tensor(0.1651, device='cuda:0', grad_fn=<NllLossBackward>), tensor(0.0560, device='cuda:0', grad_fn=<NllLossBackward>), tensor(0.1855, device='cuda:0', grad_fn=<NllLossBackward>), tensor(0.1108, device='cuda:0', grad_fn=<NllLossBackward>), tensor(0.1097, device='cuda:0', grad_fn=<NllLossBackward>), tensor(0.1782, device='cuda:0', grad_fn=<NllLossBackward>), tensor(0.2501, device='cuda:0', grad_fn=<NllLossBackward>), tensor(0.1181, device='cuda:0', grad_fn=<NllLossBackward>), tensor(0.1128, device='cuda:0', grad_fn=<NllLossBackward>), tensor(0.1388, device='cuda:0', grad_fn=<NllLossBackward>), tensor(0.1043, device='cuda:0', grad_fn=<NllLossBackward>), tensor(0.0809, device='cuda:0', grad_fn=<NllLossBackward>), tensor(0.1379, device='cuda:0', grad_fn=<NllLossBackward>)]\n",
            "[tensor(0.0134, device='cuda:0', grad_fn=<NllLossBackward>), tensor(0.1651, device='cuda:0', grad_fn=<NllLossBackward>), tensor(0.0560, device='cuda:0', grad_fn=<NllLossBackward>), tensor(0.1855, device='cuda:0', grad_fn=<NllLossBackward>), tensor(0.1108, device='cuda:0', grad_fn=<NllLossBackward>), tensor(0.1097, device='cuda:0', grad_fn=<NllLossBackward>), tensor(0.1782, device='cuda:0', grad_fn=<NllLossBackward>), tensor(0.2501, device='cuda:0', grad_fn=<NllLossBackward>), tensor(0.1181, device='cuda:0', grad_fn=<NllLossBackward>), tensor(0.1128, device='cuda:0', grad_fn=<NllLossBackward>), tensor(0.1388, device='cuda:0', grad_fn=<NllLossBackward>), tensor(0.1043, device='cuda:0', grad_fn=<NllLossBackward>), tensor(0.0809, device='cuda:0', grad_fn=<NllLossBackward>), tensor(0.1379, device='cuda:0', grad_fn=<NllLossBackward>), tensor(0.0724, device='cuda:0', grad_fn=<NllLossBackward>)]\n",
            "[tensor(0.0134, device='cuda:0', grad_fn=<NllLossBackward>), tensor(0.1651, device='cuda:0', grad_fn=<NllLossBackward>), tensor(0.0560, device='cuda:0', grad_fn=<NllLossBackward>), tensor(0.1855, device='cuda:0', grad_fn=<NllLossBackward>), tensor(0.1108, device='cuda:0', grad_fn=<NllLossBackward>), tensor(0.1097, device='cuda:0', grad_fn=<NllLossBackward>), tensor(0.1782, device='cuda:0', grad_fn=<NllLossBackward>), tensor(0.2501, device='cuda:0', grad_fn=<NllLossBackward>), tensor(0.1181, device='cuda:0', grad_fn=<NllLossBackward>), tensor(0.1128, device='cuda:0', grad_fn=<NllLossBackward>), tensor(0.1388, device='cuda:0', grad_fn=<NllLossBackward>), tensor(0.1043, device='cuda:0', grad_fn=<NllLossBackward>), tensor(0.0809, device='cuda:0', grad_fn=<NllLossBackward>), tensor(0.1379, device='cuda:0', grad_fn=<NllLossBackward>), tensor(0.0724, device='cuda:0', grad_fn=<NllLossBackward>), tensor(0.2062, device='cuda:0', grad_fn=<NllLossBackward>)]\n"
          ],
          "name": "stdout"
        },
        {
          "output_type": "error",
          "ename": "KeyboardInterrupt",
          "evalue": "ignored",
          "traceback": [
            "\u001b[0;31m---------------------------------------------------------------------------\u001b[0m",
            "\u001b[0;31mKeyboardInterrupt\u001b[0m                         Traceback (most recent call last)",
            "\u001b[0;32m<ipython-input-37-cf4587920fa9>\u001b[0m in \u001b[0;36m<module>\u001b[0;34m()\u001b[0m\n\u001b[1;32m     25\u001b[0m \u001b[0;34m\u001b[0m\u001b[0m\n\u001b[1;32m     26\u001b[0m \u001b[0;34m\u001b[0m\u001b[0m\n\u001b[0;32m---> 27\u001b[0;31m         \u001b[0moptimizer\u001b[0m\u001b[0;34m.\u001b[0m\u001b[0mstep\u001b[0m\u001b[0;34m(\u001b[0m\u001b[0;34m)\u001b[0m\u001b[0;34m\u001b[0m\u001b[0;34m\u001b[0m\u001b[0m\n\u001b[0m\u001b[1;32m     28\u001b[0m \u001b[0;34m\u001b[0m\u001b[0m\n\u001b[1;32m     29\u001b[0m     \u001b[0mtrain_loss_history\u001b[0m\u001b[0;34m.\u001b[0m\u001b[0mappend\u001b[0m\u001b[0;34m(\u001b[0m\u001b[0mloss_value\u001b[0m\u001b[0;34m)\u001b[0m\u001b[0;34m\u001b[0m\u001b[0;34m\u001b[0m\u001b[0m\n",
            "\u001b[0;32m/usr/local/lib/python3.6/dist-packages/torch/optim/adam.py\u001b[0m in \u001b[0;36mstep\u001b[0;34m(self, closure)\u001b[0m\n\u001b[1;32m     93\u001b[0m \u001b[0;34m\u001b[0m\u001b[0m\n\u001b[1;32m     94\u001b[0m                 \u001b[0;31m# Decay the first and second moment running average coefficient\u001b[0m\u001b[0;34m\u001b[0m\u001b[0;34m\u001b[0m\u001b[0;34m\u001b[0m\u001b[0m\n\u001b[0;32m---> 95\u001b[0;31m                 \u001b[0mexp_avg\u001b[0m\u001b[0;34m.\u001b[0m\u001b[0mmul_\u001b[0m\u001b[0;34m(\u001b[0m\u001b[0mbeta1\u001b[0m\u001b[0;34m)\u001b[0m\u001b[0;34m.\u001b[0m\u001b[0madd_\u001b[0m\u001b[0;34m(\u001b[0m\u001b[0;36m1\u001b[0m \u001b[0;34m-\u001b[0m \u001b[0mbeta1\u001b[0m\u001b[0;34m,\u001b[0m \u001b[0mgrad\u001b[0m\u001b[0;34m)\u001b[0m\u001b[0;34m\u001b[0m\u001b[0;34m\u001b[0m\u001b[0m\n\u001b[0m\u001b[1;32m     96\u001b[0m                 \u001b[0mexp_avg_sq\u001b[0m\u001b[0;34m.\u001b[0m\u001b[0mmul_\u001b[0m\u001b[0;34m(\u001b[0m\u001b[0mbeta2\u001b[0m\u001b[0;34m)\u001b[0m\u001b[0;34m.\u001b[0m\u001b[0maddcmul_\u001b[0m\u001b[0;34m(\u001b[0m\u001b[0;36m1\u001b[0m \u001b[0;34m-\u001b[0m \u001b[0mbeta2\u001b[0m\u001b[0;34m,\u001b[0m \u001b[0mgrad\u001b[0m\u001b[0;34m,\u001b[0m \u001b[0mgrad\u001b[0m\u001b[0;34m)\u001b[0m\u001b[0;34m\u001b[0m\u001b[0;34m\u001b[0m\u001b[0m\n\u001b[1;32m     97\u001b[0m                 \u001b[0;32mif\u001b[0m \u001b[0mamsgrad\u001b[0m\u001b[0;34m:\u001b[0m\u001b[0;34m\u001b[0m\u001b[0;34m\u001b[0m\u001b[0m\n",
            "\u001b[0;31mKeyboardInterrupt\u001b[0m: "
          ]
        }
      ]
    },
    {
      "cell_type": "code",
      "metadata": {
        "id": "GYqEjBtbEA8r",
        "colab_type": "code",
        "colab": {
          "base_uri": "https://localhost:8080/",
          "height": 282
        },
        "outputId": "367d11cd-a190-4b1d-b53e-451f7036865c"
      },
      "source": [
        "plt.plot(train_loss_history)"
      ],
      "execution_count": 38,
      "outputs": [
        {
          "output_type": "execute_result",
          "data": {
            "text/plain": [
              "[<matplotlib.lines.Line2D at 0x7fa8d0c7c0b8>]"
            ]
          },
          "metadata": {
            "tags": []
          },
          "execution_count": 38
        },
        {
          "output_type": "display_data",
          "data": {
            "image/png": "[encoded data removed]",
            "text/plain": [
              "<Figure size 432x288 with 1 Axes>"
            ]
          },
          "metadata": {
            "tags": []
          }
        }
      ]
    },
    {
      "cell_type": "code",
      "metadata": {
        "colab_type": "code",
        "id": "xitplqMNk_Hc",
        "outputId": "ed4f60d2-878d-4056-c438-352dac39a112",
        "colab": {
          "height": 420
        }
      },
      "source": [
        "#@title Introducing Colaboratory { display-mode: \"form\" }\n",
        "#@markdown This 3-minute video gives an overview of the key features of Colaboratory:\n",
        "from IPython.display import YouTubeVideo\n",
        "YouTubeVideo('inN8seMm7UI', width=600, height=400)"
      ],
      "execution_count": 0,
      "outputs": [
        {
          "output_type": "execute_result",
          "data": {
            "text/html": [
              "\n",
              "        <iframe\n",
              "            width=\"600\"\n",
              "            height=\"400\"\n",
              "            src=\"https://www.youtube.com/embed/inN8seMm7UI\"\n",
              "            frameborder=\"0\"\n",
              "            allowfullscreen\n",
              "        ></iframe>\n",
              "        "
            ],
            "text/plain": [
              "<IPython.lib.display.YouTubeVideo at 0x7f956e9dda50>"
            ]
          },
          "metadata": {
            "tags": []
          },
          "execution_count": 0
        }
      ]
    },
    {
      "cell_type": "markdown",
      "metadata": {
        "colab_type": "text",
        "id": "GJBs_flRovLc"
      },
      "source": [
        "## Getting Started\n",
        "\n",
        "The document you are reading is a  [Jupyter notebook](https://jupyter.org/), hosted in Colaboratory. It is not a static page, but an interactive environment that lets you write and execute code in Python and other languages.\n",
        "\n",
        "For example, here is a **code cell** with a short Python script that computes a value, stores it in a variable, and prints the result:"
      ]
    },
    {
      "cell_type": "code",
      "metadata": {
        "colab_type": "code",
        "id": "gJr_9dXGpJ05",
        "outputId": "5626194c-e802-4293-942d-2908885c3c1f",
        "colab": {
          "height": 35
        }
      },
      "source": [
        "seconds_in_a_day = 24 * 60 * 60\n",
        "seconds_in_a_day"
      ],
      "execution_count": 0,
      "outputs": [
        {
          "output_type": "execute_result",
          "data": {
            "text/plain": [
              "86400"
            ]
          },
          "metadata": {
            "tags": []
          },
          "execution_count": 0
        }
      ]
    },
    {
      "cell_type": "markdown",
      "metadata": {
        "colab_type": "text",
        "id": "2fhs6GZ4qFMx"
      },
      "source": [
        "To execute the code in the above cell, select it with a click and then either press the play button to the left of the code, or use the keyboard shortcut \"Command/Ctrl+Enter\".\n",
        "\n",
        "All cells modify the same global state, so variables that you define by executing a cell can be used in other cells:"
      ]
    },
    {
      "cell_type": "code",
      "metadata": {
        "colab_type": "code",
        "id": "-gE-Ez1qtyIA",
        "outputId": "8d2e4259-4682-4e19-b683-7b9087f28820",
        "colab": {
          "height": 35
        }
      },
      "source": [
        "seconds_in_a_week = 7 * seconds_in_a_day\n",
        "seconds_in_a_week"
      ],
      "execution_count": 0,
      "outputs": [
        {
          "output_type": "execute_result",
          "data": {
            "text/plain": [
              "604800"
            ]
          },
          "metadata": {
            "tags": []
          },
          "execution_count": 0
        }
      ]
    },
    {
      "cell_type": "markdown",
      "metadata": {
        "colab_type": "text",
        "id": "lSrWNr3MuFUS"
      },
      "source": [
        "For more information about working with Colaboratory notebooks, see [Overview of Colaboratory](/notebooks/basic_features_overview.ipynb).\n"
      ]
    },
    {
      "cell_type": "markdown",
      "metadata": {
        "colab_type": "text",
        "id": "-Rh3-Vt9Nev9"
      },
      "source": [
        "## More Resources\n",
        "\n",
        "Learn how to make the most of Python, Jupyter, Colaboratory, and related tools with these resources:\n",
        "\n",
        "### Working with Notebooks in Colaboratory\n",
        "- [Overview of Colaboratory](/notebooks/basic_features_overview.ipynb)\n",
        "- [Guide to Markdown](/notebooks/markdown_guide.ipynb)\n",
        "- [Importing libraries and installing dependencies](/notebooks/snippets/importing_libraries.ipynb)\n",
        "- [Saving and loading notebooks in GitHub](https://colab.research.google.com/github/googlecolab/colabtools/blob/master/notebooks/colab-github-demo.ipynb)\n",
        "- [Interactive forms](/notebooks/forms.ipynb)\n",
        "- [Interactive widgets](/notebooks/widgets.ipynb)\n",
        "- <img src=\"/img/new.png\" height=\"20px\" align=\"left\" hspace=\"4px\" alt=\"New\"></img>\n",
        " [TensorFlow 2 in Colab](/notebooks/tensorflow_version.ipynb)\n",
        "\n",
        "### Working with Data\n",
        "- [Loading data: Drive, Sheets, and Google Cloud Storage](/notebooks/io.ipynb) \n",
        "- [Charts: visualizing data](/notebooks/charts.ipynb)\n",
        "- [Getting started with BigQuery](/notebooks/bigquery.ipynb)\n",
        "\n",
        "### Machine Learning Crash Course\n",
        "These are a few of the notebooks from Google's online Machine Learning course. See the [full course website](https://developers.google.com/machine-learning/crash-course/) for more.\n",
        "- [Intro to Pandas](/notebooks/mlcc/intro_to_pandas.ipynb)\n",
        "- [Tensorflow concepts](/notebooks/mlcc/tensorflow_programming_concepts.ipynb)\n",
        "- [First steps with TensorFlow](/notebooks/mlcc/first_steps_with_tensor_flow.ipynb)\n",
        "- [Intro to neural nets](/notebooks/mlcc/intro_to_neural_nets.ipynb)\n",
        "- [Intro to sparse data and embeddings](/notebooks/mlcc/intro_to_sparse_data_and_embeddings.ipynb)\n",
        "\n",
        "### Using Accelerated Hardware\n",
        "- [TensorFlow with GPUs](/notebooks/gpu.ipynb)\n",
        "- [TensorFlow with TPUs](/notebooks/tpu.ipynb)"
      ]
    },
    {
      "cell_type": "markdown",
      "metadata": {
        "colab_type": "text",
        "id": "P-H6Lw1vyNNd"
      },
      "source": [
        "## Machine Learning Examples: Seedbank\n",
        "\n",
        "To see end-to-end examples of the interactive machine learning analyses that Colaboratory makes possible, check out the [Seedbank](https://research.google.com/seedbank/) project.\n",
        "\n",
        "A few featured examples:\n",
        "\n",
        "- [Neural Style Transfer](https://research.google.com/seedbank/seed/neural_style_transfer_with_tfkeras): Use deep learning to transfer style between images.\n",
        "- [EZ NSynth](https://research.google.com/seedbank/seed/ez_nsynth): Synthesize audio with WaveNet auto-encoders.\n",
        "- [Fashion MNIST with Keras and TPUs](https://research.google.com/seedbank/seed/fashion_mnist_with_keras_and_tpus): Classify fashion-related images with deep learning.\n",
        "- [DeepDream](https://research.google.com/seedbank/seed/deepdream): Produce DeepDream images from your own photos.\n",
        "- [Convolutional VAE](https://research.google.com/seedbank/seed/convolutional_vae): Create a generative model of handwritten digits."
      ]
    }
  ]
}